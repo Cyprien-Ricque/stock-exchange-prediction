{
 "cells": [
  {
   "cell_type": "markdown",
   "metadata": {
    "pycharm": {
     "name": "#%% md\n"
    }
   },
   "source": [
    "from : https://www.kaggle.com/code/lancezero/simple-leakage-submission-test/notebook?scriptVersionId=95129549"
   ]
  },
  {
   "cell_type": "code",
   "execution_count": 1,
   "metadata": {
    "execution": {
     "iopub.execute_input": "2022-05-09T17:01:25.545007Z",
     "iopub.status.busy": "2022-05-09T17:01:25.544669Z",
     "iopub.status.idle": "2022-05-09T17:01:25.572422Z",
     "shell.execute_reply": "2022-05-09T17:01:25.571769Z",
     "shell.execute_reply.started": "2022-05-09T17:01:25.544923Z"
    },
    "pycharm": {
     "name": "#%%\n"
    }
   },
   "outputs": [],
   "source": [
    "import pandas as pd\n",
    "import numpy as np"
   ]
  },
  {
   "cell_type": "code",
   "execution_count": 5,
   "metadata": {
    "execution": {
     "iopub.execute_input": "2022-05-09T17:01:25.574131Z",
     "iopub.status.busy": "2022-05-09T17:01:25.573787Z",
     "iopub.status.idle": "2022-05-09T17:01:25.671346Z",
     "shell.execute_reply": "2022-05-09T17:01:25.670697Z",
     "shell.execute_reply.started": "2022-05-09T17:01:25.574101Z"
    },
    "pycharm": {
     "name": "#%%\n"
    }
   },
   "outputs": [],
   "source": [
    "submission = pd.read_csv('data/jpx-tokyo-stock-exchange-prediction/example_test_files/sample_submission.csv')"
   ]
  },
  {
   "cell_type": "code",
   "execution_count": 6,
   "metadata": {
    "execution": {
     "iopub.execute_input": "2022-05-09T06:41:42.895356Z",
     "iopub.status.busy": "2022-05-09T06:41:42.89505Z",
     "iopub.status.idle": "2022-05-09T06:41:42.916908Z",
     "shell.execute_reply": "2022-05-09T06:41:42.916296Z",
     "shell.execute_reply.started": "2022-05-09T06:41:42.895327Z"
    },
    "pycharm": {
     "name": "#%%\n"
    }
   },
   "outputs": [
    {
     "data": {
      "text/plain": "         Date  SecuritiesCode  Rank\n0  2021-12-06            1301     0\n1  2021-12-06            1332     1",
      "text/html": "<div>\n<style scoped>\n    .dataframe tbody tr th:only-of-type {\n        vertical-align: middle;\n    }\n\n    .dataframe tbody tr th {\n        vertical-align: top;\n    }\n\n    .dataframe thead th {\n        text-align: right;\n    }\n</style>\n<table border=\"1\" class=\"dataframe\">\n  <thead>\n    <tr style=\"text-align: right;\">\n      <th></th>\n      <th>Date</th>\n      <th>SecuritiesCode</th>\n      <th>Rank</th>\n    </tr>\n  </thead>\n  <tbody>\n    <tr>\n      <th>0</th>\n      <td>2021-12-06</td>\n      <td>1301</td>\n      <td>0</td>\n    </tr>\n    <tr>\n      <th>1</th>\n      <td>2021-12-06</td>\n      <td>1332</td>\n      <td>1</td>\n    </tr>\n  </tbody>\n</table>\n</div>"
     },
     "execution_count": 6,
     "metadata": {},
     "output_type": "execute_result"
    }
   ],
   "source": [
    "submission.head(2)"
   ]
  },
  {
   "cell_type": "markdown",
   "metadata": {
    "pycharm": {
     "name": "#%% md\n"
    }
   },
   "source": [
    "### Experiments on sharp ratio"
   ]
  },
  {
   "cell_type": "code",
   "execution_count": 7,
   "metadata": {
    "execution": {
     "iopub.execute_input": "2022-05-09T06:52:01.176869Z",
     "iopub.status.busy": "2022-05-09T06:52:01.176591Z",
     "iopub.status.idle": "2022-05-09T06:52:01.183729Z",
     "shell.execute_reply": "2022-05-09T06:52:01.182282Z",
     "shell.execute_reply.started": "2022-05-09T06:52:01.176834Z"
    },
    "pycharm": {
     "name": "#%%\n"
    }
   },
   "outputs": [],
   "source": [
    "spread_return_1 = np.full(56, 12) + np.random.normal(loc=0,scale=1,size=56)\n",
    "spread_return_2 = np.full(56, 15) + np.random.normal(loc=0,scale=2,size=56)"
   ]
  },
  {
   "cell_type": "code",
   "execution_count": 8,
   "metadata": {
    "execution": {
     "iopub.execute_input": "2022-05-09T06:52:01.475662Z",
     "iopub.status.busy": "2022-05-09T06:52:01.474567Z",
     "iopub.status.idle": "2022-05-09T06:52:01.481689Z",
     "shell.execute_reply": "2022-05-09T06:52:01.480933Z",
     "shell.execute_reply.started": "2022-05-09T06:52:01.475574Z"
    },
    "pycharm": {
     "name": "#%%\n"
    }
   },
   "outputs": [
    {
     "data": {
      "text/plain": "(11.863156113194576, 14.860402503660664)"
     },
     "execution_count": 8,
     "metadata": {},
     "output_type": "execute_result"
    }
   ],
   "source": [
    "spread_return_1.mean(), spread_return_2.mean()"
   ]
  },
  {
   "cell_type": "code",
   "execution_count": 9,
   "metadata": {
    "execution": {
     "iopub.execute_input": "2022-05-09T06:52:01.624445Z",
     "iopub.status.busy": "2022-05-09T06:52:01.62415Z",
     "iopub.status.idle": "2022-05-09T06:52:01.631715Z",
     "shell.execute_reply": "2022-05-09T06:52:01.631201Z",
     "shell.execute_reply.started": "2022-05-09T06:52:01.624416Z"
    },
    "pycharm": {
     "name": "#%%\n"
    }
   },
   "outputs": [
    {
     "data": {
      "text/plain": "(1.1121528011893278, 1.8632714716831453)"
     },
     "execution_count": 9,
     "metadata": {},
     "output_type": "execute_result"
    }
   ],
   "source": [
    "spread_return_1.std(), spread_return_2.std()"
   ]
  },
  {
   "cell_type": "code",
   "execution_count": 10,
   "metadata": {
    "execution": {
     "iopub.execute_input": "2022-05-09T06:52:01.754567Z",
     "iopub.status.busy": "2022-05-09T06:52:01.754208Z",
     "iopub.status.idle": "2022-05-09T06:52:01.759646Z",
     "shell.execute_reply": "2022-05-09T06:52:01.758324Z",
     "shell.execute_reply.started": "2022-05-09T06:52:01.75454Z"
    },
    "pycharm": {
     "name": "#%%\n"
    }
   },
   "outputs": [],
   "source": [
    "sharp_ratio_1 = spread_return_1.mean() / spread_return_1.std()\n",
    "sharp_ratio_2 = spread_return_2.mean() / spread_return_2.std()"
   ]
  },
  {
   "cell_type": "code",
   "execution_count": 11,
   "metadata": {
    "execution": {
     "iopub.execute_input": "2022-05-09T06:52:01.912542Z",
     "iopub.status.busy": "2022-05-09T06:52:01.91228Z",
     "iopub.status.idle": "2022-05-09T06:52:01.918503Z",
     "shell.execute_reply": "2022-05-09T06:52:01.917442Z",
     "shell.execute_reply.started": "2022-05-09T06:52:01.912514Z"
    },
    "pycharm": {
     "name": "#%%\n"
    }
   },
   "outputs": [
    {
     "data": {
      "text/plain": "(10.666840114513226, 7.975436070105687)"
     },
     "execution_count": 11,
     "metadata": {},
     "output_type": "execute_result"
    }
   ],
   "source": [
    "sharp_ratio_1,sharp_ratio_2  "
   ]
  },
  {
   "cell_type": "markdown",
   "metadata": {
    "pycharm": {
     "name": "#%% md\n"
    }
   },
   "source": [
    "**We observe that even though the spread return of experiment 1 is lower, since its std is also lower, then its sharp ratio is better than exp. 2**"
   ]
  },
  {
   "cell_type": "code",
   "execution_count": 12,
   "metadata": {
    "pycharm": {
     "name": "#%%\n"
    }
   },
   "outputs": [],
   "source": [
    "\n",
    "def calc_spread_return_sharpe(df: pd.DataFrame, portfolio_size: int = 200, toprank_weight_ratio: float = 2) -> float:\n",
    "    \"\"\"\n",
    "    Args:\n",
    "        df (pd.DataFrame): predicted results\n",
    "        portfolio_size (int): # of equities to buy/sell\n",
    "        toprank_weight_ratio (float): the relative weight of the most highly ranked stock compared to the least.\n",
    "    Returns:\n",
    "        (float): sharpe ratio\n",
    "    \"\"\"\n",
    "\n",
    "    def _calc_spread_return_per_day(df, portfolio_size, toprank_weight_ratio):\n",
    "        \"\"\"\n",
    "        Args:\n",
    "            df (pd.DataFrame): predicted results\n",
    "            portfolio_size (int): # of equities to buy/sell\n",
    "            toprank_weight_ratio (float): the relative weight of the most highly ranked stock compared to the least.\n",
    "        Returns:\n",
    "            (float): spread return\n",
    "        \"\"\"\n",
    "        assert df['Rank'].min() == 0\n",
    "        assert df['Rank'].max() == len(df['Rank']) - 1\n",
    "        \n",
    "        weights = np.linspace(start=toprank_weight_ratio, stop=1, num=portfolio_size)\n",
    "        purchase = (df.sort_values(by='Rank')['Target'][:portfolio_size] * weights).sum() / weights.mean()\n",
    "        short = (df.sort_values(by='Rank', ascending=False)['Target'][:portfolio_size] * weights).sum() / weights.mean()\n",
    "        return purchase - short\n",
    "\n",
    "    buf = df.groupby('Date').apply(_calc_spread_return_per_day, portfolio_size, toprank_weight_ratio)\n",
    "    sharpe_ratio = buf.mean() / buf.std()\n",
    "    return sharpe_ratio\n"
   ]
  },
  {
   "cell_type": "markdown",
   "metadata": {
    "pycharm": {
     "name": "#%% md\n"
    }
   },
   "source": [
    "### supplemental_files"
   ]
  },
  {
   "cell_type": "code",
   "execution_count": 14,
   "metadata": {
    "execution": {
     "iopub.execute_input": "2022-05-09T07:40:30.420364Z",
     "iopub.status.busy": "2022-05-09T07:40:30.419741Z",
     "iopub.status.idle": "2022-05-09T07:40:30.775289Z",
     "shell.execute_reply": "2022-05-09T07:40:30.774407Z",
     "shell.execute_reply.started": "2022-05-09T07:40:30.42032Z"
    },
    "pycharm": {
     "name": "#%%\n"
    }
   },
   "outputs": [
    {
     "data": {
      "text/plain": "           RowId       Date  SecuritiesCode    Open    High     Low   Close  \\\n0  20211206_1301 2021-12-06            1301  2982.0  2982.0  2965.0  2971.0   \n1  20211206_1332 2021-12-06            1332   592.0   599.0   588.0   589.0   \n\n    Volume  AdjustmentFactor  ExpectedDividend  SupervisionFlag    Target  \n0     8900               1.0               NaN            False -0.003263  \n1  1360800               1.0               NaN            False -0.008993  ",
      "text/html": "<div>\n<style scoped>\n    .dataframe tbody tr th:only-of-type {\n        vertical-align: middle;\n    }\n\n    .dataframe tbody tr th {\n        vertical-align: top;\n    }\n\n    .dataframe thead th {\n        text-align: right;\n    }\n</style>\n<table border=\"1\" class=\"dataframe\">\n  <thead>\n    <tr style=\"text-align: right;\">\n      <th></th>\n      <th>RowId</th>\n      <th>Date</th>\n      <th>SecuritiesCode</th>\n      <th>Open</th>\n      <th>High</th>\n      <th>Low</th>\n      <th>Close</th>\n      <th>Volume</th>\n      <th>AdjustmentFactor</th>\n      <th>ExpectedDividend</th>\n      <th>SupervisionFlag</th>\n      <th>Target</th>\n    </tr>\n  </thead>\n  <tbody>\n    <tr>\n      <th>0</th>\n      <td>20211206_1301</td>\n      <td>2021-12-06</td>\n      <td>1301</td>\n      <td>2982.0</td>\n      <td>2982.0</td>\n      <td>2965.0</td>\n      <td>2971.0</td>\n      <td>8900</td>\n      <td>1.0</td>\n      <td>NaN</td>\n      <td>False</td>\n      <td>-0.003263</td>\n    </tr>\n    <tr>\n      <th>1</th>\n      <td>20211206_1332</td>\n      <td>2021-12-06</td>\n      <td>1332</td>\n      <td>592.0</td>\n      <td>599.0</td>\n      <td>588.0</td>\n      <td>589.0</td>\n      <td>1360800</td>\n      <td>1.0</td>\n      <td>NaN</td>\n      <td>False</td>\n      <td>-0.008993</td>\n    </tr>\n  </tbody>\n</table>\n</div>"
     },
     "execution_count": 14,
     "metadata": {},
     "output_type": "execute_result"
    }
   ],
   "source": [
    "df = pd.read_csv('data/jpx-tokyo-stock-exchange-prediction/supplemental_files/stock_prices.csv', parse_dates=[\"Date\"])\n",
    "df.head(2)"
   ]
  },
  {
   "cell_type": "code",
   "execution_count": 15,
   "metadata": {
    "execution": {
     "iopub.execute_input": "2022-05-09T07:02:50.892651Z",
     "iopub.status.busy": "2022-05-09T07:02:50.892376Z",
     "iopub.status.idle": "2022-05-09T07:02:50.898291Z",
     "shell.execute_reply": "2022-05-09T07:02:50.897775Z",
     "shell.execute_reply.started": "2022-05-09T07:02:50.892622Z"
    },
    "pycharm": {
     "name": "#%%\n"
    }
   },
   "outputs": [
    {
     "data": {
      "text/plain": "56"
     },
     "execution_count": 15,
     "metadata": {},
     "output_type": "execute_result"
    }
   ],
   "source": [
    "df['Date'].nunique()"
   ]
  },
  {
   "cell_type": "markdown",
   "metadata": {
    "pycharm": {
     "name": "#%% md\n"
    }
   },
   "source": [
    "### rank stocks by target, disregarding volatility, and consider the higher the return the better"
   ]
  },
  {
   "cell_type": "code",
   "execution_count": 16,
   "metadata": {
    "execution": {
     "iopub.execute_input": "2022-05-09T07:40:41.741072Z",
     "iopub.status.busy": "2022-05-09T07:40:41.740777Z",
     "iopub.status.idle": "2022-05-09T07:40:41.784891Z",
     "shell.execute_reply": "2022-05-09T07:40:41.784225Z",
     "shell.execute_reply.started": "2022-05-09T07:40:41.741038Z"
    },
    "pycharm": {
     "name": "#%%\n"
    }
   },
   "outputs": [],
   "source": [
    "df['Rank'] = df.groupby(\"Date\")[\"Target\"].rank(ascending=False, method=\"first\") - 1"
   ]
  },
  {
   "cell_type": "code",
   "execution_count": 17,
   "metadata": {
    "execution": {
     "iopub.execute_input": "2022-05-09T07:40:48.143472Z",
     "iopub.status.busy": "2022-05-09T07:40:48.14304Z",
     "iopub.status.idle": "2022-05-09T07:40:48.148461Z",
     "shell.execute_reply": "2022-05-09T07:40:48.147565Z",
     "shell.execute_reply.started": "2022-05-09T07:40:48.14344Z"
    },
    "pycharm": {
     "name": "#%%\n"
    }
   },
   "outputs": [
    {
     "data": {
      "text/plain": "           RowId       Date  SecuritiesCode    Open    High     Low   Close  \\\n0  20211206_1301 2021-12-06            1301  2982.0  2982.0  2965.0  2971.0   \n1  20211206_1332 2021-12-06            1332   592.0   599.0   588.0   589.0   \n2  20211206_1333 2021-12-06            1333  2368.0  2388.0  2360.0  2377.0   \n3  20211206_1375 2021-12-06            1375  1230.0  1239.0  1224.0  1224.0   \n4  20211206_1376 2021-12-06            1376  1339.0  1372.0  1339.0  1351.0   \n\n    Volume  AdjustmentFactor  ExpectedDividend  SupervisionFlag    Target  \\\n0     8900               1.0               NaN            False -0.003263   \n1  1360800               1.0               NaN            False -0.008993   \n2   125900               1.0               NaN            False -0.009963   \n3    81100               1.0               NaN            False -0.015032   \n4     6200               1.0               NaN            False  0.002867   \n\n   Rank  \n0  1394  \n1  1670  \n2  1712  \n3  1844  \n4   978  ",
      "text/html": "<div>\n<style scoped>\n    .dataframe tbody tr th:only-of-type {\n        vertical-align: middle;\n    }\n\n    .dataframe tbody tr th {\n        vertical-align: top;\n    }\n\n    .dataframe thead th {\n        text-align: right;\n    }\n</style>\n<table border=\"1\" class=\"dataframe\">\n  <thead>\n    <tr style=\"text-align: right;\">\n      <th></th>\n      <th>RowId</th>\n      <th>Date</th>\n      <th>SecuritiesCode</th>\n      <th>Open</th>\n      <th>High</th>\n      <th>Low</th>\n      <th>Close</th>\n      <th>Volume</th>\n      <th>AdjustmentFactor</th>\n      <th>ExpectedDividend</th>\n      <th>SupervisionFlag</th>\n      <th>Target</th>\n      <th>Rank</th>\n    </tr>\n  </thead>\n  <tbody>\n    <tr>\n      <th>0</th>\n      <td>20211206_1301</td>\n      <td>2021-12-06</td>\n      <td>1301</td>\n      <td>2982.0</td>\n      <td>2982.0</td>\n      <td>2965.0</td>\n      <td>2971.0</td>\n      <td>8900</td>\n      <td>1.0</td>\n      <td>NaN</td>\n      <td>False</td>\n      <td>-0.003263</td>\n      <td>1394</td>\n    </tr>\n    <tr>\n      <th>1</th>\n      <td>20211206_1332</td>\n      <td>2021-12-06</td>\n      <td>1332</td>\n      <td>592.0</td>\n      <td>599.0</td>\n      <td>588.0</td>\n      <td>589.0</td>\n      <td>1360800</td>\n      <td>1.0</td>\n      <td>NaN</td>\n      <td>False</td>\n      <td>-0.008993</td>\n      <td>1670</td>\n    </tr>\n    <tr>\n      <th>2</th>\n      <td>20211206_1333</td>\n      <td>2021-12-06</td>\n      <td>1333</td>\n      <td>2368.0</td>\n      <td>2388.0</td>\n      <td>2360.0</td>\n      <td>2377.0</td>\n      <td>125900</td>\n      <td>1.0</td>\n      <td>NaN</td>\n      <td>False</td>\n      <td>-0.009963</td>\n      <td>1712</td>\n    </tr>\n    <tr>\n      <th>3</th>\n      <td>20211206_1375</td>\n      <td>2021-12-06</td>\n      <td>1375</td>\n      <td>1230.0</td>\n      <td>1239.0</td>\n      <td>1224.0</td>\n      <td>1224.0</td>\n      <td>81100</td>\n      <td>1.0</td>\n      <td>NaN</td>\n      <td>False</td>\n      <td>-0.015032</td>\n      <td>1844</td>\n    </tr>\n    <tr>\n      <th>4</th>\n      <td>20211206_1376</td>\n      <td>2021-12-06</td>\n      <td>1376</td>\n      <td>1339.0</td>\n      <td>1372.0</td>\n      <td>1339.0</td>\n      <td>1351.0</td>\n      <td>6200</td>\n      <td>1.0</td>\n      <td>NaN</td>\n      <td>False</td>\n      <td>0.002867</td>\n      <td>978</td>\n    </tr>\n  </tbody>\n</table>\n</div>"
     },
     "execution_count": 17,
     "metadata": {},
     "output_type": "execute_result"
    }
   ],
   "source": [
    "df['Rank'] = df['Rank'].astype('int')\n",
    "df.head()"
   ]
  },
  {
   "cell_type": "markdown",
   "metadata": {
    "execution": {
     "iopub.execute_input": "2022-05-09T07:00:01.504415Z",
     "iopub.status.busy": "2022-05-09T07:00:01.503895Z",
     "iopub.status.idle": "2022-05-09T07:00:01.532841Z",
     "shell.execute_reply": "2022-05-09T07:00:01.531933Z",
     "shell.execute_reply.started": "2022-05-09T07:00:01.504382Z"
    },
    "pycharm": {
     "name": "#%% md\n"
    }
   },
   "source": [
    "**gives the column rank, which indicates the rank of each stock's target for each day among the 2000 stocks for that day.**"
   ]
  },
  {
   "cell_type": "markdown",
   "metadata": {
    "pycharm": {
     "name": "#%% md\n"
    }
   },
   "source": [
    "**But the submission is asking for the table to be sorted by date, and then within each date it is sorted by rank. From smallest to largest, from 0-1999**"
   ]
  },
  {
   "cell_type": "code",
   "execution_count": 18,
   "metadata": {
    "execution": {
     "iopub.execute_input": "2022-05-09T07:40:53.056103Z",
     "iopub.status.busy": "2022-05-09T07:40:53.055728Z",
     "iopub.status.idle": "2022-05-09T07:40:53.097586Z",
     "shell.execute_reply": "2022-05-09T07:40:53.096929Z",
     "shell.execute_reply.started": "2022-05-09T07:40:53.056055Z"
    },
    "pycharm": {
     "name": "#%%\n"
    }
   },
   "outputs": [
    {
     "data": {
      "text/plain": "              RowId       Date  SecuritiesCode    Open    High     Low  \\\n739   20211206_4699 2021-12-06            4699  2660.0  2660.0  2660.0   \n1278  20211206_7036 2021-12-06            7036  3800.0  3860.0  3730.0   \n\n       Close  Volume  AdjustmentFactor  ExpectedDividend  SupervisionFlag  \\\n739   2660.0    2900               1.0               NaN             True   \n1278  3765.0    1500               1.0               NaN            False   \n\n        Target  Rank  \n739   0.300633     0  \n1278  0.178344     1  ",
      "text/html": "<div>\n<style scoped>\n    .dataframe tbody tr th:only-of-type {\n        vertical-align: middle;\n    }\n\n    .dataframe tbody tr th {\n        vertical-align: top;\n    }\n\n    .dataframe thead th {\n        text-align: right;\n    }\n</style>\n<table border=\"1\" class=\"dataframe\">\n  <thead>\n    <tr style=\"text-align: right;\">\n      <th></th>\n      <th>RowId</th>\n      <th>Date</th>\n      <th>SecuritiesCode</th>\n      <th>Open</th>\n      <th>High</th>\n      <th>Low</th>\n      <th>Close</th>\n      <th>Volume</th>\n      <th>AdjustmentFactor</th>\n      <th>ExpectedDividend</th>\n      <th>SupervisionFlag</th>\n      <th>Target</th>\n      <th>Rank</th>\n    </tr>\n  </thead>\n  <tbody>\n    <tr>\n      <th>739</th>\n      <td>20211206_4699</td>\n      <td>2021-12-06</td>\n      <td>4699</td>\n      <td>2660.0</td>\n      <td>2660.0</td>\n      <td>2660.0</td>\n      <td>2660.0</td>\n      <td>2900</td>\n      <td>1.0</td>\n      <td>NaN</td>\n      <td>True</td>\n      <td>0.300633</td>\n      <td>0</td>\n    </tr>\n    <tr>\n      <th>1278</th>\n      <td>20211206_7036</td>\n      <td>2021-12-06</td>\n      <td>7036</td>\n      <td>3800.0</td>\n      <td>3860.0</td>\n      <td>3730.0</td>\n      <td>3765.0</td>\n      <td>1500</td>\n      <td>1.0</td>\n      <td>NaN</td>\n      <td>False</td>\n      <td>0.178344</td>\n      <td>1</td>\n    </tr>\n  </tbody>\n</table>\n</div>"
     },
     "execution_count": 18,
     "metadata": {},
     "output_type": "execute_result"
    }
   ],
   "source": [
    "df_submission = df.sort_values([\"Date\", \"Rank\"],ascending=True)\n",
    "df_submission.head(2)"
   ]
  },
  {
   "cell_type": "markdown",
   "metadata": {
    "pycharm": {
     "name": "#%% md\n"
    }
   },
   "source": [
    "and then look at the submission file, you need to sunmission file rank column and our prediction on the correspondence, that is, through the SecuritiesCode column, and then find each day corresponding to the date, df_submisson in the SecuritiesCode corresponding to the rank is how much."
   ]
  },
  {
   "cell_type": "code",
   "execution_count": 19,
   "metadata": {
    "execution": {
     "iopub.execute_input": "2022-05-09T07:23:23.82973Z",
     "iopub.status.busy": "2022-05-09T07:23:23.828916Z",
     "iopub.status.idle": "2022-05-09T07:23:23.842553Z",
     "shell.execute_reply": "2022-05-09T07:23:23.841254Z",
     "shell.execute_reply.started": "2022-05-09T07:23:23.82966Z"
    },
    "pycharm": {
     "name": "#%%\n"
    }
   },
   "outputs": [
    {
     "data": {
      "text/plain": "              Date  SecuritiesCode  Rank\n0       2021-12-06            1301     0\n1       2021-12-06            1332     1\n2       2021-12-06            1333     2\n3       2021-12-06            1375     3\n4       2021-12-06            1376     4\n...            ...             ...   ...\n111995  2022-02-28            9990  1995\n111996  2022-02-28            9991  1996\n111997  2022-02-28            9993  1997\n111998  2022-02-28            9994  1998\n111999  2022-02-28            9997  1999\n\n[112000 rows x 3 columns]",
      "text/html": "<div>\n<style scoped>\n    .dataframe tbody tr th:only-of-type {\n        vertical-align: middle;\n    }\n\n    .dataframe tbody tr th {\n        vertical-align: top;\n    }\n\n    .dataframe thead th {\n        text-align: right;\n    }\n</style>\n<table border=\"1\" class=\"dataframe\">\n  <thead>\n    <tr style=\"text-align: right;\">\n      <th></th>\n      <th>Date</th>\n      <th>SecuritiesCode</th>\n      <th>Rank</th>\n    </tr>\n  </thead>\n  <tbody>\n    <tr>\n      <th>0</th>\n      <td>2021-12-06</td>\n      <td>1301</td>\n      <td>0</td>\n    </tr>\n    <tr>\n      <th>1</th>\n      <td>2021-12-06</td>\n      <td>1332</td>\n      <td>1</td>\n    </tr>\n    <tr>\n      <th>2</th>\n      <td>2021-12-06</td>\n      <td>1333</td>\n      <td>2</td>\n    </tr>\n    <tr>\n      <th>3</th>\n      <td>2021-12-06</td>\n      <td>1375</td>\n      <td>3</td>\n    </tr>\n    <tr>\n      <th>4</th>\n      <td>2021-12-06</td>\n      <td>1376</td>\n      <td>4</td>\n    </tr>\n    <tr>\n      <th>...</th>\n      <td>...</td>\n      <td>...</td>\n      <td>...</td>\n    </tr>\n    <tr>\n      <th>111995</th>\n      <td>2022-02-28</td>\n      <td>9990</td>\n      <td>1995</td>\n    </tr>\n    <tr>\n      <th>111996</th>\n      <td>2022-02-28</td>\n      <td>9991</td>\n      <td>1996</td>\n    </tr>\n    <tr>\n      <th>111997</th>\n      <td>2022-02-28</td>\n      <td>9993</td>\n      <td>1997</td>\n    </tr>\n    <tr>\n      <th>111998</th>\n      <td>2022-02-28</td>\n      <td>9994</td>\n      <td>1998</td>\n    </tr>\n    <tr>\n      <th>111999</th>\n      <td>2022-02-28</td>\n      <td>9997</td>\n      <td>1999</td>\n    </tr>\n  </tbody>\n</table>\n<p>112000 rows × 3 columns</p>\n</div>"
     },
     "execution_count": 19,
     "metadata": {},
     "output_type": "execute_result"
    }
   ],
   "source": [
    "submission"
   ]
  },
  {
   "cell_type": "markdown",
   "metadata": {
    "pycharm": {
     "name": "#%% md\n"
    }
   },
   "source": [
    "### Calculate the score yourself first, theoretically we don't need to calculate it, the background will calculate it after submitting the file"
   ]
  },
  {
   "cell_type": "code",
   "execution_count": 20,
   "metadata": {
    "pycharm": {
     "name": "#%%\n"
    }
   },
   "outputs": [
    {
     "data": {
      "text/plain": "5.434704919895069"
     },
     "execution_count": 20,
     "metadata": {},
     "output_type": "execute_result"
    }
   ],
   "source": [
    "calc_spread_return_sharpe(df_submission)"
   ]
  },
  {
   "cell_type": "markdown",
   "metadata": {
    "pycharm": {
     "name": "#%% md\n"
    }
   },
   "source": [
    "### Submit to the system"
   ]
  },
  {
   "cell_type": "code",
   "execution_count": 21,
   "metadata": {
    "collapsed": true,
    "execution": {
     "iopub.execute_input": "2022-05-09T07:41:08.96692Z",
     "iopub.status.busy": "2022-05-09T07:41:08.966506Z",
     "iopub.status.idle": "2022-05-09T07:41:09.185049Z",
     "shell.execute_reply": "2022-05-09T07:41:09.184109Z",
     "shell.execute_reply.started": "2022-05-09T07:41:08.966888Z"
    },
    "pycharm": {
     "name": "#%%\n"
    }
   },
   "outputs": [
    {
     "ename": "ModuleNotFoundError",
     "evalue": "No module named 'jpx_tokyo_market_prediction'",
     "output_type": "error",
     "traceback": [
      "\u001B[0;31m---------------------------------------------------------------------------\u001B[0m",
      "\u001B[0;31mModuleNotFoundError\u001B[0m                       Traceback (most recent call last)",
      "Input \u001B[0;32mIn [21]\u001B[0m, in \u001B[0;36m<cell line: 1>\u001B[0;34m()\u001B[0m\n\u001B[0;32m----> 1\u001B[0m \u001B[38;5;28;01mimport\u001B[39;00m \u001B[38;5;21;01mjpx_tokyo_market_prediction\u001B[39;00m\n\u001B[1;32m      2\u001B[0m env \u001B[38;5;241m=\u001B[39m jpx_tokyo_market_prediction\u001B[38;5;241m.\u001B[39mmake_env()\n\u001B[1;32m      3\u001B[0m iter_test \u001B[38;5;241m=\u001B[39m env\u001B[38;5;241m.\u001B[39miter_test()\n",
      "\u001B[0;31mModuleNotFoundError\u001B[0m: No module named 'jpx_tokyo_market_prediction'"
     ]
    }
   ],
   "source": [
    "import jpx_tokyo_market_prediction\n",
    "env = jpx_tokyo_market_prediction.make_env()\n",
    "iter_test = env.iter_test()\n",
    "\n",
    "for prices, _, _, _, _, sample_prediction in iter_test:\n",
    "    day_df = df_submission[df_submission['Date'] == prices[\"Date\"].iloc[0]]\n",
    "    map_dict = day_df.set_index(\"SecuritiesCode\")[\"Rank\"]\n",
    "    sample_prediction[\"Rank\"] = sample_prediction.SecuritiesCode.map(map_dict)\n",
    "    env.predict(sample_prediction)"
   ]
  },
  {
   "cell_type": "code",
   "execution_count": null,
   "metadata": {
    "pycharm": {
     "name": "#%%\n"
    }
   },
   "outputs": [],
   "source": []
  }
 ],
 "metadata": {
  "kernelspec": {
   "display_name": "Python 3 (ipykernel)",
   "language": "python",
   "name": "python3"
  },
  "language_info": {
   "codemirror_mode": {
    "name": "ipython",
    "version": 3
   },
   "file_extension": ".py",
   "mimetype": "text/x-python",
   "name": "python",
   "nbconvert_exporter": "python",
   "pygments_lexer": "ipython3",
   "version": "3.8.12"
  }
 },
 "nbformat": 4,
 "nbformat_minor": 4
}