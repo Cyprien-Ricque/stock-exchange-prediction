{
 "cells": [
  {
   "cell_type": "code",
   "execution_count": 2,
   "metadata": {
    "pycharm": {
     "name": "#%%\n"
    }
   },
   "outputs": [
    {
     "name": "stderr",
     "output_type": "stream",
     "text": [
      "DEBUG:matplotlib.pyplot:Loaded backend module://matplotlib_inline.backend_inline version unknown.\n"
     ]
    },
    {
     "data": {
      "text/plain": "0it [00:00, ?it/s]",
      "application/vnd.jupyter.widget-view+json": {
       "version_major": 2,
       "version_minor": 0,
       "model_id": "d98dfee47f6e4133b6ad2ea1e609b769"
      }
     },
     "metadata": {},
     "output_type": "display_data"
    },
    {
     "name": "stderr",
     "output_type": "stream",
     "text": [
      "Global seed set to 42\n"
     ]
    },
    {
     "data": {
      "text/plain": "42"
     },
     "execution_count": 2,
     "metadata": {},
     "output_type": "execute_result"
    }
   ],
   "source": [
    "from pytorch_forecasting import Baseline, TemporalFusionTransformer, TimeSeriesDataSet\n",
    "from pytorch_forecasting.data import GroupNormalizer\n",
    "from pytorch_forecasting.metrics import SMAPE, PoissonLoss, QuantileLoss\n",
    "from pytorch_forecasting.models.temporal_fusion_transformer.tuning import optimize_hyperparameters\n",
    "\n",
    "import pytorch_lightning as pl\n",
    "from pytorch_lightning.callbacks import EarlyStopping, LearningRateMonitor\n",
    "from pytorch_lightning.loggers import TensorBoardLogger\n",
    "\n",
    "import pandas as pd\n",
    "import numpy as np\n",
    "\n",
    "import torch\n",
    "\n",
    "from sklearn.preprocessing import StandardScaler\n",
    "\n",
    "from utilities import *\n",
    "\n",
    "import seaborn as sns\n",
    "import matplotlib.pyplot as plt\n",
    "\n",
    "from datetime import datetime, timedelta\n",
    "from tqdm import tqdm, notebook\n",
    "\n",
    "%matplotlib inline\n",
    "sns.set_style(\"whitegrid\")\n",
    "notebook.tqdm().pandas()\n",
    "\n",
    "pl.seed_everything(42)"
   ]
  },
  {
   "cell_type": "code",
   "execution_count": 3,
   "metadata": {
    "pycharm": {
     "name": "#%%\n"
    }
   },
   "outputs": [
    {
     "data": {
      "text/plain": "{'device': 'cpu',\n 'seed': False,\n 'data': {'path': './data/'},\n 'model': {'name': 'gmm', 'path': './cache/', 'n_clusters': 4},\n 'optimizer': {'name': 'adam',\n  'epochs': 10,\n  'params': {'lr': 0.001, 'regularization': 0.0001}}}"
     },
     "execution_count": 3,
     "metadata": {},
     "output_type": "execute_result"
    }
   ],
   "source": [
    "config = load_config()\n",
    "config"
   ]
  },
  {
   "cell_type": "code",
   "execution_count": 4,
   "metadata": {
    "pycharm": {
     "name": "#%%\n"
    }
   },
   "outputs": [
    {
     "data": {
      "text/plain": "'./data/'"
     },
     "execution_count": 4,
     "metadata": {},
     "output_type": "execute_result"
    }
   ],
   "source": [
    "data_path = config['data']['path']\n",
    "data_path"
   ]
  },
  {
   "cell_type": "markdown",
   "metadata": {
    "pycharm": {
     "name": "#%% md\n"
    }
   },
   "source": [
    "## Stock prices"
   ]
  },
  {
   "cell_type": "code",
   "execution_count": 5,
   "metadata": {
    "pycharm": {
     "name": "#%%\n"
    }
   },
   "outputs": [
    {
     "data": {
      "text/plain": "           RowId       Date  SecuritiesCode    Open    High     Low   Close  \\\n0  20170104_1301 2017-01-04            1301  2734.0  2755.0  2730.0  2742.0   \n1  20170104_1332 2017-01-04            1332   568.0   576.0   563.0   571.0   \n\n    Volume  AdjustmentFactor  ExpectedDividend  SupervisionFlag    Target  \n0    31400               1.0               NaN            False  0.000730  \n1  2798500               1.0               NaN            False  0.012324  ",
      "text/html": "<div>\n<style scoped>\n    .dataframe tbody tr th:only-of-type {\n        vertical-align: middle;\n    }\n\n    .dataframe tbody tr th {\n        vertical-align: top;\n    }\n\n    .dataframe thead th {\n        text-align: right;\n    }\n</style>\n<table border=\"1\" class=\"dataframe\">\n  <thead>\n    <tr style=\"text-align: right;\">\n      <th></th>\n      <th>RowId</th>\n      <th>Date</th>\n      <th>SecuritiesCode</th>\n      <th>Open</th>\n      <th>High</th>\n      <th>Low</th>\n      <th>Close</th>\n      <th>Volume</th>\n      <th>AdjustmentFactor</th>\n      <th>ExpectedDividend</th>\n      <th>SupervisionFlag</th>\n      <th>Target</th>\n    </tr>\n  </thead>\n  <tbody>\n    <tr>\n      <th>0</th>\n      <td>20170104_1301</td>\n      <td>2017-01-04</td>\n      <td>1301</td>\n      <td>2734.0</td>\n      <td>2755.0</td>\n      <td>2730.0</td>\n      <td>2742.0</td>\n      <td>31400</td>\n      <td>1.0</td>\n      <td>NaN</td>\n      <td>False</td>\n      <td>0.000730</td>\n    </tr>\n    <tr>\n      <th>1</th>\n      <td>20170104_1332</td>\n      <td>2017-01-04</td>\n      <td>1332</td>\n      <td>568.0</td>\n      <td>576.0</td>\n      <td>563.0</td>\n      <td>571.0</td>\n      <td>2798500</td>\n      <td>1.0</td>\n      <td>NaN</td>\n      <td>False</td>\n      <td>0.012324</td>\n    </tr>\n  </tbody>\n</table>\n</div>"
     },
     "execution_count": 5,
     "metadata": {},
     "output_type": "execute_result"
    }
   ],
   "source": [
    "df = pd.read_csv(f'{data_path}/jpx-tokyo-stock-exchange-prediction/train_files/stock_prices.csv', parse_dates=[\"Date\"])\n",
    "df.head(2)"
   ]
  },
  {
   "cell_type": "code",
   "execution_count": 6,
   "outputs": [
    {
     "data": {
      "text/plain": "           RowId       Date  SecuritiesCode    Open    High     Low   Close  \\\n0  20211206_1301 2021-12-06            1301  2982.0  2982.0  2965.0  2971.0   \n1  20211206_1332 2021-12-06            1332   592.0   599.0   588.0   589.0   \n\n    Volume  AdjustmentFactor  ExpectedDividend  SupervisionFlag    Target  \n0     8900               1.0               NaN            False -0.003263  \n1  1360800               1.0               NaN            False -0.008993  ",
      "text/html": "<div>\n<style scoped>\n    .dataframe tbody tr th:only-of-type {\n        vertical-align: middle;\n    }\n\n    .dataframe tbody tr th {\n        vertical-align: top;\n    }\n\n    .dataframe thead th {\n        text-align: right;\n    }\n</style>\n<table border=\"1\" class=\"dataframe\">\n  <thead>\n    <tr style=\"text-align: right;\">\n      <th></th>\n      <th>RowId</th>\n      <th>Date</th>\n      <th>SecuritiesCode</th>\n      <th>Open</th>\n      <th>High</th>\n      <th>Low</th>\n      <th>Close</th>\n      <th>Volume</th>\n      <th>AdjustmentFactor</th>\n      <th>ExpectedDividend</th>\n      <th>SupervisionFlag</th>\n      <th>Target</th>\n    </tr>\n  </thead>\n  <tbody>\n    <tr>\n      <th>0</th>\n      <td>20211206_1301</td>\n      <td>2021-12-06</td>\n      <td>1301</td>\n      <td>2982.0</td>\n      <td>2982.0</td>\n      <td>2965.0</td>\n      <td>2971.0</td>\n      <td>8900</td>\n      <td>1.0</td>\n      <td>NaN</td>\n      <td>False</td>\n      <td>-0.003263</td>\n    </tr>\n    <tr>\n      <th>1</th>\n      <td>20211206_1332</td>\n      <td>2021-12-06</td>\n      <td>1332</td>\n      <td>592.0</td>\n      <td>599.0</td>\n      <td>588.0</td>\n      <td>589.0</td>\n      <td>1360800</td>\n      <td>1.0</td>\n      <td>NaN</td>\n      <td>False</td>\n      <td>-0.008993</td>\n    </tr>\n  </tbody>\n</table>\n</div>"
     },
     "execution_count": 6,
     "metadata": {},
     "output_type": "execute_result"
    }
   ],
   "source": [
    "df_test = pd.read_csv(f'{data_path}/jpx-tokyo-stock-exchange-prediction/supplemental_files/stock_prices.csv', parse_dates=[\"Date\"])\n",
    "df_test.head(2)"
   ],
   "metadata": {
    "collapsed": false,
    "pycharm": {
     "name": "#%%\n"
    }
   }
  },
  {
   "cell_type": "code",
   "execution_count": 7,
   "metadata": {
    "pycharm": {
     "name": "#%%\n"
    }
   },
   "outputs": [],
   "source": [
    "to_day_number = lambda x: x / 10 ** 9 / (24 * 60 * 60)\n",
    "\n",
    "df['Timestamp'] = to_day_number(df.Date.values.astype(np.int64)).astype(int)\n",
    "df_test['Timestamp'] = to_day_number(df_test.Date.values.astype(np.int64)).astype(int)\n",
    "\n",
    "df.SupervisionFlag = df.SupervisionFlag.astype('category')\n",
    "df.SecuritiesCode = df.SecuritiesCode.astype(str)\n",
    "\n",
    "df_test.SupervisionFlag = df_test.SupervisionFlag.astype('category')\n",
    "df_test.SecuritiesCode = df_test.SecuritiesCode.astype(str)"
   ]
  },
  {
   "cell_type": "markdown",
   "source": [
    "## Fill na"
   ],
   "metadata": {
    "collapsed": false,
    "pycharm": {
     "name": "#%% md\n"
    }
   }
  },
  {
   "cell_type": "code",
   "execution_count": 8,
   "metadata": {
    "pycharm": {
     "name": "#%%\n"
    }
   },
   "outputs": [
    {
     "data": {
      "text/plain": "RowId                     0\nDate                      0\nSecuritiesCode            0\nOpen                   7608\nHigh                   7608\nLow                    7608\nClose                  7608\nVolume                    0\nAdjustmentFactor          0\nExpectedDividend    2313666\nSupervisionFlag           0\nTarget                  238\nTimestamp                 0\ndtype: int64"
     },
     "execution_count": 8,
     "metadata": {},
     "output_type": "execute_result"
    }
   ],
   "source": [
    "df.isna().sum(axis=0)"
   ]
  },
  {
   "cell_type": "code",
   "execution_count": 9,
   "outputs": [
    {
     "data": {
      "text/plain": "RowId                    0\nDate                     0\nSecuritiesCode           0\nOpen                   284\nHigh                   284\nLow                    284\nClose                  284\nVolume                   0\nAdjustmentFactor         0\nExpectedDividend    111497\nSupervisionFlag          0\nTarget                   0\nTimestamp                0\ndtype: int64"
     },
     "execution_count": 9,
     "metadata": {},
     "output_type": "execute_result"
    }
   ],
   "source": [
    "df_test.isna().sum(axis=0)"
   ],
   "metadata": {
    "collapsed": false,
    "pycharm": {
     "name": "#%%\n"
    }
   }
  },
  {
   "cell_type": "code",
   "execution_count": 10,
   "metadata": {
    "pycharm": {
     "name": "#%%\n"
    }
   },
   "outputs": [
    {
     "name": "stdout",
     "output_type": "stream",
     "text": [
      "Missing targets train 238\n",
      "Missing targets test 0\n"
     ]
    }
   ],
   "source": [
    "print(f'Missing targets train {df.Target.isna().sum()}')\n",
    "df.dropna(subset=['Target'], inplace=True)\n",
    "print(f'Missing targets test {df_test.Target.isna().sum()}')\n",
    "df_test.dropna(subset=['Target'], inplace=True)"
   ]
  },
  {
   "cell_type": "code",
   "execution_count": 11,
   "metadata": {
    "pycharm": {
     "name": "#%%\n"
    }
   },
   "outputs": [],
   "source": [
    "df.ExpectedDividend.fillna(value=0, inplace=True)\n",
    "df.loc[:, ['Open', 'High', 'Low', 'Close']] = df.loc[:, ['Open', 'High', 'Low', 'Close']].fillna(method='ffill')\n",
    "df_test.ExpectedDividend.fillna(value=0, inplace=True)\n",
    "df_test.loc[:, ['Open', 'High', 'Low', 'Close']] = df_test.loc[:, ['Open', 'High', 'Low', 'Close']].fillna(method='ffill')"
   ]
  },
  {
   "cell_type": "code",
   "execution_count": 12,
   "metadata": {
    "pycharm": {
     "name": "#%%\n"
    }
   },
   "outputs": [
    {
     "data": {
      "text/plain": "False"
     },
     "execution_count": 12,
     "metadata": {},
     "output_type": "execute_result"
    }
   ],
   "source": [
    "df.isna().sum(axis=0).any()"
   ]
  },
  {
   "cell_type": "code",
   "execution_count": 13,
   "outputs": [
    {
     "data": {
      "text/plain": "False"
     },
     "execution_count": 13,
     "metadata": {},
     "output_type": "execute_result"
    }
   ],
   "source": [
    "df_test.isna().sum(axis=0).any()"
   ],
   "metadata": {
    "collapsed": false,
    "pycharm": {
     "name": "#%%\n"
    }
   }
  },
  {
   "cell_type": "markdown",
   "metadata": {
    "pycharm": {
     "name": "#%% md\n"
    }
   },
   "source": [
    "### Create dataset"
   ]
  },
  {
   "cell_type": "code",
   "execution_count": 14,
   "metadata": {
    "pycharm": {
     "name": "#%%\n"
    }
   },
   "outputs": [],
   "source": [
    "df_train = df.copy()\n",
    "df_train.sort_values(by=['SecuritiesCode', 'Timestamp'], inplace=True)\n",
    "df_train.reset_index(drop=True, inplace=True)\n",
    "\n",
    "df_test.sort_values(by=['SecuritiesCode', 'Timestamp'], inplace=True)\n",
    "df_test.reset_index(drop=True, inplace=True)"
   ]
  },
  {
   "cell_type": "code",
   "execution_count": null,
   "metadata": {
    "pycharm": {
     "name": "#%%\n",
     "is_executing": true
    }
   },
   "outputs": [],
   "source": [
    "max_prediction_length = 10\n",
    "min_prediction_length = 2  # For testing\n",
    "max_encoder_length = 30\n",
    "\n",
    "is_training = df_train.groupby('SecuritiesCode').apply(lambda x: x.Timestamp < (x.Timestamp.max() - max_prediction_length)).reset_index(drop=True)\n",
    "\n",
    "training = TimeSeriesDataSet(df_train[is_training], time_idx='Timestamp', target='Close', group_ids=['SecuritiesCode'],\n",
    "                             allow_missing_timesteps=True,\n",
    "                             static_categoricals=['SecuritiesCode'],\n",
    "                             time_varying_unknown_reals=['Open', 'High', 'Low', 'Close', 'Volume'],\n",
    "                             time_varying_unknown_categoricals=['SupervisionFlag'],\n",
    "                             time_varying_known_reals=['Timestamp'],\n",
    "                             # min_encoder_length=345,\n",
    "                             max_encoder_length=max_encoder_length,\n",
    "                             max_prediction_length=max_prediction_length,\n",
    "                             # scalers={col: DummyScaler() for col in  ['Open', 'High', 'Low', 'Close', 'Volume', 'AdjustmentFactor', 'ExpectedDividend']}\n",
    "                             # target_normalizer=GroupNormalizer(\n",
    "                             #     groups=['SecuritiesCode'], transformation=\"softplus\"\n",
    "                             # ),  # use softplus and normalize by group\n",
    "                             target_normalizer=None\n",
    "                             # add_relative_time_idx=True,\n",
    "                             # add_target_scales=True,\n",
    "                             # add_encoder_length=True,\n",
    ")\n"
   ]
  },
  {
   "cell_type": "code",
   "execution_count": null,
   "outputs": [],
   "source": [
    "training.get_parameters()"
   ],
   "metadata": {
    "collapsed": false,
    "pycharm": {
     "name": "#%%\n",
     "is_executing": true
    }
   }
  },
  {
   "cell_type": "code",
   "execution_count": 291,
   "outputs": [
    {
     "data": {
      "text/plain": "7394"
     },
     "execution_count": 291,
     "metadata": {},
     "output_type": "execute_result"
    }
   ],
   "source": [
    "import gc\n",
    "gc.collect()"
   ],
   "metadata": {
    "collapsed": false,
    "pycharm": {
     "name": "#%%\n"
    }
   }
  },
  {
   "cell_type": "code",
   "execution_count": 292,
   "outputs": [
    {
     "data": {
      "text/plain": "        Timestamp          RowId       Date SecuritiesCode    Open    High  \\\n0           18967  20211206_1301 2021-12-06           1301  2982.0  2982.0   \n1           18968  20211207_1301 2021-12-07           1301  2998.0  3065.0   \n2           18969  20211208_1301 2021-12-08           1301  3080.0  3080.0   \n3           18970  20211209_1301 2021-12-09           1301  3050.0  3085.0   \n4           18971  20211210_1301 2021-12-10           1301  3100.0  3105.0   \n...           ...            ...        ...            ...     ...     ...   \n115995      19047  20220224_9997 2022-02-24           9997   709.0   725.0   \n115996      19048  20220225_9997 2022-02-25           9997   725.0   738.0   \n115997      19051  20220228_9997 2022-02-28           9997   731.0   737.0   \n115998      19052              0 2022-03-01           9997     0.0     0.0   \n115999      19053              0 2022-03-02           9997     0.0     0.0   \n\n           Low   Close    Volume  AdjustmentFactor  ExpectedDividend  \\\n0       2965.0  2971.0    8900.0               1.0               0.0   \n1       2990.0  3065.0   19100.0               1.0               0.0   \n2       3035.0  3055.0   11600.0               1.0               0.0   \n3       3025.0  3085.0   11700.0               1.0               0.0   \n4       3050.0  3105.0   14700.0               1.0               0.0   \n...        ...     ...       ...               ...               ...   \n115995   708.0   719.0  195600.0               1.0               0.0   \n115996   724.0   733.0  170500.0               1.0               0.0   \n115997   726.0   734.0  288100.0               1.0               0.0   \n115998     0.0     0.0       0.0               1.0               0.0   \n115999     0.0     0.0       0.0               1.0               0.0   \n\n       SupervisionFlag    Target  \n0                False -0.003263  \n1                False  0.009820  \n2                False  0.006483  \n3                False -0.006441  \n4                False -0.008104  \n...                ...       ...  \n115995           False  0.001364  \n115996           False -0.001362  \n115997           False -0.030014  \n115998           False  0.000000  \n115999           False  0.000000  \n\n[116000 rows x 13 columns]",
      "text/html": "<div>\n<style scoped>\n    .dataframe tbody tr th:only-of-type {\n        vertical-align: middle;\n    }\n\n    .dataframe tbody tr th {\n        vertical-align: top;\n    }\n\n    .dataframe thead th {\n        text-align: right;\n    }\n</style>\n<table border=\"1\" class=\"dataframe\">\n  <thead>\n    <tr style=\"text-align: right;\">\n      <th></th>\n      <th>Timestamp</th>\n      <th>RowId</th>\n      <th>Date</th>\n      <th>SecuritiesCode</th>\n      <th>Open</th>\n      <th>High</th>\n      <th>Low</th>\n      <th>Close</th>\n      <th>Volume</th>\n      <th>AdjustmentFactor</th>\n      <th>ExpectedDividend</th>\n      <th>SupervisionFlag</th>\n      <th>Target</th>\n    </tr>\n  </thead>\n  <tbody>\n    <tr>\n      <th>0</th>\n      <td>18967</td>\n      <td>20211206_1301</td>\n      <td>2021-12-06</td>\n      <td>1301</td>\n      <td>2982.0</td>\n      <td>2982.0</td>\n      <td>2965.0</td>\n      <td>2971.0</td>\n      <td>8900.0</td>\n      <td>1.0</td>\n      <td>0.0</td>\n      <td>False</td>\n      <td>-0.003263</td>\n    </tr>\n    <tr>\n      <th>1</th>\n      <td>18968</td>\n      <td>20211207_1301</td>\n      <td>2021-12-07</td>\n      <td>1301</td>\n      <td>2998.0</td>\n      <td>3065.0</td>\n      <td>2990.0</td>\n      <td>3065.0</td>\n      <td>19100.0</td>\n      <td>1.0</td>\n      <td>0.0</td>\n      <td>False</td>\n      <td>0.009820</td>\n    </tr>\n    <tr>\n      <th>2</th>\n      <td>18969</td>\n      <td>20211208_1301</td>\n      <td>2021-12-08</td>\n      <td>1301</td>\n      <td>3080.0</td>\n      <td>3080.0</td>\n      <td>3035.0</td>\n      <td>3055.0</td>\n      <td>11600.0</td>\n      <td>1.0</td>\n      <td>0.0</td>\n      <td>False</td>\n      <td>0.006483</td>\n    </tr>\n    <tr>\n      <th>3</th>\n      <td>18970</td>\n      <td>20211209_1301</td>\n      <td>2021-12-09</td>\n      <td>1301</td>\n      <td>3050.0</td>\n      <td>3085.0</td>\n      <td>3025.0</td>\n      <td>3085.0</td>\n      <td>11700.0</td>\n      <td>1.0</td>\n      <td>0.0</td>\n      <td>False</td>\n      <td>-0.006441</td>\n    </tr>\n    <tr>\n      <th>4</th>\n      <td>18971</td>\n      <td>20211210_1301</td>\n      <td>2021-12-10</td>\n      <td>1301</td>\n      <td>3100.0</td>\n      <td>3105.0</td>\n      <td>3050.0</td>\n      <td>3105.0</td>\n      <td>14700.0</td>\n      <td>1.0</td>\n      <td>0.0</td>\n      <td>False</td>\n      <td>-0.008104</td>\n    </tr>\n    <tr>\n      <th>...</th>\n      <td>...</td>\n      <td>...</td>\n      <td>...</td>\n      <td>...</td>\n      <td>...</td>\n      <td>...</td>\n      <td>...</td>\n      <td>...</td>\n      <td>...</td>\n      <td>...</td>\n      <td>...</td>\n      <td>...</td>\n      <td>...</td>\n    </tr>\n    <tr>\n      <th>115995</th>\n      <td>19047</td>\n      <td>20220224_9997</td>\n      <td>2022-02-24</td>\n      <td>9997</td>\n      <td>709.0</td>\n      <td>725.0</td>\n      <td>708.0</td>\n      <td>719.0</td>\n      <td>195600.0</td>\n      <td>1.0</td>\n      <td>0.0</td>\n      <td>False</td>\n      <td>0.001364</td>\n    </tr>\n    <tr>\n      <th>115996</th>\n      <td>19048</td>\n      <td>20220225_9997</td>\n      <td>2022-02-25</td>\n      <td>9997</td>\n      <td>725.0</td>\n      <td>738.0</td>\n      <td>724.0</td>\n      <td>733.0</td>\n      <td>170500.0</td>\n      <td>1.0</td>\n      <td>0.0</td>\n      <td>False</td>\n      <td>-0.001362</td>\n    </tr>\n    <tr>\n      <th>115997</th>\n      <td>19051</td>\n      <td>20220228_9997</td>\n      <td>2022-02-28</td>\n      <td>9997</td>\n      <td>731.0</td>\n      <td>737.0</td>\n      <td>726.0</td>\n      <td>734.0</td>\n      <td>288100.0</td>\n      <td>1.0</td>\n      <td>0.0</td>\n      <td>False</td>\n      <td>-0.030014</td>\n    </tr>\n    <tr>\n      <th>115998</th>\n      <td>19052</td>\n      <td>0</td>\n      <td>2022-03-01</td>\n      <td>9997</td>\n      <td>0.0</td>\n      <td>0.0</td>\n      <td>0.0</td>\n      <td>0.0</td>\n      <td>0.0</td>\n      <td>1.0</td>\n      <td>0.0</td>\n      <td>False</td>\n      <td>0.000000</td>\n    </tr>\n    <tr>\n      <th>115999</th>\n      <td>19053</td>\n      <td>0</td>\n      <td>2022-03-02</td>\n      <td>9997</td>\n      <td>0.0</td>\n      <td>0.0</td>\n      <td>0.0</td>\n      <td>0.0</td>\n      <td>0.0</td>\n      <td>1.0</td>\n      <td>0.0</td>\n      <td>False</td>\n      <td>0.000000</td>\n    </tr>\n  </tbody>\n</table>\n<p>116000 rows × 13 columns</p>\n</div>"
     },
     "execution_count": 292,
     "metadata": {},
     "output_type": "execute_result"
    }
   ],
   "source": [
    "from IPython.display import display\n",
    "\n",
    "def add_2_days(x: pd.DataFrame):\n",
    "    a = x.loc[:, 'SecuritiesCode'].iloc[0]\n",
    "    x = x.copy().set_index('Timestamp', drop=True)\n",
    "    x = x.reindex(x.index.to_list() + [x.index.max() + 1, x.index.max() + 2])\n",
    "    x.reset_index(drop=False, inplace=True)\n",
    "    x.loc[:, 'SecuritiesCode'] = a\n",
    "    x.loc[:, 'AdjustmentFactor'] = 1.\n",
    "    x.loc[:, 'Date'] = pd.to_datetime(x.Timestamp, unit='d')\n",
    "    x.fillna(0, inplace=True)\n",
    "    return x\n",
    "\n",
    "df_test_ext = df_test.groupby('SecuritiesCode').apply(add_2_days).reset_index(drop=True)\n",
    "df_test_ext"
   ],
   "metadata": {
    "collapsed": false,
    "pycharm": {
     "name": "#%%\n"
    }
   }
  },
  {
   "cell_type": "code",
   "execution_count": 305,
   "outputs": [
    {
     "data": {
      "text/plain": "2"
     },
     "execution_count": 305,
     "metadata": {},
     "output_type": "execute_result"
    }
   ],
   "source": [
    "min_prediction_length"
   ],
   "metadata": {
    "collapsed": false,
    "pycharm": {
     "name": "#%%\n"
    }
   }
  },
  {
   "cell_type": "code",
   "execution_count": null,
   "outputs": [],
   "source": [],
   "metadata": {
    "collapsed": false,
    "pycharm": {
     "name": "#%%\n"
    }
   }
  },
  {
   "cell_type": "code",
   "execution_count": 306,
   "outputs": [],
   "source": [
    "# create validation set (predict=True) which means to predict the last max_prediction_length points in time\n",
    "# for each series\n",
    "df_train_test = pd.concat([df_train, df_test_ext]).sort_values(by=['SecuritiesCode', 'Timestamp']).reset_index(drop=True)\n",
    "\n",
    "\n",
    "testing = TimeSeriesDataSet.from_dataset(training, df_train_test, predict=False, stop_randomization=True, min_prediction_idx=df_test.Timestamp.min(), min_prediction_length=min_prediction_length)\n",
    "\n",
    "validation = TimeSeriesDataSet.from_dataset(training, df_train, predict=True, stop_randomization=True)\n",
    "\n",
    "# create dataloaders for model\n",
    "batch_size = 200  # set this between 32 to 128\n",
    "train_dataloader = training.to_dataloader(train=True, batch_size=batch_size, num_workers=0)\n",
    "val_dataloader = validation.to_dataloader(train=False, batch_size=batch_size * 10, num_workers=0)\n",
    "test_dataloader = testing.to_dataloader(train=False, batch_size=batch_size * 10, num_workers=12)"
   ],
   "metadata": {
    "collapsed": false,
    "pycharm": {
     "name": "#%%\n"
    }
   }
  },
  {
   "cell_type": "code",
   "execution_count": 289,
   "outputs": [],
   "source": [
    "import pickle\n",
    "\n",
    "pickle.dump((training, df_train_test[df_train_test.SecuritiesCode.isin(df_train_test.SecuritiesCode.unique()[:1])]), open( \"test.p\", \"wb\" ) )"
   ],
   "metadata": {
    "collapsed": false,
    "pycharm": {
     "name": "#%%\n"
    }
   }
  },
  {
   "cell_type": "code",
   "execution_count": null,
   "outputs": [],
   "source": [],
   "metadata": {
    "collapsed": false,
    "pycharm": {
     "name": "#%%\n"
    }
   }
  },
  {
   "cell_type": "markdown",
   "source": [
    "## Baseline Model"
   ],
   "metadata": {
    "collapsed": false,
    "pycharm": {
     "name": "#%% md\n"
    }
   }
  },
  {
   "cell_type": "markdown",
   "source": [
    "#### Test"
   ],
   "metadata": {
    "collapsed": false,
    "pycharm": {
     "name": "#%% md\n"
    }
   }
  },
  {
   "cell_type": "code",
   "execution_count": 294,
   "outputs": [
    {
     "data": {
      "text/plain": "1301    1260\n1332    1260\nName: SecuritiesCode, dtype: int64"
     },
     "execution_count": 294,
     "metadata": {},
     "output_type": "execute_result"
    }
   ],
   "source": [
    "df_train_test[df_train_test.SecuritiesCode.isin(df_train_test.SecuritiesCode.unique()[:2])].SecuritiesCode.value_counts()"
   ],
   "metadata": {
    "collapsed": false,
    "pycharm": {
     "name": "#%%\n"
    }
   }
  },
  {
   "cell_type": "code",
   "execution_count": 251,
   "outputs": [
    {
     "data": {
      "text/plain": "56"
     },
     "execution_count": 251,
     "metadata": {},
     "output_type": "execute_result"
    }
   ],
   "source": [
    "df_test_ext.Timestamp.unique().size - 2"
   ],
   "metadata": {
    "collapsed": false,
    "pycharm": {
     "name": "#%%\n"
    }
   }
  },
  {
   "cell_type": "code",
   "execution_count": 202,
   "outputs": [
    {
     "data": {
      "text/plain": "112000"
     },
     "execution_count": 202,
     "metadata": {},
     "output_type": "execute_result"
    }
   ],
   "source": [
    "e = df_train_test[df_train_test.Timestamp >= df_test.Timestamp.min()]\n",
    "(e.Date.unique().size - min_prediction_length) * e.SecuritiesCode.unique().size"
   ],
   "metadata": {
    "collapsed": false,
    "pycharm": {
     "name": "#%%\n"
    }
   }
  },
  {
   "cell_type": "code",
   "execution_count": 207,
   "outputs": [
    {
     "data": {
      "text/plain": "56"
     },
     "execution_count": 207,
     "metadata": {},
     "output_type": "execute_result"
    }
   ],
   "source": [
    "df_test.Timestamp.unique().size"
   ],
   "metadata": {
    "collapsed": false,
    "pycharm": {
     "name": "#%%\n"
    }
   }
  },
  {
   "cell_type": "code",
   "execution_count": null,
   "outputs": [],
   "source": [
    "test_dataloader = testing.to_dataloader(train=False, batch_size=batch_size * 10, num_workers=0)\n"
   ],
   "metadata": {
    "collapsed": false,
    "pycharm": {
     "name": "#%%\n"
    }
   }
  },
  {
   "cell_type": "code",
   "execution_count": null,
   "outputs": [],
   "source": [
    "a = [y for x, (y, weight) in tqdm(iter(test_dataloader))]"
   ],
   "metadata": {
    "collapsed": false,
    "pycharm": {
     "name": "#%%\n",
     "is_executing": true
    }
   }
  },
  {
   "cell_type": "code",
   "execution_count": 245,
   "outputs": [
    {
     "name": "stdout",
     "output_type": "stream",
     "text": [
      "torch.Size([166, 10])\n"
     ]
    }
   ],
   "source": [
    "for i in a:\n",
    "    print(i.shape)"
   ],
   "metadata": {
    "collapsed": false,
    "pycharm": {
     "name": "#%%\n"
    }
   }
  },
  {
   "cell_type": "code",
   "execution_count": 299,
   "outputs": [
    {
     "name": "stderr",
     "output_type": "stream",
     "text": [
      "83it [00:00, 801.33it/s]\n"
     ]
    }
   ],
   "source": [
    "a_ = [y for x, (y, weight) in tqdm(iter(testing))]"
   ],
   "metadata": {
    "collapsed": false,
    "pycharm": {
     "name": "#%%\n"
    }
   }
  },
  {
   "cell_type": "code",
   "execution_count": 300,
   "outputs": [
    {
     "name": "stdout",
     "output_type": "stream",
     "text": [
      "torch.Size([10])\n",
      "torch.Size([9])\n",
      "torch.Size([8])\n",
      "torch.Size([10])\n",
      "torch.Size([10])\n",
      "torch.Size([10])\n",
      "torch.Size([9])\n",
      "torch.Size([8])\n",
      "torch.Size([10])\n",
      "torch.Size([10])\n",
      "torch.Size([9])\n",
      "torch.Size([7])\n",
      "torch.Size([6])\n",
      "torch.Size([10])\n",
      "torch.Size([10])\n",
      "torch.Size([9])\n",
      "torch.Size([8])\n",
      "torch.Size([7])\n",
      "torch.Size([10])\n",
      "torch.Size([10])\n",
      "torch.Size([9])\n",
      "torch.Size([8])\n",
      "torch.Size([10])\n",
      "torch.Size([10])\n",
      "torch.Size([10])\n",
      "torch.Size([9])\n",
      "torch.Size([8])\n",
      "torch.Size([10])\n",
      "torch.Size([10])\n",
      "torch.Size([10])\n",
      "torch.Size([9])\n",
      "torch.Size([8])\n",
      "torch.Size([10])\n",
      "torch.Size([10])\n",
      "torch.Size([10])\n",
      "torch.Size([9])\n",
      "torch.Size([8])\n",
      "torch.Size([10])\n",
      "torch.Size([8])\n",
      "torch.Size([7])\n",
      "torch.Size([10])\n",
      "torch.Size([10])\n",
      "torch.Size([9])\n",
      "torch.Size([8])\n",
      "torch.Size([10])\n",
      "torch.Size([10])\n",
      "torch.Size([10])\n",
      "torch.Size([9])\n",
      "torch.Size([8])\n",
      "torch.Size([10])\n",
      "torch.Size([10])\n",
      "torch.Size([8])\n",
      "torch.Size([7])\n",
      "torch.Size([6])\n",
      "torch.Size([5])\n",
      "torch.Size([4])\n",
      "torch.Size([2])\n",
      "torch.Size([3])\n",
      "torch.Size([6])\n",
      "torch.Size([7])\n",
      "torch.Size([8])\n",
      "torch.Size([9])\n",
      "torch.Size([8])\n",
      "torch.Size([9])\n",
      "torch.Size([8])\n",
      "torch.Size([9])\n",
      "torch.Size([8])\n",
      "torch.Size([9])\n",
      "torch.Size([8])\n",
      "torch.Size([9])\n",
      "torch.Size([8])\n",
      "torch.Size([9])\n",
      "torch.Size([8])\n",
      "torch.Size([9])\n",
      "torch.Size([8])\n",
      "torch.Size([9])\n",
      "torch.Size([6])\n",
      "torch.Size([7])\n",
      "torch.Size([8])\n",
      "torch.Size([7])\n",
      "torch.Size([8])\n",
      "torch.Size([9])\n",
      "torch.Size([9])\n"
     ]
    }
   ],
   "source": [
    "for i in a_:\n",
    "    print(i.shape)"
   ],
   "metadata": {
    "collapsed": false,
    "pycharm": {
     "name": "#%%\n"
    }
   }
  },
  {
   "cell_type": "code",
   "execution_count": 301,
   "outputs": [
    {
     "name": "stdout",
     "output_type": "stream",
     "text": [
      "[3055. 3085. 3105. 3105. 3105. 3085. 3060. 3090. 3125. 3095.]\n",
      "[3085. 3105. 3105. 3105. 3085. 3060. 3090. 3125. 3095.]\n",
      "[3105. 3105. 3105. 3085. 3060. 3090. 3125. 3095.]\n",
      "[3105. 3105. 3085. 3060. 3090. 3125. 3095. 3095. 3095. 3020.]\n",
      "[3105. 3085. 3060. 3090. 3125. 3095. 3095. 3095. 3020. 3050.]\n",
      "[3090. 3125. 3095. 3095. 3095. 3020. 3050. 3060. 3050. 3025.]\n",
      "[3125. 3095. 3095. 3095. 3020. 3050. 3060. 3050. 3025.]\n",
      "[3095. 3095. 3095. 3020. 3050. 3060. 3050. 3025.]\n",
      "[3095. 3095. 3020. 3050. 3060. 3050. 3025. 3025. 3025. 3035.]\n",
      "[3095. 3020. 3050. 3060. 3050. 3025. 3025. 3025. 3035. 3095.]\n",
      "[3060. 3050. 3025. 3025. 3025. 3035. 3095. 3100. 3080.]\n",
      "[3025. 3025. 3025. 3035. 3095. 3100. 3080.]\n",
      "[3025. 3025. 3035. 3095. 3100. 3080.]\n",
      "[3025. 3035. 3095. 3100. 3080. 3080. 3080. 3080. 3080. 3085.]\n",
      "[3100. 3080. 3080. 3080. 3080. 3080. 3085. 3110. 3075. 3070.]\n",
      "[3080. 3080. 3080. 3080. 3080. 3085. 3110. 3075. 3070.]\n",
      "[3080. 3080. 3080. 3080. 3085. 3110. 3075. 3070.]\n",
      "[3080. 3080. 3080. 3085. 3110. 3075. 3070.]\n",
      "[3080. 3080. 3085. 3110. 3075. 3070. 3070. 3070. 3070. 3085.]\n",
      "[3110. 3075. 3070. 3070. 3070. 3070. 3085. 3110. 3100. 3105.]\n",
      "[3075. 3070. 3070. 3070. 3070. 3085. 3110. 3100. 3105.]\n",
      "[3070. 3070. 3070. 3070. 3085. 3110. 3100. 3105.]\n",
      "[3070. 3070. 3070. 3085. 3110. 3100. 3105. 3105. 3105. 3125.]\n",
      "[3070. 3070. 3085. 3110. 3100. 3105. 3105. 3105. 3125. 3115.]\n",
      "[3110. 3100. 3105. 3105. 3105. 3125. 3115. 3055. 3060. 3095.]\n",
      "[3100. 3105. 3105. 3105. 3125. 3115. 3055. 3060. 3095.]\n",
      "[3105. 3105. 3105. 3125. 3115. 3055. 3060. 3095.]\n",
      "[3105. 3105. 3125. 3115. 3055. 3060. 3095. 3095. 3095. 3145.]\n",
      "[3105. 3125. 3115. 3055. 3060. 3095. 3095. 3095. 3145. 3130.]\n",
      "[3055. 3060. 3095. 3095. 3095. 3145. 3130. 3130. 3110. 3095.]\n",
      "[3060. 3095. 3095. 3095. 3145. 3130. 3130. 3110. 3095.]\n",
      "[3095. 3095. 3095. 3145. 3130. 3130. 3110. 3095.]\n",
      "[3095. 3095. 3145. 3130. 3130. 3110. 3095. 3095. 3095. 3150.]\n",
      "[3095. 3145. 3130. 3130. 3110. 3095. 3095. 3095. 3150. 3165.]\n",
      "[3130. 3110. 3095. 3095. 3095. 3150. 3165. 3230. 3240. 3250.]\n",
      "[3110. 3095. 3095. 3095. 3150. 3165. 3230. 3240. 3250.]\n",
      "[3095. 3095. 3095. 3150. 3165. 3230. 3240. 3250.]\n",
      "[3095. 3095. 3150. 3165. 3230. 3240. 3250. 3250. 3250. 3170.]\n",
      "[3240. 3250. 3250. 3250. 3170. 3245. 3230. 3245.]\n",
      "[3250. 3250. 3250. 3170. 3245. 3230. 3245.]\n",
      "[3250. 3250. 3170. 3245. 3230. 3245. 3245. 3245. 3245. 3235.]\n",
      "[3250. 3170. 3245. 3230. 3245. 3245. 3245. 3245. 3235. 3215.]\n",
      "[3245. 3245. 3245. 3245. 3235. 3215. 3220. 3225. 3215.]\n",
      "[3245. 3245. 3245. 3235. 3215. 3220. 3225. 3215.]\n",
      "[3245. 3245. 3235. 3215. 3220. 3225. 3215. 3215. 3215. 3205.]\n",
      "[3245. 3235. 3215. 3220. 3225. 3215. 3215. 3215. 3205. 3200.]\n",
      "[3220. 3225. 3215. 3215. 3215. 3205. 3200. 3200. 3195. 3150.]\n",
      "[3225. 3215. 3215. 3215. 3205. 3200. 3200. 3195. 3150.]\n",
      "[3215. 3215. 3215. 3205. 3200. 3200. 3195. 3150.]\n",
      "[3215. 3215. 3205. 3200. 3200. 3195. 3150. 3150. 3150. 3265.]\n",
      "[3215. 3205. 3200. 3200. 3195. 3150. 3150. 3150. 3265.    0.]\n",
      "[3200. 3195. 3150. 3150. 3150. 3265.    0.    0.]\n",
      "[3195. 3150. 3150. 3150. 3265.    0.    0.]\n",
      "[3150. 3150. 3150. 3265.    0.    0.]\n",
      "[3150. 3150. 3265.    0.    0.]\n",
      "[3150. 3265.    0.    0.]\n",
      "[3055. 3085.]\n",
      "[3055. 3085. 3105.]\n",
      "[3055. 3085. 3105. 3105. 3105. 3085.]\n",
      "[3055. 3085. 3105. 3105. 3105. 3085. 3060.]\n",
      "[3055. 3085. 3105. 3105. 3105. 3085. 3060. 3090.]\n",
      "[3055. 3085. 3105. 3105. 3105. 3085. 3060. 3090. 3125.]\n",
      "[3090. 3125. 3095. 3095. 3095. 3020. 3050. 3060.]\n",
      "[3090. 3125. 3095. 3095. 3095. 3020. 3050. 3060. 3050.]\n",
      "[3060. 3050. 3025. 3025. 3025. 3035. 3095. 3100.]\n",
      "[3060. 3050. 3025. 3025. 3025. 3035. 3095. 3100. 3080.]\n",
      "[3100. 3080. 3080. 3080. 3080. 3080. 3085. 3110.]\n",
      "[3100. 3080. 3080. 3080. 3080. 3080. 3085. 3110. 3075.]\n",
      "[3110. 3075. 3070. 3070. 3070. 3070. 3085. 3110.]\n",
      "[3110. 3075. 3070. 3070. 3070. 3070. 3085. 3110. 3100.]\n",
      "[3110. 3100. 3105. 3105. 3105. 3125. 3115. 3055.]\n",
      "[3110. 3100. 3105. 3105. 3105. 3125. 3115. 3055. 3060.]\n",
      "[3055. 3060. 3095. 3095. 3095. 3145. 3130. 3130.]\n",
      "[3055. 3060. 3095. 3095. 3095. 3145. 3130. 3130. 3110.]\n",
      "[3130. 3110. 3095. 3095. 3095. 3150. 3165. 3230.]\n",
      "[3130. 3110. 3095. 3095. 3095. 3150. 3165. 3230. 3240.]\n",
      "[3240. 3250. 3250. 3250. 3170. 3245.]\n",
      "[3240. 3250. 3250. 3250. 3170. 3245. 3230.]\n",
      "[3240. 3250. 3250. 3250. 3170. 3245. 3230. 3245.]\n",
      "[3245. 3245. 3245. 3245. 3235. 3215. 3220.]\n",
      "[3245. 3245. 3245. 3245. 3235. 3215. 3220. 3225.]\n",
      "[3245. 3245. 3245. 3245. 3235. 3215. 3220. 3225. 3215.]\n",
      "[3220. 3225. 3215. 3215. 3215. 3205. 3200. 3200. 3195.]\n"
     ]
    }
   ],
   "source": [
    "for i in a_:\n",
    "    print(i.numpy())"
   ],
   "metadata": {
    "collapsed": false,
    "pycharm": {
     "name": "#%%\n"
    }
   }
  },
  {
   "cell_type": "code",
   "execution_count": 302,
   "outputs": [],
   "source": [
    "f = df_train_test.SecuritiesCode.isin(df_train_test.SecuritiesCode.unique()[:1])\n",
    "f &= (df_train_test.Timestamp >= df_test.Timestamp.min() - max_encoder_length)"
   ],
   "metadata": {
    "collapsed": false,
    "pycharm": {
     "name": "#%%\n"
    }
   }
  },
  {
   "cell_type": "code",
   "execution_count": 303,
   "outputs": [
    {
     "data": {
      "text/plain": "18967"
     },
     "execution_count": 303,
     "metadata": {},
     "output_type": "execute_result"
    }
   ],
   "source": [
    "df_test.Timestamp.min()"
   ],
   "metadata": {
    "collapsed": false,
    "pycharm": {
     "name": "#%%\n"
    }
   }
  },
  {
   "cell_type": "code",
   "execution_count": 304,
   "outputs": [
    {
     "data": {
      "text/plain": "       Close  Timestamp\n1183  3065.0      18939\n1184  3030.0      18940\n1185  3050.0      18941\n1186  3045.0      18942\n1187  3110.0      18943\n...      ...        ...\n1255  3195.0      19047\n1256  3150.0      19048\n1257  3265.0      19051\n1258     0.0      19052\n1259     0.0      19053\n\n[77 rows x 2 columns]",
      "text/html": "<div>\n<style scoped>\n    .dataframe tbody tr th:only-of-type {\n        vertical-align: middle;\n    }\n\n    .dataframe tbody tr th {\n        vertical-align: top;\n    }\n\n    .dataframe thead th {\n        text-align: right;\n    }\n</style>\n<table border=\"1\" class=\"dataframe\">\n  <thead>\n    <tr style=\"text-align: right;\">\n      <th></th>\n      <th>Close</th>\n      <th>Timestamp</th>\n    </tr>\n  </thead>\n  <tbody>\n    <tr>\n      <th>1183</th>\n      <td>3065.0</td>\n      <td>18939</td>\n    </tr>\n    <tr>\n      <th>1184</th>\n      <td>3030.0</td>\n      <td>18940</td>\n    </tr>\n    <tr>\n      <th>1185</th>\n      <td>3050.0</td>\n      <td>18941</td>\n    </tr>\n    <tr>\n      <th>1186</th>\n      <td>3045.0</td>\n      <td>18942</td>\n    </tr>\n    <tr>\n      <th>1187</th>\n      <td>3110.0</td>\n      <td>18943</td>\n    </tr>\n    <tr>\n      <th>...</th>\n      <td>...</td>\n      <td>...</td>\n    </tr>\n    <tr>\n      <th>1255</th>\n      <td>3195.0</td>\n      <td>19047</td>\n    </tr>\n    <tr>\n      <th>1256</th>\n      <td>3150.0</td>\n      <td>19048</td>\n    </tr>\n    <tr>\n      <th>1257</th>\n      <td>3265.0</td>\n      <td>19051</td>\n    </tr>\n    <tr>\n      <th>1258</th>\n      <td>0.0</td>\n      <td>19052</td>\n    </tr>\n    <tr>\n      <th>1259</th>\n      <td>0.0</td>\n      <td>19053</td>\n    </tr>\n  </tbody>\n</table>\n<p>77 rows × 2 columns</p>\n</div>"
     },
     "execution_count": 304,
     "metadata": {},
     "output_type": "execute_result"
    }
   ],
   "source": [
    "df_train_test.loc[f, ['Close', 'Timestamp']]"
   ],
   "metadata": {
    "collapsed": false,
    "pycharm": {
     "name": "#%%\n"
    }
   }
  },
  {
   "cell_type": "code",
   "execution_count": 259,
   "outputs": [
    {
     "data": {
      "text/plain": "86"
     },
     "execution_count": 259,
     "metadata": {},
     "output_type": "execute_result"
    }
   ],
   "source": [
    "df_test_ext.Timestamp.max() - df_test_ext.Timestamp.min()"
   ],
   "metadata": {
    "collapsed": false,
    "pycharm": {
     "name": "#%%\n"
    }
   }
  },
  {
   "cell_type": "code",
   "execution_count": 260,
   "outputs": [
    {
     "data": {
      "text/plain": "2"
     },
     "execution_count": 260,
     "metadata": {},
     "output_type": "execute_result"
    }
   ],
   "source": [
    "min_prediction_length"
   ],
   "metadata": {
    "collapsed": false,
    "pycharm": {
     "name": "#%%\n"
    }
   }
  },
  {
   "cell_type": "code",
   "execution_count": 276,
   "outputs": [
    {
     "name": "stdout",
     "output_type": "stream",
     "text": [
      "86\n"
     ]
    }
   ],
   "source": [
    "print(len(a_))"
   ],
   "metadata": {
    "collapsed": false,
    "pycharm": {
     "name": "#%%\n"
    }
   }
  },
  {
   "cell_type": "code",
   "execution_count": 235,
   "outputs": [
    {
     "data": {
      "text/plain": "224000"
     },
     "execution_count": 235,
     "metadata": {},
     "output_type": "execute_result"
    }
   ],
   "source": [
    "sum([i.shape[0] for i in a])"
   ],
   "metadata": {
    "collapsed": false,
    "pycharm": {
     "name": "#%%\n"
    }
   }
  },
  {
   "cell_type": "code",
   "execution_count": 185,
   "outputs": [
    {
     "data": {
      "text/plain": "(torch.Size([1280, 10]), torch.Size([1280, 10]), torch.Size([1280, 9]))"
     },
     "execution_count": 185,
     "metadata": {},
     "output_type": "execute_result"
    }
   ],
   "source": [
    "a[0].shape, a[1].shape, a[-1].shape"
   ],
   "metadata": {
    "collapsed": false,
    "pycharm": {
     "name": "#%%\n"
    }
   }
  },
  {
   "cell_type": "code",
   "execution_count": 188,
   "outputs": [
    {
     "data": {
      "text/plain": "224000"
     },
     "execution_count": 188,
     "metadata": {},
     "output_type": "execute_result"
    }
   ],
   "source": [
    "len(a)*1280"
   ],
   "metadata": {
    "collapsed": false,
    "pycharm": {
     "name": "#%%\n"
    }
   }
  },
  {
   "cell_type": "code",
   "execution_count": 190,
   "outputs": [
    {
     "data": {
      "text/plain": "112000"
     },
     "execution_count": 190,
     "metadata": {},
     "output_type": "execute_result"
    }
   ],
   "source": [
    "(df_test.Date.unique().size) * df_test.SecuritiesCode.unique().size"
   ],
   "metadata": {
    "collapsed": false,
    "pycharm": {
     "name": "#%%\n"
    }
   }
  },
  {
   "cell_type": "code",
   "execution_count": 182,
   "outputs": [
    {
     "name": "stderr",
     "output_type": "stream",
     "text": [
      "100%|██████████| 175/175 [07:01<00:00,  2.41s/it]\n"
     ]
    },
    {
     "ename": "RuntimeError",
     "evalue": "Sizes of tensors must match except in dimension 0. Expected size 10 but got size 9 for tensor number 121 in the list.",
     "output_type": "error",
     "traceback": [
      "\u001B[1;31m---------------------------------------------------------------------------\u001B[0m",
      "\u001B[1;31mRuntimeError\u001B[0m                              Traceback (most recent call last)",
      "Input \u001B[1;32mIn [182]\u001B[0m, in \u001B[0;36m<cell line: 1>\u001B[1;34m()\u001B[0m\n\u001B[1;32m----> 1\u001B[0m actuals \u001B[38;5;241m=\u001B[39m \u001B[43mtorch\u001B[49m\u001B[38;5;241;43m.\u001B[39;49m\u001B[43mcat\u001B[49m\u001B[43m(\u001B[49m\u001B[43m[\u001B[49m\u001B[43my\u001B[49m\u001B[43m \u001B[49m\u001B[38;5;28;43;01mfor\u001B[39;49;00m\u001B[43m \u001B[49m\u001B[43mx\u001B[49m\u001B[43m,\u001B[49m\u001B[43m \u001B[49m\u001B[43m(\u001B[49m\u001B[43my\u001B[49m\u001B[43m,\u001B[49m\u001B[43m \u001B[49m\u001B[43mweight\u001B[49m\u001B[43m)\u001B[49m\u001B[43m \u001B[49m\u001B[38;5;129;43;01min\u001B[39;49;00m\u001B[43m \u001B[49m\u001B[43mtqdm\u001B[49m\u001B[43m(\u001B[49m\u001B[38;5;28;43miter\u001B[39;49m\u001B[43m(\u001B[49m\u001B[43mtest_dataloader\u001B[49m\u001B[43m)\u001B[49m\u001B[43m)\u001B[49m\u001B[43m]\u001B[49m\u001B[43m)\u001B[49m\n\u001B[0;32m      2\u001B[0m baseline_predictions \u001B[38;5;241m=\u001B[39m Baseline()\u001B[38;5;241m.\u001B[39mpredict(test_dataloader)\n\u001B[0;32m      3\u001B[0m (actuals \u001B[38;5;241m-\u001B[39m baseline_predictions)\u001B[38;5;241m.\u001B[39mabs()\u001B[38;5;241m.\u001B[39mmean()\u001B[38;5;241m.\u001B[39mitem()\n",
      "\u001B[1;31mRuntimeError\u001B[0m: Sizes of tensors must match except in dimension 0. Expected size 10 but got size 9 for tensor number 121 in the list."
     ]
    }
   ],
   "source": [
    "actuals = torch.cat([y for x, (y, weight) in tqdm(iter(test_dataloader))])\n",
    "baseline_predictions = Baseline().predict(test_dataloader)\n",
    "(actuals - baseline_predictions).abs().mean().item()\n",
    "\n",
    "baseline_predictions_np = baseline_predictions.cpu().detach().numpy()\n",
    "actuals_np = actuals.cpu().detach().numpy()"
   ],
   "metadata": {
    "collapsed": false,
    "pycharm": {
     "name": "#%%\n"
    }
   }
  },
  {
   "cell_type": "code",
   "execution_count": 98,
   "outputs": [
    {
     "data": {
      "text/plain": "torch.Size([52000, 10])"
     },
     "execution_count": 98,
     "metadata": {},
     "output_type": "execute_result"
    }
   ],
   "source": [
    "baseline_predictions.shape"
   ],
   "metadata": {
    "collapsed": false,
    "pycharm": {
     "name": "#%%\n"
    }
   }
  },
  {
   "cell_type": "code",
   "execution_count": 101,
   "outputs": [
    {
     "data": {
      "text/plain": "torch.Size([52000, 10])"
     },
     "execution_count": 101,
     "metadata": {},
     "output_type": "execute_result"
    }
   ],
   "source": [
    "actuals.shape"
   ],
   "metadata": {
    "collapsed": false,
    "pycharm": {
     "name": "#%%\n"
    }
   }
  },
  {
   "cell_type": "code",
   "execution_count": 110,
   "outputs": [
    {
     "data": {
      "text/plain": "2000"
     },
     "execution_count": 110,
     "metadata": {},
     "output_type": "execute_result"
    }
   ],
   "source": [
    "df_test.SecuritiesCode.unique().size"
   ],
   "metadata": {
    "collapsed": false,
    "pycharm": {
     "name": "#%%\n"
    }
   }
  },
  {
   "cell_type": "code",
   "execution_count": 113,
   "outputs": [
    {
     "data": {
      "text/plain": "52000"
     },
     "execution_count": 113,
     "metadata": {},
     "output_type": "execute_result"
    }
   ],
   "source": [],
   "metadata": {
    "collapsed": false,
    "pycharm": {
     "name": "#%%\n"
    }
   }
  },
  {
   "cell_type": "code",
   "execution_count": 114,
   "outputs": [
    {
     "data": {
      "text/plain": "(10, 30)"
     },
     "execution_count": 114,
     "metadata": {},
     "output_type": "execute_result"
    }
   ],
   "source": [
    "max_prediction_length, max_encoder_length"
   ],
   "metadata": {
    "collapsed": false,
    "pycharm": {
     "name": "#%%\n"
    }
   }
  },
  {
   "cell_type": "code",
   "execution_count": 18,
   "outputs": [],
   "source": [
    "ts_max = df_test.Timestamp.max()\n",
    "s = ts_max - max_prediction_length\n",
    "base = np.arange(s+1, s+max_prediction_length+1)\n",
    "real = df_test[(df_test.Timestamp > ts_max - max_prediction_length) & (df_test.SecuritiesCode == '1301')]['Timestamp'][-max_prediction_length:]\n",
    "f = pd.Series(base).isin(real)\n",
    "\n",
    "df_test_res_baseline = df_test.copy()\n",
    "\n",
    "df_test_res_baseline['close_pred'] = np.nan\n",
    "df_test_res_baseline['close_true'] = np.nan\n",
    "df_test_res_baseline['target_t0_t-1_pred'] = np.nan\n",
    "df_test_res_baseline['target_t0_t-1_true'] = np.nan"
   ],
   "metadata": {
    "collapsed": false,
    "pycharm": {
     "name": "#%%\n"
    }
   }
  },
  {
   "cell_type": "code",
   "execution_count": 21,
   "outputs": [],
   "source": [
    "time_filter = df_test_res_baseline.Timestamp > ts_max - max_prediction_length\n",
    "\n",
    "df_test_res_baseline.loc[(time_filter), 'close_pred'] = baseline_predictions_np[:, f].astype(np.float64).flatten()\n",
    "df_test_res_baseline.loc[(time_filter), 'close_true'] = actuals_np[:, f].astype(np.float64).flatten()"
   ],
   "metadata": {
    "collapsed": false,
    "pycharm": {
     "name": "#%%\n"
    }
   }
  },
  {
   "cell_type": "code",
   "execution_count": 22,
   "outputs": [
    {
     "data": {
      "text/plain": "True"
     },
     "execution_count": 22,
     "metadata": {},
     "output_type": "execute_result"
    }
   ],
   "source": [
    "(df_test_res_baseline[df_test_res_baseline.close_true.notna()].Close == df_test_res_baseline[df_test_res_baseline.close_true.notna()].close_true).all()"
   ],
   "metadata": {
    "collapsed": false,
    "pycharm": {
     "name": "#%%\n"
    }
   }
  },
  {
   "cell_type": "code",
   "execution_count": 36,
   "outputs": [
    {
     "data": {
      "text/plain": "True"
     },
     "execution_count": 36,
     "metadata": {},
     "output_type": "execute_result"
    }
   ],
   "source": [
    "(df_test_res_baseline.groupby('SecuritiesCode').close_true.diff().astype(str) == df_test_res_baseline.groupby('SecuritiesCode').close_true.diff().reset_index(drop=True).astype(str)).all()"
   ],
   "metadata": {
    "collapsed": false,
    "pycharm": {
     "name": "#%%\n"
    }
   }
  },
  {
   "cell_type": "code",
   "execution_count": 34,
   "outputs": [
    {
     "data": {
      "text/plain": "0          NaN\n1          NaN\n2          NaN\n3          NaN\n4          NaN\n          ... \n111995     NaN\n111996    -6.0\n111997    -2.0\n111998    14.0\n111999     1.0\nName: close_true, Length: 112000, dtype: float64"
     },
     "execution_count": 34,
     "metadata": {},
     "output_type": "execute_result"
    }
   ],
   "source": [
    "df_test_res_baseline.groupby('SecuritiesCode').close_true.diff().reset_index(drop=True)"
   ],
   "metadata": {
    "collapsed": false,
    "pycharm": {
     "name": "#%%\n"
    }
   }
  },
  {
   "cell_type": "code",
   "execution_count": 56,
   "outputs": [],
   "source": [
    "df_test_res_baseline['target_t0_t-1_pred'] = df_test_res_baseline.groupby('SecuritiesCode').close_pred.diff().reset_index(drop=True)\n",
    "df_test_res_baseline['target_t0_t-1_true'] = df_test_res_baseline.groupby('SecuritiesCode').close_true.diff().reset_index(drop=True)"
   ],
   "metadata": {
    "collapsed": false,
    "pycharm": {
     "name": "#%%\n"
    }
   }
  },
  {
   "cell_type": "code",
   "execution_count": 67,
   "outputs": [],
   "source": [
    "df_test_res_baseline['target_t2_t1_pred'] = df_test_res_baseline['target_t0_t-1_pred'].shift(-2)\n",
    "df_test_res_baseline['target_t2_t1_true'] = df_test_res_baseline['target_t0_t-1_true'].shift(-2)\n",
    "\n",
    "df_test_res_baseline['target_pred'] = df_test_res_baseline['target_t2_t1_pred'] / df_test_res_baseline.close_pred.shift(-1)\n",
    "df_test_res_baseline['target_true'] = df_test_res_baseline['target_t2_t1_true'] / df_test_res_baseline.close_true.shift(-1)"
   ],
   "metadata": {
    "collapsed": false,
    "pycharm": {
     "name": "#%%\n"
    }
   }
  },
  {
   "cell_type": "code",
   "execution_count": 69,
   "outputs": [
    {
     "data": {
      "text/plain": "30"
     },
     "execution_count": 69,
     "metadata": {},
     "output_type": "execute_result"
    }
   ],
   "source": [
    "max_encoder_length"
   ],
   "metadata": {
    "collapsed": false,
    "pycharm": {
     "name": "#%%\n"
    }
   }
  },
  {
   "cell_type": "code",
   "execution_count": 68,
   "outputs": [
    {
     "data": {
      "text/plain": "                    target_t0_t-1_pred  target_t0_t-1_true  target_t2_t1_pred  \\\n0                                  NaN                 NaN                NaN   \n1                                  NaN                 NaN                NaN   \n2                                  NaN                 NaN                NaN   \n3                                  NaN                 NaN                NaN   \n4                                  NaN                 NaN                NaN   \n...                                ...                 ...                ...   \n111999                             0.0                 1.0                NaN   \ntarget_t0_t-1_pred                 NaN                 NaN                NaN   \ntarget_t0_t-1_true                 NaN                 NaN                NaN   \ntarget_t2_t1_pred                  NaN                 NaN                NaN   \ntarget_t2_t1_true                  NaN                 NaN                NaN   \n\n                    target_t2_t1_true    Target  target_pred  target_true  \n0                                 NaN -0.003263          NaN          NaN  \n1                                 NaN  0.009820          NaN          NaN  \n2                                 NaN  0.006483          NaN          NaN  \n3                                 NaN -0.006441          NaN          NaN  \n4                                 NaN -0.008104          NaN          NaN  \n...                               ...       ...          ...          ...  \n111999                            NaN -0.030014          NaN          NaN  \ntarget_t0_t-1_pred                NaN       NaN          NaN          NaN  \ntarget_t0_t-1_true                NaN       NaN          NaN          NaN  \ntarget_t2_t1_pred                 NaN       NaN          NaN          NaN  \ntarget_t2_t1_true                 NaN       NaN          NaN          NaN  \n\n[112004 rows x 7 columns]",
      "text/html": "<div>\n<style scoped>\n    .dataframe tbody tr th:only-of-type {\n        vertical-align: middle;\n    }\n\n    .dataframe tbody tr th {\n        vertical-align: top;\n    }\n\n    .dataframe thead th {\n        text-align: right;\n    }\n</style>\n<table border=\"1\" class=\"dataframe\">\n  <thead>\n    <tr style=\"text-align: right;\">\n      <th></th>\n      <th>target_t0_t-1_pred</th>\n      <th>target_t0_t-1_true</th>\n      <th>target_t2_t1_pred</th>\n      <th>target_t2_t1_true</th>\n      <th>Target</th>\n      <th>target_pred</th>\n      <th>target_true</th>\n    </tr>\n  </thead>\n  <tbody>\n    <tr>\n      <th>0</th>\n      <td>NaN</td>\n      <td>NaN</td>\n      <td>NaN</td>\n      <td>NaN</td>\n      <td>-0.003263</td>\n      <td>NaN</td>\n      <td>NaN</td>\n    </tr>\n    <tr>\n      <th>1</th>\n      <td>NaN</td>\n      <td>NaN</td>\n      <td>NaN</td>\n      <td>NaN</td>\n      <td>0.009820</td>\n      <td>NaN</td>\n      <td>NaN</td>\n    </tr>\n    <tr>\n      <th>2</th>\n      <td>NaN</td>\n      <td>NaN</td>\n      <td>NaN</td>\n      <td>NaN</td>\n      <td>0.006483</td>\n      <td>NaN</td>\n      <td>NaN</td>\n    </tr>\n    <tr>\n      <th>3</th>\n      <td>NaN</td>\n      <td>NaN</td>\n      <td>NaN</td>\n      <td>NaN</td>\n      <td>-0.006441</td>\n      <td>NaN</td>\n      <td>NaN</td>\n    </tr>\n    <tr>\n      <th>4</th>\n      <td>NaN</td>\n      <td>NaN</td>\n      <td>NaN</td>\n      <td>NaN</td>\n      <td>-0.008104</td>\n      <td>NaN</td>\n      <td>NaN</td>\n    </tr>\n    <tr>\n      <th>...</th>\n      <td>...</td>\n      <td>...</td>\n      <td>...</td>\n      <td>...</td>\n      <td>...</td>\n      <td>...</td>\n      <td>...</td>\n    </tr>\n    <tr>\n      <th>111999</th>\n      <td>0.0</td>\n      <td>1.0</td>\n      <td>NaN</td>\n      <td>NaN</td>\n      <td>-0.030014</td>\n      <td>NaN</td>\n      <td>NaN</td>\n    </tr>\n    <tr>\n      <th>target_t0_t-1_pred</th>\n      <td>NaN</td>\n      <td>NaN</td>\n      <td>NaN</td>\n      <td>NaN</td>\n      <td>NaN</td>\n      <td>NaN</td>\n      <td>NaN</td>\n    </tr>\n    <tr>\n      <th>target_t0_t-1_true</th>\n      <td>NaN</td>\n      <td>NaN</td>\n      <td>NaN</td>\n      <td>NaN</td>\n      <td>NaN</td>\n      <td>NaN</td>\n      <td>NaN</td>\n    </tr>\n    <tr>\n      <th>target_t2_t1_pred</th>\n      <td>NaN</td>\n      <td>NaN</td>\n      <td>NaN</td>\n      <td>NaN</td>\n      <td>NaN</td>\n      <td>NaN</td>\n      <td>NaN</td>\n    </tr>\n    <tr>\n      <th>target_t2_t1_true</th>\n      <td>NaN</td>\n      <td>NaN</td>\n      <td>NaN</td>\n      <td>NaN</td>\n      <td>NaN</td>\n      <td>NaN</td>\n      <td>NaN</td>\n    </tr>\n  </tbody>\n</table>\n<p>112004 rows × 7 columns</p>\n</div>"
     },
     "execution_count": 68,
     "metadata": {},
     "output_type": "execute_result"
    }
   ],
   "source": [
    "df_test_res_baseline.loc[:, ['target_t0_t-1_pred', 'target_t0_t-1_true', 'target_t2_t1_pred', 'target_t2_t1_true', 'Target', 'target_pred', 'target_true']]"
   ],
   "metadata": {
    "collapsed": false,
    "pycharm": {
     "name": "#%%\n"
    }
   }
  },
  {
   "cell_type": "code",
   "execution_count": 63,
   "outputs": [
    {
     "data": {
      "text/plain": "                RowId       Date SecuritiesCode    Open    High     Low  \\\n49      20220221_1301 2022-02-21           1301  3200.0  3215.0  3190.0   \n50      20220222_1301 2022-02-22           1301  3205.0  3215.0  3190.0   \n51      20220224_1301 2022-02-24           1301  3195.0  3205.0  3175.0   \n52      20220225_1301 2022-02-25           1301  3160.0  3185.0  3135.0   \n53      20220228_1301 2022-02-28           1301  3180.0  3265.0  3170.0   \n...               ...        ...            ...     ...     ...     ...   \n107995  20220221_9997 2022-02-21           9997   725.0   729.0   719.0   \n107996  20220222_9997 2022-02-22           9997   719.0   723.0   711.0   \n107997  20220224_9997 2022-02-24           9997   709.0   725.0   708.0   \n107998  20220225_9997 2022-02-25           9997   725.0   738.0   724.0   \n107999  20220228_9997 2022-02-28           9997   731.0   737.0   726.0   \n\n         Close  Volume  AdjustmentFactor  ExpectedDividend SupervisionFlag  \\\n49      3205.0   10300               1.0               0.0           False   \n50      3200.0    9800               1.0               0.0           False   \n51      3195.0   15200               1.0               0.0           False   \n52      3150.0   22200               1.0               0.0           False   \n53      3265.0   28700               1.0               0.0           False   \n...        ...     ...               ...               ...             ...   \n107995   727.0  116400               1.0               0.0           False   \n107996   721.0  225500               1.0               0.0           False   \n107997   719.0  195600               1.0               0.0           False   \n107998   733.0  170500               1.0               0.0           False   \n107999   734.0  288100               1.0               0.0           False   \n\n          Target  Timestamp  target_t0_t-1  target_t0_t-1_pred  \\\n49     -0.001563      19044      -0.003110           -0.003101   \n50     -0.014085      19045      -0.001560           -0.003101   \n51      0.036508      19047      -0.001563           -0.003101   \n52     -0.004594      19048      -0.014085           -0.003101   \n53     -0.007692      19051       0.036508           -0.003101   \n...          ...        ...            ...                 ...   \n107995 -0.002774      19044      -0.012228            0.015172   \n107996  0.019471      19045      -0.008253            0.015172   \n107997  0.001364      19047      -0.002774            0.015172   \n107998 -0.001362      19048       0.019471            0.015172   \n107999 -0.030014      19051       0.001364            0.015172   \n\n        target_t0_t-1_true  \n49               -0.003110  \n50               -0.001560  \n51               -0.001563  \n52               -0.014085  \n53                0.036508  \n...                    ...  \n107995           -0.012228  \n107996           -0.008253  \n107997           -0.002774  \n107998            0.019471  \n107999            0.001364  \n\n[10000 rows x 16 columns]",
      "text/html": "<div>\n<style scoped>\n    .dataframe tbody tr th:only-of-type {\n        vertical-align: middle;\n    }\n\n    .dataframe tbody tr th {\n        vertical-align: top;\n    }\n\n    .dataframe thead th {\n        text-align: right;\n    }\n</style>\n<table border=\"1\" class=\"dataframe\">\n  <thead>\n    <tr style=\"text-align: right;\">\n      <th></th>\n      <th>RowId</th>\n      <th>Date</th>\n      <th>SecuritiesCode</th>\n      <th>Open</th>\n      <th>High</th>\n      <th>Low</th>\n      <th>Close</th>\n      <th>Volume</th>\n      <th>AdjustmentFactor</th>\n      <th>ExpectedDividend</th>\n      <th>SupervisionFlag</th>\n      <th>Target</th>\n      <th>Timestamp</th>\n      <th>target_t0_t-1</th>\n      <th>target_t0_t-1_pred</th>\n      <th>target_t0_t-1_true</th>\n    </tr>\n  </thead>\n  <tbody>\n    <tr>\n      <th>49</th>\n      <td>20220221_1301</td>\n      <td>2022-02-21</td>\n      <td>1301</td>\n      <td>3200.0</td>\n      <td>3215.0</td>\n      <td>3190.0</td>\n      <td>3205.0</td>\n      <td>10300</td>\n      <td>1.0</td>\n      <td>0.0</td>\n      <td>False</td>\n      <td>-0.001563</td>\n      <td>19044</td>\n      <td>-0.003110</td>\n      <td>-0.003101</td>\n      <td>-0.003110</td>\n    </tr>\n    <tr>\n      <th>50</th>\n      <td>20220222_1301</td>\n      <td>2022-02-22</td>\n      <td>1301</td>\n      <td>3205.0</td>\n      <td>3215.0</td>\n      <td>3190.0</td>\n      <td>3200.0</td>\n      <td>9800</td>\n      <td>1.0</td>\n      <td>0.0</td>\n      <td>False</td>\n      <td>-0.014085</td>\n      <td>19045</td>\n      <td>-0.001560</td>\n      <td>-0.003101</td>\n      <td>-0.001560</td>\n    </tr>\n    <tr>\n      <th>51</th>\n      <td>20220224_1301</td>\n      <td>2022-02-24</td>\n      <td>1301</td>\n      <td>3195.0</td>\n      <td>3205.0</td>\n      <td>3175.0</td>\n      <td>3195.0</td>\n      <td>15200</td>\n      <td>1.0</td>\n      <td>0.0</td>\n      <td>False</td>\n      <td>0.036508</td>\n      <td>19047</td>\n      <td>-0.001563</td>\n      <td>-0.003101</td>\n      <td>-0.001563</td>\n    </tr>\n    <tr>\n      <th>52</th>\n      <td>20220225_1301</td>\n      <td>2022-02-25</td>\n      <td>1301</td>\n      <td>3160.0</td>\n      <td>3185.0</td>\n      <td>3135.0</td>\n      <td>3150.0</td>\n      <td>22200</td>\n      <td>1.0</td>\n      <td>0.0</td>\n      <td>False</td>\n      <td>-0.004594</td>\n      <td>19048</td>\n      <td>-0.014085</td>\n      <td>-0.003101</td>\n      <td>-0.014085</td>\n    </tr>\n    <tr>\n      <th>53</th>\n      <td>20220228_1301</td>\n      <td>2022-02-28</td>\n      <td>1301</td>\n      <td>3180.0</td>\n      <td>3265.0</td>\n      <td>3170.0</td>\n      <td>3265.0</td>\n      <td>28700</td>\n      <td>1.0</td>\n      <td>0.0</td>\n      <td>False</td>\n      <td>-0.007692</td>\n      <td>19051</td>\n      <td>0.036508</td>\n      <td>-0.003101</td>\n      <td>0.036508</td>\n    </tr>\n    <tr>\n      <th>...</th>\n      <td>...</td>\n      <td>...</td>\n      <td>...</td>\n      <td>...</td>\n      <td>...</td>\n      <td>...</td>\n      <td>...</td>\n      <td>...</td>\n      <td>...</td>\n      <td>...</td>\n      <td>...</td>\n      <td>...</td>\n      <td>...</td>\n      <td>...</td>\n      <td>...</td>\n      <td>...</td>\n    </tr>\n    <tr>\n      <th>107995</th>\n      <td>20220221_9997</td>\n      <td>2022-02-21</td>\n      <td>9997</td>\n      <td>725.0</td>\n      <td>729.0</td>\n      <td>719.0</td>\n      <td>727.0</td>\n      <td>116400</td>\n      <td>1.0</td>\n      <td>0.0</td>\n      <td>False</td>\n      <td>-0.002774</td>\n      <td>19044</td>\n      <td>-0.012228</td>\n      <td>0.015172</td>\n      <td>-0.012228</td>\n    </tr>\n    <tr>\n      <th>107996</th>\n      <td>20220222_9997</td>\n      <td>2022-02-22</td>\n      <td>9997</td>\n      <td>719.0</td>\n      <td>723.0</td>\n      <td>711.0</td>\n      <td>721.0</td>\n      <td>225500</td>\n      <td>1.0</td>\n      <td>0.0</td>\n      <td>False</td>\n      <td>0.019471</td>\n      <td>19045</td>\n      <td>-0.008253</td>\n      <td>0.015172</td>\n      <td>-0.008253</td>\n    </tr>\n    <tr>\n      <th>107997</th>\n      <td>20220224_9997</td>\n      <td>2022-02-24</td>\n      <td>9997</td>\n      <td>709.0</td>\n      <td>725.0</td>\n      <td>708.0</td>\n      <td>719.0</td>\n      <td>195600</td>\n      <td>1.0</td>\n      <td>0.0</td>\n      <td>False</td>\n      <td>0.001364</td>\n      <td>19047</td>\n      <td>-0.002774</td>\n      <td>0.015172</td>\n      <td>-0.002774</td>\n    </tr>\n    <tr>\n      <th>107998</th>\n      <td>20220225_9997</td>\n      <td>2022-02-25</td>\n      <td>9997</td>\n      <td>725.0</td>\n      <td>738.0</td>\n      <td>724.0</td>\n      <td>733.0</td>\n      <td>170500</td>\n      <td>1.0</td>\n      <td>0.0</td>\n      <td>False</td>\n      <td>-0.001362</td>\n      <td>19048</td>\n      <td>0.019471</td>\n      <td>0.015172</td>\n      <td>0.019471</td>\n    </tr>\n    <tr>\n      <th>107999</th>\n      <td>20220228_9997</td>\n      <td>2022-02-28</td>\n      <td>9997</td>\n      <td>731.0</td>\n      <td>737.0</td>\n      <td>726.0</td>\n      <td>734.0</td>\n      <td>288100</td>\n      <td>1.0</td>\n      <td>0.0</td>\n      <td>False</td>\n      <td>-0.030014</td>\n      <td>19051</td>\n      <td>0.001364</td>\n      <td>0.015172</td>\n      <td>0.001364</td>\n    </tr>\n  </tbody>\n</table>\n<p>10000 rows × 16 columns</p>\n</div>"
     },
     "execution_count": 63,
     "metadata": {},
     "output_type": "execute_result"
    }
   ],
   "source": [
    "## Keep only result which have been predicted\n",
    "df_test_res = df_test_res[df_test_res.Timestamp > ts_max - max_prediction_length].copy()\n",
    "df_test_res"
   ],
   "metadata": {
    "collapsed": false,
    "pycharm": {
     "name": "#%%\n"
    }
   }
  },
  {
   "cell_type": "code",
   "execution_count": 64,
   "outputs": [
    {
     "data": {
      "text/plain": "                RowId       Date SecuritiesCode    Open    High     Low  \\\n49      20220221_1301 2022-02-21           1301  3200.0  3215.0  3190.0   \n50      20220222_1301 2022-02-22           1301  3205.0  3215.0  3190.0   \n51      20220224_1301 2022-02-24           1301  3195.0  3205.0  3175.0   \n52      20220225_1301 2022-02-25           1301  3160.0  3185.0  3135.0   \n53      20220228_1301 2022-02-28           1301  3180.0  3265.0  3170.0   \n...               ...        ...            ...     ...     ...     ...   \n107995  20220221_9997 2022-02-21           9997   725.0   729.0   719.0   \n107996  20220222_9997 2022-02-22           9997   719.0   723.0   711.0   \n107997  20220224_9997 2022-02-24           9997   709.0   725.0   708.0   \n107998  20220225_9997 2022-02-25           9997   725.0   738.0   724.0   \n107999  20220228_9997 2022-02-28           9997   731.0   737.0   726.0   \n\n         Close  Volume  AdjustmentFactor  ExpectedDividend SupervisionFlag  \\\n49      3205.0   10300               1.0               0.0           False   \n50      3200.0    9800               1.0               0.0           False   \n51      3195.0   15200               1.0               0.0           False   \n52      3150.0   22200               1.0               0.0           False   \n53      3265.0   28700               1.0               0.0           False   \n...        ...     ...               ...               ...             ...   \n107995   727.0  116400               1.0               0.0           False   \n107996   721.0  225500               1.0               0.0           False   \n107997   719.0  195600               1.0               0.0           False   \n107998   733.0  170500               1.0               0.0           False   \n107999   734.0  288100               1.0               0.0           False   \n\n          Target  Timestamp  target_t0_t-1  target_t0_t-1_pred  \\\n49     -0.001563      19044      -0.003110           -0.003101   \n50     -0.014085      19045      -0.001560           -0.003101   \n51      0.036508      19047      -0.001563           -0.003101   \n52     -0.004594      19048      -0.014085           -0.003101   \n53     -0.007692      19051       0.036508           -0.003101   \n...          ...        ...            ...                 ...   \n107995 -0.002774      19044      -0.012228            0.015172   \n107996  0.019471      19045      -0.008253            0.015172   \n107997  0.001364      19047      -0.002774            0.015172   \n107998 -0.001362      19048       0.019471            0.015172   \n107999 -0.030014      19051       0.001364            0.015172   \n\n        target_t0_t-1_true  Rank  \n49               -0.003110   831  \n50               -0.001560  1725  \n51               -0.001563   161  \n52               -0.014085  1414  \n53                0.036508   514  \n...                    ...   ...  \n107995           -0.012228   882  \n107996           -0.008253   654  \n107997           -0.002774  1602  \n107998            0.019471  1259  \n107999            0.001364  1530  \n\n[10000 rows x 17 columns]",
      "text/html": "<div>\n<style scoped>\n    .dataframe tbody tr th:only-of-type {\n        vertical-align: middle;\n    }\n\n    .dataframe tbody tr th {\n        vertical-align: top;\n    }\n\n    .dataframe thead th {\n        text-align: right;\n    }\n</style>\n<table border=\"1\" class=\"dataframe\">\n  <thead>\n    <tr style=\"text-align: right;\">\n      <th></th>\n      <th>RowId</th>\n      <th>Date</th>\n      <th>SecuritiesCode</th>\n      <th>Open</th>\n      <th>High</th>\n      <th>Low</th>\n      <th>Close</th>\n      <th>Volume</th>\n      <th>AdjustmentFactor</th>\n      <th>ExpectedDividend</th>\n      <th>SupervisionFlag</th>\n      <th>Target</th>\n      <th>Timestamp</th>\n      <th>target_t0_t-1</th>\n      <th>target_t0_t-1_pred</th>\n      <th>target_t0_t-1_true</th>\n      <th>Rank</th>\n    </tr>\n  </thead>\n  <tbody>\n    <tr>\n      <th>49</th>\n      <td>20220221_1301</td>\n      <td>2022-02-21</td>\n      <td>1301</td>\n      <td>3200.0</td>\n      <td>3215.0</td>\n      <td>3190.0</td>\n      <td>3205.0</td>\n      <td>10300</td>\n      <td>1.0</td>\n      <td>0.0</td>\n      <td>False</td>\n      <td>-0.001563</td>\n      <td>19044</td>\n      <td>-0.003110</td>\n      <td>-0.003101</td>\n      <td>-0.003110</td>\n      <td>831</td>\n    </tr>\n    <tr>\n      <th>50</th>\n      <td>20220222_1301</td>\n      <td>2022-02-22</td>\n      <td>1301</td>\n      <td>3205.0</td>\n      <td>3215.0</td>\n      <td>3190.0</td>\n      <td>3200.0</td>\n      <td>9800</td>\n      <td>1.0</td>\n      <td>0.0</td>\n      <td>False</td>\n      <td>-0.014085</td>\n      <td>19045</td>\n      <td>-0.001560</td>\n      <td>-0.003101</td>\n      <td>-0.001560</td>\n      <td>1725</td>\n    </tr>\n    <tr>\n      <th>51</th>\n      <td>20220224_1301</td>\n      <td>2022-02-24</td>\n      <td>1301</td>\n      <td>3195.0</td>\n      <td>3205.0</td>\n      <td>3175.0</td>\n      <td>3195.0</td>\n      <td>15200</td>\n      <td>1.0</td>\n      <td>0.0</td>\n      <td>False</td>\n      <td>0.036508</td>\n      <td>19047</td>\n      <td>-0.001563</td>\n      <td>-0.003101</td>\n      <td>-0.001563</td>\n      <td>161</td>\n    </tr>\n    <tr>\n      <th>52</th>\n      <td>20220225_1301</td>\n      <td>2022-02-25</td>\n      <td>1301</td>\n      <td>3160.0</td>\n      <td>3185.0</td>\n      <td>3135.0</td>\n      <td>3150.0</td>\n      <td>22200</td>\n      <td>1.0</td>\n      <td>0.0</td>\n      <td>False</td>\n      <td>-0.004594</td>\n      <td>19048</td>\n      <td>-0.014085</td>\n      <td>-0.003101</td>\n      <td>-0.014085</td>\n      <td>1414</td>\n    </tr>\n    <tr>\n      <th>53</th>\n      <td>20220228_1301</td>\n      <td>2022-02-28</td>\n      <td>1301</td>\n      <td>3180.0</td>\n      <td>3265.0</td>\n      <td>3170.0</td>\n      <td>3265.0</td>\n      <td>28700</td>\n      <td>1.0</td>\n      <td>0.0</td>\n      <td>False</td>\n      <td>-0.007692</td>\n      <td>19051</td>\n      <td>0.036508</td>\n      <td>-0.003101</td>\n      <td>0.036508</td>\n      <td>514</td>\n    </tr>\n    <tr>\n      <th>...</th>\n      <td>...</td>\n      <td>...</td>\n      <td>...</td>\n      <td>...</td>\n      <td>...</td>\n      <td>...</td>\n      <td>...</td>\n      <td>...</td>\n      <td>...</td>\n      <td>...</td>\n      <td>...</td>\n      <td>...</td>\n      <td>...</td>\n      <td>...</td>\n      <td>...</td>\n      <td>...</td>\n      <td>...</td>\n    </tr>\n    <tr>\n      <th>107995</th>\n      <td>20220221_9997</td>\n      <td>2022-02-21</td>\n      <td>9997</td>\n      <td>725.0</td>\n      <td>729.0</td>\n      <td>719.0</td>\n      <td>727.0</td>\n      <td>116400</td>\n      <td>1.0</td>\n      <td>0.0</td>\n      <td>False</td>\n      <td>-0.002774</td>\n      <td>19044</td>\n      <td>-0.012228</td>\n      <td>0.015172</td>\n      <td>-0.012228</td>\n      <td>882</td>\n    </tr>\n    <tr>\n      <th>107996</th>\n      <td>20220222_9997</td>\n      <td>2022-02-22</td>\n      <td>9997</td>\n      <td>719.0</td>\n      <td>723.0</td>\n      <td>711.0</td>\n      <td>721.0</td>\n      <td>225500</td>\n      <td>1.0</td>\n      <td>0.0</td>\n      <td>False</td>\n      <td>0.019471</td>\n      <td>19045</td>\n      <td>-0.008253</td>\n      <td>0.015172</td>\n      <td>-0.008253</td>\n      <td>654</td>\n    </tr>\n    <tr>\n      <th>107997</th>\n      <td>20220224_9997</td>\n      <td>2022-02-24</td>\n      <td>9997</td>\n      <td>709.0</td>\n      <td>725.0</td>\n      <td>708.0</td>\n      <td>719.0</td>\n      <td>195600</td>\n      <td>1.0</td>\n      <td>0.0</td>\n      <td>False</td>\n      <td>0.001364</td>\n      <td>19047</td>\n      <td>-0.002774</td>\n      <td>0.015172</td>\n      <td>-0.002774</td>\n      <td>1602</td>\n    </tr>\n    <tr>\n      <th>107998</th>\n      <td>20220225_9997</td>\n      <td>2022-02-25</td>\n      <td>9997</td>\n      <td>725.0</td>\n      <td>738.0</td>\n      <td>724.0</td>\n      <td>733.0</td>\n      <td>170500</td>\n      <td>1.0</td>\n      <td>0.0</td>\n      <td>False</td>\n      <td>-0.001362</td>\n      <td>19048</td>\n      <td>0.019471</td>\n      <td>0.015172</td>\n      <td>0.019471</td>\n      <td>1259</td>\n    </tr>\n    <tr>\n      <th>107999</th>\n      <td>20220228_9997</td>\n      <td>2022-02-28</td>\n      <td>9997</td>\n      <td>731.0</td>\n      <td>737.0</td>\n      <td>726.0</td>\n      <td>734.0</td>\n      <td>288100</td>\n      <td>1.0</td>\n      <td>0.0</td>\n      <td>False</td>\n      <td>-0.030014</td>\n      <td>19051</td>\n      <td>0.001364</td>\n      <td>0.015172</td>\n      <td>0.001364</td>\n      <td>1530</td>\n    </tr>\n  </tbody>\n</table>\n<p>10000 rows × 17 columns</p>\n</div>"
     },
     "execution_count": 64,
     "metadata": {},
     "output_type": "execute_result"
    }
   ],
   "source": [
    "df_test_res['Rank'] = (df_test_res.groupby(\"Date\")[\"Target\"].rank(ascending=False, method=\"first\") - 1).astype(int)\n",
    "df_test_res"
   ],
   "metadata": {
    "collapsed": false,
    "pycharm": {
     "name": "#%%\n"
    }
   }
  },
  {
   "cell_type": "code",
   "execution_count": 65,
   "outputs": [
    {
     "data": {
      "text/plain": "4.275426676719011"
     },
     "execution_count": 65,
     "metadata": {},
     "output_type": "execute_result"
    }
   ],
   "source": [
    "from utilities.evaluation import calc_spread_return_sharpe\n",
    "\n",
    "calc_spread_return_sharpe(df_test_res)"
   ],
   "metadata": {
    "collapsed": false,
    "pycharm": {
     "name": "#%%\n"
    }
   }
  },
  {
   "cell_type": "markdown",
   "source": [
    "## Temporal Fusion Transformer"
   ],
   "metadata": {
    "collapsed": false,
    "pycharm": {
     "name": "#%% md\n"
    }
   }
  },
  {
   "cell_type": "code",
   "execution_count": 25,
   "outputs": [
    {
     "name": "stderr",
     "output_type": "stream",
     "text": [
      "C:\\Users\\cypri\\AppData\\Roaming\\Python\\Python38\\site-packages\\pytorch_lightning\\loops\\utilities.py:91: PossibleUserWarning: `max_epochs` was not set. Setting it to 1000 epochs. To train without an epoch limit, set `max_epochs=-1`.\n",
      "  rank_zero_warn(\n",
      "GPU available: True, used: True\n",
      "TPU available: False, using: 0 TPU cores\n",
      "IPU available: False, using: 0 IPUs\n",
      "HPU available: False, using: 0 HPUs\n",
      "C:\\Users\\cypri\\AppData\\Roaming\\Python\\Python38\\site-packages\\pytorch_lightning\\utilities\\parsing.py:261: UserWarning: Attribute 'loss' is an instance of `nn.Module` and is already saved during checkpointing. It is recommended to ignore them using `self.save_hyperparameters(ignore=['loss'])`.\n",
      "  rank_zero_warn(\n",
      "C:\\Users\\cypri\\AppData\\Roaming\\Python\\Python38\\site-packages\\pytorch_lightning\\utilities\\parsing.py:261: UserWarning: Attribute 'logging_metrics' is an instance of `nn.Module` and is already saved during checkpointing. It is recommended to ignore them using `self.save_hyperparameters(ignore=['logging_metrics'])`.\n",
      "  rank_zero_warn(\n"
     ]
    },
    {
     "name": "stdout",
     "output_type": "stream",
     "text": [
      "Number of parameters in network: 50.7k\n"
     ]
    }
   ],
   "source": [
    "# configure network and trainer\n",
    "trainer = pl.Trainer(\n",
    "    accelerator='gpu',\n",
    "    # clipping gradients is a hyperparameter and important to prevent divergence\n",
    "    # of the gradient for recurrent neural networks\n",
    "    gradient_clip_val=0.1,\n",
    ")\n",
    "\n",
    "\n",
    "\n",
    "tft = TemporalFusionTransformer.from_dataset(\n",
    "    training,\n",
    "    # not meaningful for finding the learning rate but otherwise very important\n",
    "    learning_rate=0.03,\n",
    "    hidden_size=16,  # most important hyperparameter apart from learning rate\n",
    "    # number of attention heads. Set to up to 4 for large datasets\n",
    "    attention_head_size=1,\n",
    "    dropout=0.1,  # between 0.1 and 0.3 a!re good values\n",
    "    hidden_continuous_size=8,  # set to <= hidden_size\n",
    "    output_size=7,  # 7 quantiles by default\n",
    "    loss=QuantileLoss(),\n",
    "    # reduce learning rate if no improvement in validation loss after x epochs\n",
    "    reduce_on_plateau_patience=4,\n",
    "    log_interval=-1\n",
    ")\n",
    "print(f\"Number of parameters in network: {tft.size()/1e3:.1f}k\")"
   ],
   "metadata": {
    "collapsed": false,
    "pycharm": {
     "name": "#%%\n"
    }
   }
  },
  {
   "cell_type": "code",
   "execution_count": 26,
   "outputs": [
    {
     "name": "stderr",
     "output_type": "stream",
     "text": [
      "LOCAL_RANK: 0 - CUDA_VISIBLE_DEVICES: [0]\n",
      "C:\\Users\\cypri\\AppData\\Roaming\\Python\\Python38\\site-packages\\pytorch_lightning\\trainer\\connectors\\data_connector.py:240: PossibleUserWarning: The dataloader, val_dataloader 0, does not have many workers which may be a bottleneck. Consider increasing the value of the `num_workers` argument` (try 12 which is the number of cpus on this machine) in the `DataLoader` init to improve performance.\n",
      "  rank_zero_warn(\n",
      "C:\\Users\\cypri\\AppData\\Roaming\\Python\\Python38\\site-packages\\pytorch_lightning\\trainer\\connectors\\data_connector.py:240: PossibleUserWarning: The dataloader, train_dataloader, does not have many workers which may be a bottleneck. Consider increasing the value of the `num_workers` argument` (try 12 which is the number of cpus on this machine) in the `DataLoader` init to improve performance.\n",
      "  rank_zero_warn(\n"
     ]
    },
    {
     "data": {
      "text/plain": "Finding best initial lr:   0%|          | 0/100 [00:00<?, ?it/s]",
      "application/vnd.jupyter.widget-view+json": {
       "version_major": 2,
       "version_minor": 0,
       "model_id": "efbf7266adcc47ac82f8a10f25d97291"
      }
     },
     "metadata": {},
     "output_type": "display_data"
    },
    {
     "name": "stderr",
     "output_type": "stream",
     "text": [
      "Restoring states from the checkpoint path at D:\\Documents\\Tsinghua\\Courses\\Deep_Learning\\Final Project\\stock-exchange-prediction\\.lr_find_455e5c60-3982-445a-a91e-ab1ed00c101d.ckpt\n",
      "C:\\Users\\cypri\\AppData\\Roaming\\Python\\Python38\\site-packages\\pytorch_lightning\\trainer\\trainer.py:1718: UserWarning: Be aware that when using `ckpt_path`, callbacks used to create the checkpoint need to be provided during `Trainer` instantiation. Please add the following callbacks: [\"ModelCheckpoint{'monitor': None, 'mode': 'min', 'every_n_train_steps': 0, 'every_n_epochs': 1, 'train_time_interval': None, 'save_on_train_epoch_end': None}\"].\n",
      "  rank_zero_warn(\n"
     ]
    },
    {
     "name": "stdout",
     "output_type": "stream",
     "text": [
      "suggested learning rate: 3.235936569296285\n"
     ]
    },
    {
     "data": {
      "text/plain": "<Figure size 432x288 with 1 Axes>",
      "image/png": "[encoded data removed]"
     },
     "metadata": {},
     "output_type": "display_data"
    },
    {
     "name": "stdout",
     "output_type": "stream",
     "text": [
      "CPU times: total: 2min 27s\n",
      "Wall time: 51.3 s\n"
     ]
    },
    {
     "name": "stderr",
     "output_type": "stream",
     "text": [
      "<timed exec>:12: UserWarning: Matplotlib is currently using module://matplotlib_inline.backend_inline, which is a non-GUI backend, so cannot show the figure.\n"
     ]
    }
   ],
   "source": [
    "%%time\n",
    "\n",
    "# find optimal learning rate\n",
    "res = trainer.tuner.lr_find(\n",
    "    tft,\n",
    "    train_dataloaders=train_dataloader,\n",
    "    val_dataloaders=val_dataloader,\n",
    "    max_lr=10.0,\n",
    "    min_lr=1e-6,\n",
    ")\n",
    "\n",
    "print(f\"suggested learning rate: {res.suggestion()}\")\n",
    "fig = res.plot(show=True, suggest=True)\n",
    "fig.show()"
   ],
   "metadata": {
    "collapsed": false,
    "pycharm": {
     "name": "#%%\n"
    }
   }
  },
  {
   "cell_type": "markdown",
   "source": [
    "#### Train the model"
   ],
   "metadata": {
    "collapsed": false,
    "pycharm": {
     "name": "#%% md\n"
    }
   }
  },
  {
   "cell_type": "code",
   "execution_count": 27,
   "outputs": [
    {
     "name": "stderr",
     "output_type": "stream",
     "text": [
      "GPU available: True, used: True\n",
      "TPU available: False, using: 0 TPU cores\n",
      "IPU available: False, using: 0 IPUs\n",
      "HPU available: False, using: 0 HPUs\n"
     ]
    },
    {
     "name": "stdout",
     "output_type": "stream",
     "text": [
      "Number of parameters in network: 50.7k\n"
     ]
    }
   ],
   "source": [
    "# configure network and trainer\n",
    "early_stop_callback = EarlyStopping(monitor=\"val_loss\", min_delta=1e-4, patience=10, verbose=False, mode=\"min\")\n",
    "lr_logger = LearningRateMonitor()  # log the learning rate\n",
    "logger = TensorBoardLogger(\"lightning_logs\")  # logging results to a tensorboard\n",
    "\n",
    "trainer = pl.Trainer(\n",
    "    accelerator=\"gpu\", \n",
    "    max_epochs=1000,\n",
    "    weights_summary=\"top\",\n",
    "    gradient_clip_val=0.1,\n",
    "    limit_train_batches=30,  # coment in for training, running valiation every 30 batches\n",
    "    # fast_dev_run=True,  # comment in to check that networkor dataset has no serious bugs\n",
    "    callbacks=[lr_logger, early_stop_callback],\n",
    "    logger=logger,\n",
    ")\n",
    "\n",
    "\n",
    "tft = TemporalFusionTransformer.from_dataset(\n",
    "    training,\n",
    "    learning_rate=3.235936569296285/3,\n",
    "    hidden_size=16,\n",
    "    attention_head_size=1,\n",
    "    dropout=0.1,\n",
    "    hidden_continuous_size=8,\n",
    "    output_size=7,  # 7 quantiles by default\n",
    "    loss=QuantileLoss(),\n",
    "    log_interval=10,  # uncomment for learning rate finder and otherwise, e.g. to 10 for logging every 10 batches\n",
    "    reduce_on_plateau_patience=4,\n",
    ")\n",
    "print(f\"Number of parameters in network: {tft.size()/1e3:.1f}k\")"
   ],
   "metadata": {
    "collapsed": false,
    "pycharm": {
     "name": "#%%\n"
    }
   }
  },
  {
   "cell_type": "code",
   "execution_count": 28,
   "metadata": {
    "pycharm": {
     "name": "#%%\n"
    }
   },
   "outputs": [
    {
     "name": "stderr",
     "output_type": "stream",
     "text": [
      "LOCAL_RANK: 0 - CUDA_VISIBLE_DEVICES: [0]\n",
      "\n",
      "   | Name                               | Type                            | Params\n",
      "----------------------------------------------------------------------------------------\n",
      "0  | loss                               | QuantileLoss                    | 0     \n",
      "1  | logging_metrics                    | ModuleList                      | 0     \n",
      "2  | input_embeddings                   | MultiEmbedding                  | 32.0 K\n",
      "3  | prescalers                         | ModuleDict                      | 96    \n",
      "4  | static_variable_selection          | VariableSelectionNetwork        | 48    \n",
      "5  | encoder_variable_selection         | VariableSelectionNetwork        | 3.9 K \n",
      "6  | decoder_variable_selection         | VariableSelectionNetwork        | 528   \n",
      "7  | static_context_variable_selection  | GatedResidualNetwork            | 1.1 K \n",
      "8  | static_context_initial_hidden_lstm | GatedResidualNetwork            | 1.1 K \n",
      "9  | static_context_initial_cell_lstm   | GatedResidualNetwork            | 1.1 K \n",
      "10 | static_context_enrichment          | GatedResidualNetwork            | 1.1 K \n",
      "11 | lstm_encoder                       | LSTM                            | 2.2 K \n",
      "12 | lstm_decoder                       | LSTM                            | 2.2 K \n",
      "13 | post_lstm_gate_encoder             | GatedLinearUnit                 | 544   \n",
      "14 | post_lstm_add_norm_encoder         | AddNorm                         | 32    \n",
      "15 | static_enrichment                  | GatedResidualNetwork            | 1.4 K \n",
      "16 | multihead_attn                     | InterpretableMultiHeadAttention | 1.1 K \n",
      "17 | post_attn_gate_norm                | GateAddNorm                     | 576   \n",
      "18 | pos_wise_ff                        | GatedResidualNetwork            | 1.1 K \n",
      "19 | pre_output_gate_norm               | GateAddNorm                     | 576   \n",
      "20 | output_layer                       | Linear                          | 119   \n",
      "----------------------------------------------------------------------------------------\n",
      "50.7 K    Trainable params\n",
      "0         Non-trainable params\n",
      "50.7 K    Total params\n",
      "0.203     Total estimated model params size (MB)\n"
     ]
    },
    {
     "data": {
      "text/plain": "Sanity Checking: 0it [00:00, ?it/s]",
      "application/vnd.jupyter.widget-view+json": {
       "version_major": 2,
       "version_minor": 0,
       "model_id": "db7f585bc10a43709b7689184240eaa3"
      }
     },
     "metadata": {},
     "output_type": "display_data"
    },
    {
     "name": "stderr",
     "output_type": "stream",
     "text": [
      "C:\\Users\\cypri\\AppData\\Roaming\\Python\\Python38\\site-packages\\pytorch_lightning\\trainer\\connectors\\data_connector.py:240: PossibleUserWarning: The dataloader, train_dataloader, does not have many workers which may be a bottleneck. Consider increasing the value of the `num_workers` argument` (try 12 which is the number of cpus on this machine) in the `DataLoader` init to improve performance.\n",
      "  rank_zero_warn(\n",
      "C:\\Users\\cypri\\AppData\\Roaming\\Python\\Python38\\site-packages\\pytorch_lightning\\trainer\\trainer.py:1927: PossibleUserWarning: The number of training batches (30) is smaller than the logging interval Trainer(log_every_n_steps=50). Set a lower value for log_every_n_steps if you want to see logs for the training epoch.\n",
      "  rank_zero_warn(\n"
     ]
    },
    {
     "data": {
      "text/plain": "Training: 0it [00:00, ?it/s]",
      "application/vnd.jupyter.widget-view+json": {
       "version_major": 2,
       "version_minor": 0,
       "model_id": "c75ad2d1a0e347c7a1cd29a686c9754f"
      }
     },
     "metadata": {},
     "output_type": "display_data"
    },
    {
     "data": {
      "text/plain": "Validation: 0it [00:00, ?it/s]",
      "application/vnd.jupyter.widget-view+json": {
       "version_major": 2,
       "version_minor": 0,
       "model_id": "bf28cf33ede64082ad47e2187e808882"
      }
     },
     "metadata": {},
     "output_type": "display_data"
    },
    {
     "data": {
      "text/plain": "Validation: 0it [00:00, ?it/s]",
      "application/vnd.jupyter.widget-view+json": {
       "version_major": 2,
       "version_minor": 0,
       "model_id": "2a195f7332584fe7bcaf34b91b3d2a6c"
      }
     },
     "metadata": {},
     "output_type": "display_data"
    },
    {
     "data": {
      "text/plain": "Validation: 0it [00:00, ?it/s]",
      "application/vnd.jupyter.widget-view+json": {
       "version_major": 2,
       "version_minor": 0,
       "model_id": "58f7f8ef17fa43ec861c456506b5764f"
      }
     },
     "metadata": {},
     "output_type": "display_data"
    },
    {
     "data": {
      "text/plain": "Validation: 0it [00:00, ?it/s]",
      "application/vnd.jupyter.widget-view+json": {
       "version_major": 2,
       "version_minor": 0,
       "model_id": "da763a11a5854b1595d346a79f61e68e"
      }
     },
     "metadata": {},
     "output_type": "display_data"
    },
    {
     "data": {
      "text/plain": "Validation: 0it [00:00, ?it/s]",
      "application/vnd.jupyter.widget-view+json": {
       "version_major": 2,
       "version_minor": 0,
       "model_id": "9f78c2ad87e0437293a610e8e826b80d"
      }
     },
     "metadata": {},
     "output_type": "display_data"
    },
    {
     "data": {
      "text/plain": "Validation: 0it [00:00, ?it/s]",
      "application/vnd.jupyter.widget-view+json": {
       "version_major": 2,
       "version_minor": 0,
       "model_id": "21ecb0a4f71c4b98a88c3cd823027713"
      }
     },
     "metadata": {},
     "output_type": "display_data"
    },
    {
     "data": {
      "text/plain": "Validation: 0it [00:00, ?it/s]",
      "application/vnd.jupyter.widget-view+json": {
       "version_major": 2,
       "version_minor": 0,
       "model_id": "f3048ac844284e17a29feb4920ade971"
      }
     },
     "metadata": {},
     "output_type": "display_data"
    },
    {
     "data": {
      "text/plain": "Validation: 0it [00:00, ?it/s]",
      "application/vnd.jupyter.widget-view+json": {
       "version_major": 2,
       "version_minor": 0,
       "model_id": "e76807d39d184eda921474662ace4456"
      }
     },
     "metadata": {},
     "output_type": "display_data"
    },
    {
     "data": {
      "text/plain": "Validation: 0it [00:00, ?it/s]",
      "application/vnd.jupyter.widget-view+json": {
       "version_major": 2,
       "version_minor": 0,
       "model_id": "d93859fe277444b1a3594f754a0f0d96"
      }
     },
     "metadata": {},
     "output_type": "display_data"
    },
    {
     "data": {
      "text/plain": "Validation: 0it [00:00, ?it/s]",
      "application/vnd.jupyter.widget-view+json": {
       "version_major": 2,
       "version_minor": 0,
       "model_id": "c314d64195dd4ac5977a398070ab69f1"
      }
     },
     "metadata": {},
     "output_type": "display_data"
    },
    {
     "data": {
      "text/plain": "Validation: 0it [00:00, ?it/s]",
      "application/vnd.jupyter.widget-view+json": {
       "version_major": 2,
       "version_minor": 0,
       "model_id": "1df7179e024c4dbba97fbe0d52eac6a3"
      }
     },
     "metadata": {},
     "output_type": "display_data"
    },
    {
     "data": {
      "text/plain": "Validation: 0it [00:00, ?it/s]",
      "application/vnd.jupyter.widget-view+json": {
       "version_major": 2,
       "version_minor": 0,
       "model_id": "ad8223e3208148e686f707dc1ce22719"
      }
     },
     "metadata": {},
     "output_type": "display_data"
    },
    {
     "data": {
      "text/plain": "Validation: 0it [00:00, ?it/s]",
      "application/vnd.jupyter.widget-view+json": {
       "version_major": 2,
       "version_minor": 0,
       "model_id": "c6ae070d26804cfdae7a2381e1e384cd"
      }
     },
     "metadata": {},
     "output_type": "display_data"
    },
    {
     "data": {
      "text/plain": "Validation: 0it [00:00, ?it/s]",
      "application/vnd.jupyter.widget-view+json": {
       "version_major": 2,
       "version_minor": 0,
       "model_id": "d485f0ceb00d4e55aed7594db65e17be"
      }
     },
     "metadata": {},
     "output_type": "display_data"
    },
    {
     "data": {
      "text/plain": "Validation: 0it [00:00, ?it/s]",
      "application/vnd.jupyter.widget-view+json": {
       "version_major": 2,
       "version_minor": 0,
       "model_id": "4f8952afaa0c4b8c89b306fd4fd14ab2"
      }
     },
     "metadata": {},
     "output_type": "display_data"
    },
    {
     "data": {
      "text/plain": "Validation: 0it [00:00, ?it/s]",
      "application/vnd.jupyter.widget-view+json": {
       "version_major": 2,
       "version_minor": 0,
       "model_id": "10c1b429de98494ca93492afedac2184"
      }
     },
     "metadata": {},
     "output_type": "display_data"
    },
    {
     "data": {
      "text/plain": "Validation: 0it [00:00, ?it/s]",
      "application/vnd.jupyter.widget-view+json": {
       "version_major": 2,
       "version_minor": 0,
       "model_id": "8efeb82759244adbaeb1a1542bba7fc1"
      }
     },
     "metadata": {},
     "output_type": "display_data"
    },
    {
     "data": {
      "text/plain": "Validation: 0it [00:00, ?it/s]",
      "application/vnd.jupyter.widget-view+json": {
       "version_major": 2,
       "version_minor": 0,
       "model_id": "d40c2949187d487abf302b9e4f6f18b7"
      }
     },
     "metadata": {},
     "output_type": "display_data"
    },
    {
     "data": {
      "text/plain": "Validation: 0it [00:00, ?it/s]",
      "application/vnd.jupyter.widget-view+json": {
       "version_major": 2,
       "version_minor": 0,
       "model_id": "0c95e71adf4a4811bb65ec077c0a3ec1"
      }
     },
     "metadata": {},
     "output_type": "display_data"
    },
    {
     "data": {
      "text/plain": "Validation: 0it [00:00, ?it/s]",
      "application/vnd.jupyter.widget-view+json": {
       "version_major": 2,
       "version_minor": 0,
       "model_id": "094eb5b8065a4cb69e26196565cc012f"
      }
     },
     "metadata": {},
     "output_type": "display_data"
    },
    {
     "data": {
      "text/plain": "Validation: 0it [00:00, ?it/s]",
      "application/vnd.jupyter.widget-view+json": {
       "version_major": 2,
       "version_minor": 0,
       "model_id": "84e60395217b454f9038f09d578384e0"
      }
     },
     "metadata": {},
     "output_type": "display_data"
    },
    {
     "data": {
      "text/plain": "Validation: 0it [00:00, ?it/s]",
      "application/vnd.jupyter.widget-view+json": {
       "version_major": 2,
       "version_minor": 0,
       "model_id": "ba83a16a0450472880db5cb7ef5d9d7a"
      }
     },
     "metadata": {},
     "output_type": "display_data"
    },
    {
     "data": {
      "text/plain": "Validation: 0it [00:00, ?it/s]",
      "application/vnd.jupyter.widget-view+json": {
       "version_major": 2,
       "version_minor": 0,
       "model_id": "dade3713e8b74c139dd90c7a1b17d888"
      }
     },
     "metadata": {},
     "output_type": "display_data"
    }
   ],
   "source": [
    "# fit network\n",
    "trainer.fit(\n",
    "    tft,\n",
    "    train_dataloaders=train_dataloader,\n",
    "    val_dataloaders=val_dataloader,\n",
    ")"
   ]
  },
  {
   "cell_type": "code",
   "execution_count": null,
   "outputs": [],
   "source": [],
   "metadata": {
    "collapsed": false,
    "pycharm": {
     "name": "#%%\n"
    }
   }
  },
  {
   "cell_type": "code",
   "execution_count": null,
   "outputs": [],
   "source": [],
   "metadata": {
    "collapsed": false,
    "pycharm": {
     "name": "#%%\n"
    }
   }
  },
  {
   "cell_type": "code",
   "execution_count": null,
   "outputs": [],
   "source": [
    "target\n",
    "1 2 3 -> 4 5 6 -> Ranking\n",
    "\n",
    "1- define ranking target\n",
    "2- rank"
   ],
   "metadata": {
    "collapsed": false,
    "pycharm": {
     "name": "#%%\n"
    }
   }
  },
  {
   "cell_type": "code",
   "execution_count": 79,
   "metadata": {
    "pycharm": {
     "name": "#%%\n"
    }
   },
   "outputs": [
    {
     "data": {
      "text/plain": "'1.11.0'"
     },
     "execution_count": 79,
     "metadata": {},
     "output_type": "execute_result"
    }
   ],
   "source": [
    "torch.__version__"
   ]
  },
  {
   "cell_type": "code",
   "execution_count": null,
   "outputs": [],
   "source": [],
   "metadata": {
    "collapsed": false,
    "pycharm": {
     "name": "#%%\n"
    }
   }
  },
  {
   "cell_type": "markdown",
   "source": [
    "### Results"
   ],
   "metadata": {
    "collapsed": false,
    "pycharm": {
     "name": "#%% md\n"
    }
   }
  },
  {
   "cell_type": "code",
   "execution_count": null,
   "metadata": {
    "pycharm": {
     "name": "#%%\n"
    }
   },
   "outputs": [],
   "source": []
  },
  {
   "cell_type": "code",
   "execution_count": 66,
   "outputs": [
    {
     "name": "stdout",
     "output_type": "stream",
     "text": [
      "0.0175495482981205\n"
     ]
    }
   ],
   "source": [
    "actuals = torch.cat([y for x, (y, weight) in iter(test_dataloader)])\n",
    "predictions = tft.predict(test_dataloader)\n",
    "print((actuals - predictions).abs().mean().item())\n",
    "\n",
    "predictions_np = predictions.cpu().detach().numpy()\n",
    "actuals_np = actuals.cpu().detach().numpy()"
   ],
   "metadata": {
    "collapsed": false,
    "pycharm": {
     "name": "#%%\n"
    }
   }
  },
  {
   "cell_type": "code",
   "execution_count": 80,
   "outputs": [
    {
     "data": {
      "text/plain": "(0.01725354790687561, 0.0175495482981205)"
     },
     "execution_count": 80,
     "metadata": {},
     "output_type": "execute_result"
    }
   ],
   "source": [
    "(actuals - baseline_predictions).abs().mean().item(), (actuals - predictions).abs().mean().item()"
   ],
   "metadata": {
    "collapsed": false,
    "pycharm": {
     "name": "#%%\n"
    }
   }
  },
  {
   "cell_type": "code",
   "execution_count": 81,
   "outputs": [
    {
     "data": {
      "text/plain": "(-0.0031007752, -0.003100775182247162)"
     },
     "execution_count": 81,
     "metadata": {},
     "output_type": "execute_result"
    }
   ],
   "source": [
    "baseline_predictions_np[0][0], baseline_predictions[0][0].item()"
   ],
   "metadata": {
    "collapsed": false,
    "pycharm": {
     "name": "#%%\n"
    }
   }
  },
  {
   "cell_type": "code",
   "execution_count": 82,
   "outputs": [
    {
     "data": {
      "text/plain": "((2000, 10), torch.Size([2000, 10]))"
     },
     "execution_count": 82,
     "metadata": {},
     "output_type": "execute_result"
    }
   ],
   "source": [
    "baseline_predictions_np.shape, baseline_predictions.shape"
   ],
   "metadata": {
    "collapsed": false,
    "pycharm": {
     "name": "#%%\n"
    }
   }
  },
  {
   "cell_type": "code",
   "execution_count": 83,
   "outputs": [
    {
     "data": {
      "text/plain": "(0.0005853944, 0.0005853943875990808)"
     },
     "execution_count": 83,
     "metadata": {},
     "output_type": "execute_result"
    }
   ],
   "source": [
    "predictions_np[0][0], predictions[0][0].item()"
   ],
   "metadata": {
    "collapsed": false,
    "pycharm": {
     "name": "#%%\n"
    }
   }
  },
  {
   "cell_type": "code",
   "execution_count": 146,
   "outputs": [],
   "source": [
    "ts_max = df_test.Timestamp.max()\n",
    "s = ts_max - max_prediction_length\n",
    "base = np.arange(s+1, s+max_prediction_length+1)\n",
    "real = df_test[(df_test.Timestamp > ts_max - max_prediction_length) & (df_test.SecuritiesCode == '1301')]['Timestamp'][-max_prediction_length:]\n",
    "f = pd.Series(base).isin(real)\n",
    "\n",
    "df_test_res = df_test.copy()\n",
    "df_test_res_baseline = df_test.copy()\n",
    "\n",
    "df_test_res['target_t0_t-1_pred'] = np.nan\n",
    "df_test_res['target_t0_t-1_true'] = np.nan\n",
    "\n",
    "df_test_res_baseline['target_t0_t-1_pred'] = np.nan\n",
    "df_test_res_baseline['target_t0_t-1_true'] = np.nan\n",
    "\n",
    "df_test_res['Target_pred'] = np.nan\n",
    "df_test_res['Target_true'] = np.nan\n",
    "\n",
    "df_test_res_baseline['Target_pred'] = np.nan\n",
    "df_test_res_baseline['Target_true'] = np.nan\n"
   ],
   "metadata": {
    "collapsed": false,
    "pycharm": {
     "name": "#%%\n"
    }
   }
  },
  {
   "cell_type": "code",
   "execution_count": 96,
   "outputs": [],
   "source": [
    "df_test_res.loc[(df_test_res.Timestamp > ts_max - max_prediction_length), 'target_t0_t-1_pred'] = predictions_np[:, f].flatten()\n",
    "df_test_res.loc[(df_test_res.Timestamp > ts_max - max_prediction_length), 'target_t0_t-1_true'] = actuals_np[:, f].flatten()\n",
    "\n",
    "# df_test_res['Target_true'] = df_test_res['target_t0_t-1_true'].shift(-2)\n",
    "df_test_res = shift(df_test_res, from_='target_t0_t-1_true', to_='target_t0_t-1', shift=2)\n",
    "\n",
    "\n",
    "df_test_res_baseline.loc[(df_test_res.Timestamp > ts_max - max_prediction_length), 'target_t0_t-1_pred'] = baseline_predictions_np[:, f].flatten()\n",
    "df_test_res_baseline.loc[(df_test_res.Timestamp > ts_max - max_prediction_length), 'target_t0_t-1_true'] = actuals_np[:, f].flatten()\n",
    "\n",
    "\n"
   ],
   "metadata": {
    "collapsed": false,
    "pycharm": {
     "name": "#%%\n"
    }
   }
  },
  {
   "cell_type": "code",
   "execution_count": 108,
   "outputs": [
    {
     "data": {
      "text/plain": "10000"
     },
     "execution_count": 108,
     "metadata": {},
     "output_type": "execute_result"
    }
   ],
   "source": [
    "(df_test_res.Timestamp > ts_max - max_prediction_length).sum()"
   ],
   "metadata": {
    "collapsed": false,
    "pycharm": {
     "name": "#%%\n"
    }
   }
  },
  {
   "cell_type": "code",
   "execution_count": 98,
   "outputs": [
    {
     "data": {
      "text/plain": "                RowId       Date SecuritiesCode    Open    High     Low  \\\n49      20220221_1301 2022-02-21           1301  3200.0  3215.0  3190.0   \n50      20220222_1301 2022-02-22           1301  3205.0  3215.0  3190.0   \n51      20220224_1301 2022-02-24           1301  3195.0  3205.0  3175.0   \n52      20220225_1301 2022-02-25           1301  3160.0  3185.0  3135.0   \n53      20220228_1301 2022-02-28           1301  3180.0  3265.0  3170.0   \n...               ...        ...            ...     ...     ...     ...   \n107995  20220221_9997 2022-02-21           9997   725.0   729.0   719.0   \n107996  20220222_9997 2022-02-22           9997   719.0   723.0   711.0   \n107997  20220224_9997 2022-02-24           9997   709.0   725.0   708.0   \n107998  20220225_9997 2022-02-25           9997   725.0   738.0   724.0   \n107999  20220228_9997 2022-02-28           9997   731.0   737.0   726.0   \n\n         Close  Volume  AdjustmentFactor  ExpectedDividend SupervisionFlag  \\\n49      3205.0   10300               1.0               0.0           False   \n50      3200.0    9800               1.0               0.0           False   \n51      3195.0   15200               1.0               0.0           False   \n52      3150.0   22200               1.0               0.0           False   \n53      3265.0   28700               1.0               0.0           False   \n...        ...     ...               ...               ...             ...   \n107995   727.0  116400               1.0               0.0           False   \n107996   721.0  225500               1.0               0.0           False   \n107997   719.0  195600               1.0               0.0           False   \n107998   733.0  170500               1.0               0.0           False   \n107999   734.0  288100               1.0               0.0           False   \n\n          Target  Timestamp  target_t0_t-1  target_t0_t-1_pred  \\\n49     -0.001563      19044      -0.003110        5.848494e-04   \n50     -0.014085      19045      -0.001560        5.847947e-04   \n51      0.036508      19047      -0.001563        5.847557e-04   \n52     -0.004594      19048      -0.014085        5.847490e-04   \n53     -0.007692      19051       0.036508        5.847434e-04   \n...          ...        ...            ...                 ...   \n107995 -0.002774      19044      -0.012228        2.994625e-07   \n107996  0.019471      19045      -0.008253        2.994088e-07   \n107997  0.001364      19047      -0.002774        2.993706e-07   \n107998 -0.001362      19048       0.019471        2.993643e-07   \n107999 -0.030014      19051       0.001364        2.993580e-07   \n\n        target_t0_t-1_true  \n49               -0.003110  \n50               -0.001560  \n51               -0.001563  \n52               -0.014085  \n53                0.036508  \n...                    ...  \n107995           -0.012228  \n107996           -0.008253  \n107997           -0.002774  \n107998            0.019471  \n107999            0.001364  \n\n[10000 rows x 16 columns]",
      "text/html": "<div>\n<style scoped>\n    .dataframe tbody tr th:only-of-type {\n        vertical-align: middle;\n    }\n\n    .dataframe tbody tr th {\n        vertical-align: top;\n    }\n\n    .dataframe thead th {\n        text-align: right;\n    }\n</style>\n<table border=\"1\" class=\"dataframe\">\n  <thead>\n    <tr style=\"text-align: right;\">\n      <th></th>\n      <th>RowId</th>\n      <th>Date</th>\n      <th>SecuritiesCode</th>\n      <th>Open</th>\n      <th>High</th>\n      <th>Low</th>\n      <th>Close</th>\n      <th>Volume</th>\n      <th>AdjustmentFactor</th>\n      <th>ExpectedDividend</th>\n      <th>SupervisionFlag</th>\n      <th>Target</th>\n      <th>Timestamp</th>\n      <th>target_t0_t-1</th>\n      <th>target_t0_t-1_pred</th>\n      <th>target_t0_t-1_true</th>\n    </tr>\n  </thead>\n  <tbody>\n    <tr>\n      <th>49</th>\n      <td>20220221_1301</td>\n      <td>2022-02-21</td>\n      <td>1301</td>\n      <td>3200.0</td>\n      <td>3215.0</td>\n      <td>3190.0</td>\n      <td>3205.0</td>\n      <td>10300</td>\n      <td>1.0</td>\n      <td>0.0</td>\n      <td>False</td>\n      <td>-0.001563</td>\n      <td>19044</td>\n      <td>-0.003110</td>\n      <td>5.848494e-04</td>\n      <td>-0.003110</td>\n    </tr>\n    <tr>\n      <th>50</th>\n      <td>20220222_1301</td>\n      <td>2022-02-22</td>\n      <td>1301</td>\n      <td>3205.0</td>\n      <td>3215.0</td>\n      <td>3190.0</td>\n      <td>3200.0</td>\n      <td>9800</td>\n      <td>1.0</td>\n      <td>0.0</td>\n      <td>False</td>\n      <td>-0.014085</td>\n      <td>19045</td>\n      <td>-0.001560</td>\n      <td>5.847947e-04</td>\n      <td>-0.001560</td>\n    </tr>\n    <tr>\n      <th>51</th>\n      <td>20220224_1301</td>\n      <td>2022-02-24</td>\n      <td>1301</td>\n      <td>3195.0</td>\n      <td>3205.0</td>\n      <td>3175.0</td>\n      <td>3195.0</td>\n      <td>15200</td>\n      <td>1.0</td>\n      <td>0.0</td>\n      <td>False</td>\n      <td>0.036508</td>\n      <td>19047</td>\n      <td>-0.001563</td>\n      <td>5.847557e-04</td>\n      <td>-0.001563</td>\n    </tr>\n    <tr>\n      <th>52</th>\n      <td>20220225_1301</td>\n      <td>2022-02-25</td>\n      <td>1301</td>\n      <td>3160.0</td>\n      <td>3185.0</td>\n      <td>3135.0</td>\n      <td>3150.0</td>\n      <td>22200</td>\n      <td>1.0</td>\n      <td>0.0</td>\n      <td>False</td>\n      <td>-0.004594</td>\n      <td>19048</td>\n      <td>-0.014085</td>\n      <td>5.847490e-04</td>\n      <td>-0.014085</td>\n    </tr>\n    <tr>\n      <th>53</th>\n      <td>20220228_1301</td>\n      <td>2022-02-28</td>\n      <td>1301</td>\n      <td>3180.0</td>\n      <td>3265.0</td>\n      <td>3170.0</td>\n      <td>3265.0</td>\n      <td>28700</td>\n      <td>1.0</td>\n      <td>0.0</td>\n      <td>False</td>\n      <td>-0.007692</td>\n      <td>19051</td>\n      <td>0.036508</td>\n      <td>5.847434e-04</td>\n      <td>0.036508</td>\n    </tr>\n    <tr>\n      <th>...</th>\n      <td>...</td>\n      <td>...</td>\n      <td>...</td>\n      <td>...</td>\n      <td>...</td>\n      <td>...</td>\n      <td>...</td>\n      <td>...</td>\n      <td>...</td>\n      <td>...</td>\n      <td>...</td>\n      <td>...</td>\n      <td>...</td>\n      <td>...</td>\n      <td>...</td>\n      <td>...</td>\n    </tr>\n    <tr>\n      <th>107995</th>\n      <td>20220221_9997</td>\n      <td>2022-02-21</td>\n      <td>9997</td>\n      <td>725.0</td>\n      <td>729.0</td>\n      <td>719.0</td>\n      <td>727.0</td>\n      <td>116400</td>\n      <td>1.0</td>\n      <td>0.0</td>\n      <td>False</td>\n      <td>-0.002774</td>\n      <td>19044</td>\n      <td>-0.012228</td>\n      <td>2.994625e-07</td>\n      <td>-0.012228</td>\n    </tr>\n    <tr>\n      <th>107996</th>\n      <td>20220222_9997</td>\n      <td>2022-02-22</td>\n      <td>9997</td>\n      <td>719.0</td>\n      <td>723.0</td>\n      <td>711.0</td>\n      <td>721.0</td>\n      <td>225500</td>\n      <td>1.0</td>\n      <td>0.0</td>\n      <td>False</td>\n      <td>0.019471</td>\n      <td>19045</td>\n      <td>-0.008253</td>\n      <td>2.994088e-07</td>\n      <td>-0.008253</td>\n    </tr>\n    <tr>\n      <th>107997</th>\n      <td>20220224_9997</td>\n      <td>2022-02-24</td>\n      <td>9997</td>\n      <td>709.0</td>\n      <td>725.0</td>\n      <td>708.0</td>\n      <td>719.0</td>\n      <td>195600</td>\n      <td>1.0</td>\n      <td>0.0</td>\n      <td>False</td>\n      <td>0.001364</td>\n      <td>19047</td>\n      <td>-0.002774</td>\n      <td>2.993706e-07</td>\n      <td>-0.002774</td>\n    </tr>\n    <tr>\n      <th>107998</th>\n      <td>20220225_9997</td>\n      <td>2022-02-25</td>\n      <td>9997</td>\n      <td>725.0</td>\n      <td>738.0</td>\n      <td>724.0</td>\n      <td>733.0</td>\n      <td>170500</td>\n      <td>1.0</td>\n      <td>0.0</td>\n      <td>False</td>\n      <td>-0.001362</td>\n      <td>19048</td>\n      <td>0.019471</td>\n      <td>2.993643e-07</td>\n      <td>0.019471</td>\n    </tr>\n    <tr>\n      <th>107999</th>\n      <td>20220228_9997</td>\n      <td>2022-02-28</td>\n      <td>9997</td>\n      <td>731.0</td>\n      <td>737.0</td>\n      <td>726.0</td>\n      <td>734.0</td>\n      <td>288100</td>\n      <td>1.0</td>\n      <td>0.0</td>\n      <td>False</td>\n      <td>-0.030014</td>\n      <td>19051</td>\n      <td>0.001364</td>\n      <td>2.993580e-07</td>\n      <td>0.001364</td>\n    </tr>\n  </tbody>\n</table>\n<p>10000 rows × 16 columns</p>\n</div>"
     },
     "execution_count": 98,
     "metadata": {},
     "output_type": "execute_result"
    }
   ],
   "source": [
    "## Keep only result which have been predicted\n",
    "df_test_res = df_test_res[df_test_res.Timestamp > ts_max - max_prediction_length].copy()\n",
    "df_test_res_baseline = df_test_res_baseline[df_test_res_baseline.Timestamp > ts_max - max_prediction_length].copy()\n",
    "df_test_res"
   ],
   "metadata": {
    "collapsed": false,
    "pycharm": {
     "name": "#%%\n"
    }
   }
  },
  {
   "cell_type": "code",
   "execution_count": 144,
   "outputs": [],
   "source": [
    "df_test_res['Rank'] = (df_test_res.groupby(\"Date\")[\"target_t0_t-1_true\"].rank(ascending=False, method=\"first\") - 1).astype(int)\n",
    "df_test_res_baseline['Rank'] = (df_test_res_baseline.groupby(\"Date\")[\"target_t0_t-1_true\"].rank(ascending=False, method=\"first\") - 1).astype(int)"
   ],
   "metadata": {
    "collapsed": false,
    "pycharm": {
     "name": "#%%\n"
    }
   }
  },
  {
   "cell_type": "code",
   "execution_count": 145,
   "outputs": [
    {
     "data": {
      "text/plain": "(0.3011614454155651, 0.3011614454155651)"
     },
     "execution_count": 145,
     "metadata": {},
     "output_type": "execute_result"
    }
   ],
   "source": [
    "from utilities.evaluation import calc_spread_return_sharpe\n",
    "\n",
    "calc_spread_return_sharpe(df_test_res), calc_spread_return_sharpe(df_test_res_baseline)"
   ],
   "metadata": {
    "collapsed": false,
    "pycharm": {
     "name": "#%%\n"
    }
   }
  },
  {
   "cell_type": "code",
   "execution_count": null,
   "outputs": [],
   "source": [],
   "metadata": {
    "collapsed": false,
    "pycharm": {
     "name": "#%%\n"
    }
   }
  }
 ],
 "metadata": {
  "kernelspec": {
   "display_name": "Python 3 (ipykernel)",
   "language": "python",
   "name": "python3"
  },
  "language_info": {
   "codemirror_mode": {
    "name": "ipython",
    "version": 3
   },
   "file_extension": ".py",
   "mimetype": "text/x-python",
   "name": "python",
   "nbconvert_exporter": "python",
   "pygments_lexer": "ipython3",
   "version": "3.8.12"
  }
 },
 "nbformat": 4,
 "nbformat_minor": 1
}