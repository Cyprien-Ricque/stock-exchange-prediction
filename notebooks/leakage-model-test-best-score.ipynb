{
 "cells": [
  {
   "cell_type": "code",
   "execution_count": 38,
   "metadata": {
    "execution": {
     "iopub.execute_input": "2022-05-09T17:01:25.545007Z",
     "iopub.status.busy": "2022-05-09T17:01:25.544669Z",
     "iopub.status.idle": "2022-05-09T17:01:25.572422Z",
     "shell.execute_reply": "2022-05-09T17:01:25.571769Z",
     "shell.execute_reply.started": "2022-05-09T17:01:25.544923Z"
    },
    "pycharm": {
     "name": "#%%\n"
    }
   },
   "outputs": [],
   "source": [
    "import pandas as pd\n",
    "import numpy as np"
   ]
  },
  {
   "cell_type": "code",
   "execution_count": 39,
   "metadata": {
    "execution": {
     "iopub.execute_input": "2022-05-09T17:01:25.574131Z",
     "iopub.status.busy": "2022-05-09T17:01:25.573787Z",
     "iopub.status.idle": "2022-05-09T17:01:25.671346Z",
     "shell.execute_reply": "2022-05-09T17:01:25.670697Z",
     "shell.execute_reply.started": "2022-05-09T17:01:25.574101Z"
    },
    "pycharm": {
     "name": "#%%\n"
    }
   },
   "outputs": [],
   "source": [
    "submission = pd.read_csv('../data/jpx-tokyo-stock-exchange-prediction/example_test_files/sample_submission.csv')"
   ]
  },
  {
   "cell_type": "code",
   "execution_count": 40,
   "metadata": {
    "execution": {
     "iopub.execute_input": "2022-05-09T06:41:42.895356Z",
     "iopub.status.busy": "2022-05-09T06:41:42.89505Z",
     "iopub.status.idle": "2022-05-09T06:41:42.916908Z",
     "shell.execute_reply": "2022-05-09T06:41:42.916296Z",
     "shell.execute_reply.started": "2022-05-09T06:41:42.895327Z"
    },
    "pycharm": {
     "name": "#%%\n"
    }
   },
   "outputs": [
    {
     "data": {
      "text/html": [
       "<div>\n",
       "<style scoped>\n",
       "    .dataframe tbody tr th:only-of-type {\n",
       "        vertical-align: middle;\n",
       "    }\n",
       "\n",
       "    .dataframe tbody tr th {\n",
       "        vertical-align: top;\n",
       "    }\n",
       "\n",
       "    .dataframe thead th {\n",
       "        text-align: right;\n",
       "    }\n",
       "</style>\n",
       "<table border=\"1\" class=\"dataframe\">\n",
       "  <thead>\n",
       "    <tr style=\"text-align: right;\">\n",
       "      <th></th>\n",
       "      <th>Date</th>\n",
       "      <th>SecuritiesCode</th>\n",
       "      <th>Rank</th>\n",
       "    </tr>\n",
       "  </thead>\n",
       "  <tbody>\n",
       "    <tr>\n",
       "      <th>0</th>\n",
       "      <td>2021-12-06</td>\n",
       "      <td>1301</td>\n",
       "      <td>0</td>\n",
       "    </tr>\n",
       "    <tr>\n",
       "      <th>1</th>\n",
       "      <td>2021-12-06</td>\n",
       "      <td>1332</td>\n",
       "      <td>1</td>\n",
       "    </tr>\n",
       "  </tbody>\n",
       "</table>\n",
       "</div>"
      ],
      "text/plain": [
       "         Date  SecuritiesCode  Rank\n",
       "0  2021-12-06            1301     0\n",
       "1  2021-12-06            1332     1"
      ]
     },
     "execution_count": 40,
     "metadata": {},
     "output_type": "execute_result"
    }
   ],
   "source": [
    "submission.head(2)"
   ]
  },
  {
   "cell_type": "markdown",
   "metadata": {
    "pycharm": {
     "name": "#%% md\n"
    }
   },
   "source": [
    "**We observe that even though the spread return of experiment 1 is lower, since its std is also lower, then its sharp ratio is better than exp. 2**"
   ]
  },
  {
   "cell_type": "code",
   "execution_count": 41,
   "metadata": {
    "pycharm": {
     "name": "#%%\n"
    }
   },
   "outputs": [],
   "source": [
    "\n",
    "def calc_spread_return_sharpe(df: pd.DataFrame, portfolio_size: int = 200, toprank_weight_ratio: float = 2) -> float:\n",
    "    \"\"\"\n",
    "    Args:\n",
    "        df (pd.DataFrame): predicted results\n",
    "        portfolio_size (int): # of equities to buy/sell\n",
    "        toprank_weight_ratio (float): the relative weight of the most highly ranked stock compared to the least.\n",
    "    Returns:\n",
    "        (float): sharpe ratio\n",
    "    \"\"\"\n",
    "\n",
    "    def _calc_spread_return_per_day(df, portfolio_size, toprank_weight_ratio):\n",
    "        \"\"\"\n",
    "        Args:\n",
    "            df (pd.DataFrame): predicted results\n",
    "            portfolio_size (int): # of equities to buy/sell\n",
    "            toprank_weight_ratio (float): the relative weight of the most highly ranked stock compared to the least.\n",
    "        Returns:\n",
    "            (float): spread return\n",
    "        \"\"\"\n",
    "        assert df['Rank'].min() == 0\n",
    "        assert df['Rank'].max() == len(df['Rank']) - 1\n",
    "        \n",
    "        weights = np.linspace(start=toprank_weight_ratio, stop=1, num=portfolio_size)\n",
    "        purchase = (df.sort_values(by='Rank')['Target'][:portfolio_size] * weights).sum() / weights.mean()\n",
    "        short = (df.sort_values(by='Rank', ascending=False)['Target'][:portfolio_size] * weights).sum() / weights.mean()\n",
    "        return purchase - short\n",
    "\n",
    "    buf = df.groupby('Date').apply(_calc_spread_return_per_day, portfolio_size, toprank_weight_ratio)\n",
    "    sharpe_ratio = buf.mean() / buf.std()\n",
    "    return sharpe_ratio\n"
   ]
  },
  {
   "cell_type": "markdown",
   "metadata": {
    "pycharm": {
     "name": "#%% md\n"
    }
   },
   "source": [
    "### supplemental_files"
   ]
  },
  {
   "cell_type": "code",
   "execution_count": 42,
   "metadata": {
    "execution": {
     "iopub.execute_input": "2022-05-09T07:40:30.420364Z",
     "iopub.status.busy": "2022-05-09T07:40:30.419741Z",
     "iopub.status.idle": "2022-05-09T07:40:30.775289Z",
     "shell.execute_reply": "2022-05-09T07:40:30.774407Z",
     "shell.execute_reply.started": "2022-05-09T07:40:30.42032Z"
    },
    "pycharm": {
     "name": "#%%\n"
    }
   },
   "outputs": [
    {
     "data": {
      "text/html": [
       "<div>\n",
       "<style scoped>\n",
       "    .dataframe tbody tr th:only-of-type {\n",
       "        vertical-align: middle;\n",
       "    }\n",
       "\n",
       "    .dataframe tbody tr th {\n",
       "        vertical-align: top;\n",
       "    }\n",
       "\n",
       "    .dataframe thead th {\n",
       "        text-align: right;\n",
       "    }\n",
       "</style>\n",
       "<table border=\"1\" class=\"dataframe\">\n",
       "  <thead>\n",
       "    <tr style=\"text-align: right;\">\n",
       "      <th></th>\n",
       "      <th>RowId</th>\n",
       "      <th>Date</th>\n",
       "      <th>SecuritiesCode</th>\n",
       "      <th>Open</th>\n",
       "      <th>High</th>\n",
       "      <th>Low</th>\n",
       "      <th>Close</th>\n",
       "      <th>Volume</th>\n",
       "      <th>AdjustmentFactor</th>\n",
       "      <th>ExpectedDividend</th>\n",
       "      <th>SupervisionFlag</th>\n",
       "      <th>Target</th>\n",
       "    </tr>\n",
       "  </thead>\n",
       "  <tbody>\n",
       "    <tr>\n",
       "      <th>0</th>\n",
       "      <td>20211206_1301</td>\n",
       "      <td>2021-12-06</td>\n",
       "      <td>1301</td>\n",
       "      <td>2982.0</td>\n",
       "      <td>2982.0</td>\n",
       "      <td>2965.0</td>\n",
       "      <td>2971.0</td>\n",
       "      <td>8900</td>\n",
       "      <td>1.0</td>\n",
       "      <td>NaN</td>\n",
       "      <td>False</td>\n",
       "      <td>-0.003263</td>\n",
       "    </tr>\n",
       "    <tr>\n",
       "      <th>1</th>\n",
       "      <td>20211206_1332</td>\n",
       "      <td>2021-12-06</td>\n",
       "      <td>1332</td>\n",
       "      <td>592.0</td>\n",
       "      <td>599.0</td>\n",
       "      <td>588.0</td>\n",
       "      <td>589.0</td>\n",
       "      <td>1360800</td>\n",
       "      <td>1.0</td>\n",
       "      <td>NaN</td>\n",
       "      <td>False</td>\n",
       "      <td>-0.008993</td>\n",
       "    </tr>\n",
       "  </tbody>\n",
       "</table>\n",
       "</div>"
      ],
      "text/plain": [
       "           RowId       Date  SecuritiesCode    Open    High     Low   Close  \\\n",
       "0  20211206_1301 2021-12-06            1301  2982.0  2982.0  2965.0  2971.0   \n",
       "1  20211206_1332 2021-12-06            1332   592.0   599.0   588.0   589.0   \n",
       "\n",
       "    Volume  AdjustmentFactor  ExpectedDividend  SupervisionFlag    Target  \n",
       "0     8900               1.0               NaN            False -0.003263  \n",
       "1  1360800               1.0               NaN            False -0.008993  "
      ]
     },
     "execution_count": 42,
     "metadata": {},
     "output_type": "execute_result"
    }
   ],
   "source": [
    "df = pd.read_csv('../data/jpx-tokyo-stock-exchange-prediction/supplemental_files/stock_prices.csv', parse_dates=[\"Date\"])\n",
    "df.head(2)"
   ]
  },
  {
   "cell_type": "code",
   "execution_count": 43,
   "metadata": {
    "execution": {
     "iopub.execute_input": "2022-05-09T07:02:50.892651Z",
     "iopub.status.busy": "2022-05-09T07:02:50.892376Z",
     "iopub.status.idle": "2022-05-09T07:02:50.898291Z",
     "shell.execute_reply": "2022-05-09T07:02:50.897775Z",
     "shell.execute_reply.started": "2022-05-09T07:02:50.892622Z"
    },
    "pycharm": {
     "name": "#%%\n"
    }
   },
   "outputs": [
    {
     "data": {
      "text/plain": [
       "(56, Timestamp('2022-02-28 00:00:00'), Timestamp('2021-12-06 00:00:00'))"
      ]
     },
     "execution_count": 43,
     "metadata": {},
     "output_type": "execute_result"
    }
   ],
   "source": [
    "df['Date'].nunique(), df.Date.max(), df.Date.min()"
   ]
  },
  {
   "cell_type": "code",
   "execution_count": 29,
   "metadata": {
    "scrolled": true,
    "pycharm": {
     "name": "#%%\n"
    }
   },
   "outputs": [
    {
     "data": {
      "text/html": [
       "<div>\n",
       "<style scoped>\n",
       "    .dataframe tbody tr th:only-of-type {\n",
       "        vertical-align: middle;\n",
       "    }\n",
       "\n",
       "    .dataframe tbody tr th {\n",
       "        vertical-align: top;\n",
       "    }\n",
       "\n",
       "    .dataframe thead th {\n",
       "        text-align: right;\n",
       "    }\n",
       "</style>\n",
       "<table border=\"1\" class=\"dataframe\">\n",
       "  <thead>\n",
       "    <tr style=\"text-align: right;\">\n",
       "      <th></th>\n",
       "      <th>close_diff</th>\n",
       "      <th>target</th>\n",
       "      <th>Close</th>\n",
       "      <th>Open</th>\n",
       "      <th>High</th>\n",
       "    </tr>\n",
       "  </thead>\n",
       "  <tbody>\n",
       "    <tr>\n",
       "      <th>0</th>\n",
       "      <td>NaN</td>\n",
       "      <td>NaN</td>\n",
       "      <td>NaN</td>\n",
       "      <td>NaN</td>\n",
       "      <td>NaN</td>\n",
       "    </tr>\n",
       "    <tr>\n",
       "      <th>1</th>\n",
       "      <td>94.0</td>\n",
       "      <td>NaN</td>\n",
       "      <td>NaN</td>\n",
       "      <td>NaN</td>\n",
       "      <td>NaN</td>\n",
       "    </tr>\n",
       "    <tr>\n",
       "      <th>2</th>\n",
       "      <td>-10.0</td>\n",
       "      <td>-0.003263</td>\n",
       "      <td>2971.0</td>\n",
       "      <td>2982.0</td>\n",
       "      <td>2982.0</td>\n",
       "    </tr>\n",
       "    <tr>\n",
       "      <th>3</th>\n",
       "      <td>30.0</td>\n",
       "      <td>0.009820</td>\n",
       "      <td>3065.0</td>\n",
       "      <td>2998.0</td>\n",
       "      <td>3065.0</td>\n",
       "    </tr>\n",
       "    <tr>\n",
       "      <th>4</th>\n",
       "      <td>20.0</td>\n",
       "      <td>0.006483</td>\n",
       "      <td>3055.0</td>\n",
       "      <td>3080.0</td>\n",
       "      <td>3080.0</td>\n",
       "    </tr>\n",
       "    <tr>\n",
       "      <th>5</th>\n",
       "      <td>-20.0</td>\n",
       "      <td>-0.006441</td>\n",
       "      <td>3085.0</td>\n",
       "      <td>3050.0</td>\n",
       "      <td>3085.0</td>\n",
       "    </tr>\n",
       "    <tr>\n",
       "      <th>6</th>\n",
       "      <td>-25.0</td>\n",
       "      <td>-0.008104</td>\n",
       "      <td>3105.0</td>\n",
       "      <td>3100.0</td>\n",
       "      <td>3105.0</td>\n",
       "    </tr>\n",
       "    <tr>\n",
       "      <th>7</th>\n",
       "      <td>30.0</td>\n",
       "      <td>0.009804</td>\n",
       "      <td>3085.0</td>\n",
       "      <td>3110.0</td>\n",
       "      <td>3110.0</td>\n",
       "    </tr>\n",
       "    <tr>\n",
       "      <th>8</th>\n",
       "      <td>35.0</td>\n",
       "      <td>0.011327</td>\n",
       "      <td>3060.0</td>\n",
       "      <td>3085.0</td>\n",
       "      <td>3085.0</td>\n",
       "    </tr>\n",
       "    <tr>\n",
       "      <th>9</th>\n",
       "      <td>-30.0</td>\n",
       "      <td>-0.009600</td>\n",
       "      <td>3090.0</td>\n",
       "      <td>3060.0</td>\n",
       "      <td>3095.0</td>\n",
       "    </tr>\n",
       "    <tr>\n",
       "      <th>10</th>\n",
       "      <td>-75.0</td>\n",
       "      <td>-0.024233</td>\n",
       "      <td>3125.0</td>\n",
       "      <td>3100.0</td>\n",
       "      <td>3135.0</td>\n",
       "    </tr>\n",
       "    <tr>\n",
       "      <th>11</th>\n",
       "      <td>30.0</td>\n",
       "      <td>0.009934</td>\n",
       "      <td>3095.0</td>\n",
       "      <td>3125.0</td>\n",
       "      <td>3140.0</td>\n",
       "    </tr>\n",
       "    <tr>\n",
       "      <th>12</th>\n",
       "      <td>10.0</td>\n",
       "      <td>0.003279</td>\n",
       "      <td>3020.0</td>\n",
       "      <td>3095.0</td>\n",
       "      <td>3095.0</td>\n",
       "    </tr>\n",
       "    <tr>\n",
       "      <th>13</th>\n",
       "      <td>-10.0</td>\n",
       "      <td>-0.003268</td>\n",
       "      <td>3050.0</td>\n",
       "      <td>3025.0</td>\n",
       "      <td>3060.0</td>\n",
       "    </tr>\n",
       "    <tr>\n",
       "      <th>14</th>\n",
       "      <td>-25.0</td>\n",
       "      <td>-0.008197</td>\n",
       "      <td>3060.0</td>\n",
       "      <td>3045.0</td>\n",
       "      <td>3070.0</td>\n",
       "    </tr>\n",
       "    <tr>\n",
       "      <th>15</th>\n",
       "      <td>10.0</td>\n",
       "      <td>0.003306</td>\n",
       "      <td>3050.0</td>\n",
       "      <td>3060.0</td>\n",
       "      <td>3065.0</td>\n",
       "    </tr>\n",
       "    <tr>\n",
       "      <th>16</th>\n",
       "      <td>60.0</td>\n",
       "      <td>0.019769</td>\n",
       "      <td>3025.0</td>\n",
       "      <td>3050.0</td>\n",
       "      <td>3050.0</td>\n",
       "    </tr>\n",
       "    <tr>\n",
       "      <th>17</th>\n",
       "      <td>5.0</td>\n",
       "      <td>0.001616</td>\n",
       "      <td>3035.0</td>\n",
       "      <td>3040.0</td>\n",
       "      <td>3045.0</td>\n",
       "    </tr>\n",
       "    <tr>\n",
       "      <th>18</th>\n",
       "      <td>-20.0</td>\n",
       "      <td>-0.006452</td>\n",
       "      <td>3095.0</td>\n",
       "      <td>3040.0</td>\n",
       "      <td>3095.0</td>\n",
       "    </tr>\n",
       "    <tr>\n",
       "      <th>19</th>\n",
       "      <td>5.0</td>\n",
       "      <td>0.001623</td>\n",
       "      <td>3100.0</td>\n",
       "      <td>3085.0</td>\n",
       "      <td>3100.0</td>\n",
       "    </tr>\n",
       "    <tr>\n",
       "      <th>20</th>\n",
       "      <td>25.0</td>\n",
       "      <td>0.008104</td>\n",
       "      <td>3080.0</td>\n",
       "      <td>3105.0</td>\n",
       "      <td>3105.0</td>\n",
       "    </tr>\n",
       "    <tr>\n",
       "      <th>21</th>\n",
       "      <td>-35.0</td>\n",
       "      <td>-0.011254</td>\n",
       "      <td>3085.0</td>\n",
       "      <td>3110.0</td>\n",
       "      <td>3110.0</td>\n",
       "    </tr>\n",
       "    <tr>\n",
       "      <th>22</th>\n",
       "      <td>-5.0</td>\n",
       "      <td>-0.001626</td>\n",
       "      <td>3110.0</td>\n",
       "      <td>3100.0</td>\n",
       "      <td>3115.0</td>\n",
       "    </tr>\n",
       "    <tr>\n",
       "      <th>23</th>\n",
       "      <td>15.0</td>\n",
       "      <td>0.004886</td>\n",
       "      <td>3075.0</td>\n",
       "      <td>3085.0</td>\n",
       "      <td>3115.0</td>\n",
       "    </tr>\n",
       "    <tr>\n",
       "      <th>24</th>\n",
       "      <td>25.0</td>\n",
       "      <td>0.008104</td>\n",
       "      <td>3070.0</td>\n",
       "      <td>3080.0</td>\n",
       "      <td>3115.0</td>\n",
       "    </tr>\n",
       "    <tr>\n",
       "      <th>25</th>\n",
       "      <td>-10.0</td>\n",
       "      <td>-0.003215</td>\n",
       "      <td>3085.0</td>\n",
       "      <td>3070.0</td>\n",
       "      <td>3090.0</td>\n",
       "    </tr>\n",
       "    <tr>\n",
       "      <th>26</th>\n",
       "      <td>5.0</td>\n",
       "      <td>0.001613</td>\n",
       "      <td>3110.0</td>\n",
       "      <td>3120.0</td>\n",
       "      <td>3120.0</td>\n",
       "    </tr>\n",
       "    <tr>\n",
       "      <th>27</th>\n",
       "      <td>20.0</td>\n",
       "      <td>0.006441</td>\n",
       "      <td>3100.0</td>\n",
       "      <td>3110.0</td>\n",
       "      <td>3120.0</td>\n",
       "    </tr>\n",
       "    <tr>\n",
       "      <th>28</th>\n",
       "      <td>-10.0</td>\n",
       "      <td>-0.003200</td>\n",
       "      <td>3105.0</td>\n",
       "      <td>3095.0</td>\n",
       "      <td>3115.0</td>\n",
       "    </tr>\n",
       "    <tr>\n",
       "      <th>29</th>\n",
       "      <td>-60.0</td>\n",
       "      <td>-0.019262</td>\n",
       "      <td>3125.0</td>\n",
       "      <td>3120.0</td>\n",
       "      <td>3125.0</td>\n",
       "    </tr>\n",
       "    <tr>\n",
       "      <th>30</th>\n",
       "      <td>5.0</td>\n",
       "      <td>0.001637</td>\n",
       "      <td>3115.0</td>\n",
       "      <td>3135.0</td>\n",
       "      <td>3135.0</td>\n",
       "    </tr>\n",
       "    <tr>\n",
       "      <th>31</th>\n",
       "      <td>35.0</td>\n",
       "      <td>0.011438</td>\n",
       "      <td>3055.0</td>\n",
       "      <td>3115.0</td>\n",
       "      <td>3115.0</td>\n",
       "    </tr>\n",
       "    <tr>\n",
       "      <th>32</th>\n",
       "      <td>50.0</td>\n",
       "      <td>0.016155</td>\n",
       "      <td>3060.0</td>\n",
       "      <td>3080.0</td>\n",
       "      <td>3105.0</td>\n",
       "    </tr>\n",
       "    <tr>\n",
       "      <th>33</th>\n",
       "      <td>-15.0</td>\n",
       "      <td>-0.004769</td>\n",
       "      <td>3095.0</td>\n",
       "      <td>3060.0</td>\n",
       "      <td>3105.0</td>\n",
       "    </tr>\n",
       "    <tr>\n",
       "      <th>34</th>\n",
       "      <td>0.0</td>\n",
       "      <td>0.000000</td>\n",
       "      <td>3145.0</td>\n",
       "      <td>3095.0</td>\n",
       "      <td>3145.0</td>\n",
       "    </tr>\n",
       "    <tr>\n",
       "      <th>35</th>\n",
       "      <td>-20.0</td>\n",
       "      <td>-0.006390</td>\n",
       "      <td>3130.0</td>\n",
       "      <td>3130.0</td>\n",
       "      <td>3130.0</td>\n",
       "    </tr>\n",
       "    <tr>\n",
       "      <th>36</th>\n",
       "      <td>-15.0</td>\n",
       "      <td>-0.004823</td>\n",
       "      <td>3130.0</td>\n",
       "      <td>3120.0</td>\n",
       "      <td>3160.0</td>\n",
       "    </tr>\n",
       "    <tr>\n",
       "      <th>37</th>\n",
       "      <td>55.0</td>\n",
       "      <td>0.017771</td>\n",
       "      <td>3110.0</td>\n",
       "      <td>3130.0</td>\n",
       "      <td>3150.0</td>\n",
       "    </tr>\n",
       "    <tr>\n",
       "      <th>38</th>\n",
       "      <td>15.0</td>\n",
       "      <td>0.004762</td>\n",
       "      <td>3095.0</td>\n",
       "      <td>3115.0</td>\n",
       "      <td>3135.0</td>\n",
       "    </tr>\n",
       "    <tr>\n",
       "      <th>39</th>\n",
       "      <td>65.0</td>\n",
       "      <td>0.020537</td>\n",
       "      <td>3150.0</td>\n",
       "      <td>3145.0</td>\n",
       "      <td>3150.0</td>\n",
       "    </tr>\n",
       "    <tr>\n",
       "      <th>40</th>\n",
       "      <td>10.0</td>\n",
       "      <td>0.003096</td>\n",
       "      <td>3165.0</td>\n",
       "      <td>3155.0</td>\n",
       "      <td>3170.0</td>\n",
       "    </tr>\n",
       "    <tr>\n",
       "      <th>41</th>\n",
       "      <td>10.0</td>\n",
       "      <td>0.003086</td>\n",
       "      <td>3230.0</td>\n",
       "      <td>3170.0</td>\n",
       "      <td>3235.0</td>\n",
       "    </tr>\n",
       "    <tr>\n",
       "      <th>42</th>\n",
       "      <td>-80.0</td>\n",
       "      <td>-0.024615</td>\n",
       "      <td>3240.0</td>\n",
       "      <td>3240.0</td>\n",
       "      <td>3250.0</td>\n",
       "    </tr>\n",
       "    <tr>\n",
       "      <th>43</th>\n",
       "      <td>75.0</td>\n",
       "      <td>0.023659</td>\n",
       "      <td>3250.0</td>\n",
       "      <td>3250.0</td>\n",
       "      <td>3270.0</td>\n",
       "    </tr>\n",
       "    <tr>\n",
       "      <th>44</th>\n",
       "      <td>-15.0</td>\n",
       "      <td>-0.004622</td>\n",
       "      <td>3170.0</td>\n",
       "      <td>3210.0</td>\n",
       "      <td>3230.0</td>\n",
       "    </tr>\n",
       "    <tr>\n",
       "      <th>45</th>\n",
       "      <td>15.0</td>\n",
       "      <td>0.004644</td>\n",
       "      <td>3245.0</td>\n",
       "      <td>3160.0</td>\n",
       "      <td>3255.0</td>\n",
       "    </tr>\n",
       "    <tr>\n",
       "      <th>46</th>\n",
       "      <td>-10.0</td>\n",
       "      <td>-0.003082</td>\n",
       "      <td>3230.0</td>\n",
       "      <td>3235.0</td>\n",
       "      <td>3250.0</td>\n",
       "    </tr>\n",
       "    <tr>\n",
       "      <th>47</th>\n",
       "      <td>-20.0</td>\n",
       "      <td>-0.006182</td>\n",
       "      <td>3245.0</td>\n",
       "      <td>3230.0</td>\n",
       "      <td>3245.0</td>\n",
       "    </tr>\n",
       "    <tr>\n",
       "      <th>48</th>\n",
       "      <td>5.0</td>\n",
       "      <td>0.001555</td>\n",
       "      <td>3235.0</td>\n",
       "      <td>3230.0</td>\n",
       "      <td>3245.0</td>\n",
       "    </tr>\n",
       "    <tr>\n",
       "      <th>49</th>\n",
       "      <td>5.0</td>\n",
       "      <td>0.001553</td>\n",
       "      <td>3215.0</td>\n",
       "      <td>3235.0</td>\n",
       "      <td>3240.0</td>\n",
       "    </tr>\n",
       "    <tr>\n",
       "      <th>50</th>\n",
       "      <td>-10.0</td>\n",
       "      <td>-0.003101</td>\n",
       "      <td>3220.0</td>\n",
       "      <td>3245.0</td>\n",
       "      <td>3245.0</td>\n",
       "    </tr>\n",
       "    <tr>\n",
       "      <th>51</th>\n",
       "      <td>-10.0</td>\n",
       "      <td>-0.003110</td>\n",
       "      <td>3225.0</td>\n",
       "      <td>3220.0</td>\n",
       "      <td>3235.0</td>\n",
       "    </tr>\n",
       "    <tr>\n",
       "      <th>52</th>\n",
       "      <td>-5.0</td>\n",
       "      <td>-0.001560</td>\n",
       "      <td>3215.0</td>\n",
       "      <td>3215.0</td>\n",
       "      <td>3225.0</td>\n",
       "    </tr>\n",
       "    <tr>\n",
       "      <th>53</th>\n",
       "      <td>-5.0</td>\n",
       "      <td>-0.001563</td>\n",
       "      <td>3205.0</td>\n",
       "      <td>3200.0</td>\n",
       "      <td>3215.0</td>\n",
       "    </tr>\n",
       "    <tr>\n",
       "      <th>54</th>\n",
       "      <td>-45.0</td>\n",
       "      <td>-0.014085</td>\n",
       "      <td>3200.0</td>\n",
       "      <td>3205.0</td>\n",
       "      <td>3215.0</td>\n",
       "    </tr>\n",
       "    <tr>\n",
       "      <th>55</th>\n",
       "      <td>115.0</td>\n",
       "      <td>0.036508</td>\n",
       "      <td>3195.0</td>\n",
       "      <td>3195.0</td>\n",
       "      <td>3205.0</td>\n",
       "    </tr>\n",
       "    <tr>\n",
       "      <th>56</th>\n",
       "      <td>NaN</td>\n",
       "      <td>-0.004594</td>\n",
       "      <td>3150.0</td>\n",
       "      <td>3160.0</td>\n",
       "      <td>3185.0</td>\n",
       "    </tr>\n",
       "    <tr>\n",
       "      <th>57</th>\n",
       "      <td>NaN</td>\n",
       "      <td>-0.007692</td>\n",
       "      <td>3265.0</td>\n",
       "      <td>3180.0</td>\n",
       "      <td>3265.0</td>\n",
       "    </tr>\n",
       "  </tbody>\n",
       "</table>\n",
       "</div>"
      ],
      "text/plain": [
       "    close_diff    target   Close    Open    High\n",
       "0          NaN       NaN     NaN     NaN     NaN\n",
       "1         94.0       NaN     NaN     NaN     NaN\n",
       "2        -10.0 -0.003263  2971.0  2982.0  2982.0\n",
       "3         30.0  0.009820  3065.0  2998.0  3065.0\n",
       "4         20.0  0.006483  3055.0  3080.0  3080.0\n",
       "5        -20.0 -0.006441  3085.0  3050.0  3085.0\n",
       "6        -25.0 -0.008104  3105.0  3100.0  3105.0\n",
       "7         30.0  0.009804  3085.0  3110.0  3110.0\n",
       "8         35.0  0.011327  3060.0  3085.0  3085.0\n",
       "9        -30.0 -0.009600  3090.0  3060.0  3095.0\n",
       "10       -75.0 -0.024233  3125.0  3100.0  3135.0\n",
       "11        30.0  0.009934  3095.0  3125.0  3140.0\n",
       "12        10.0  0.003279  3020.0  3095.0  3095.0\n",
       "13       -10.0 -0.003268  3050.0  3025.0  3060.0\n",
       "14       -25.0 -0.008197  3060.0  3045.0  3070.0\n",
       "15        10.0  0.003306  3050.0  3060.0  3065.0\n",
       "16        60.0  0.019769  3025.0  3050.0  3050.0\n",
       "17         5.0  0.001616  3035.0  3040.0  3045.0\n",
       "18       -20.0 -0.006452  3095.0  3040.0  3095.0\n",
       "19         5.0  0.001623  3100.0  3085.0  3100.0\n",
       "20        25.0  0.008104  3080.0  3105.0  3105.0\n",
       "21       -35.0 -0.011254  3085.0  3110.0  3110.0\n",
       "22        -5.0 -0.001626  3110.0  3100.0  3115.0\n",
       "23        15.0  0.004886  3075.0  3085.0  3115.0\n",
       "24        25.0  0.008104  3070.0  3080.0  3115.0\n",
       "25       -10.0 -0.003215  3085.0  3070.0  3090.0\n",
       "26         5.0  0.001613  3110.0  3120.0  3120.0\n",
       "27        20.0  0.006441  3100.0  3110.0  3120.0\n",
       "28       -10.0 -0.003200  3105.0  3095.0  3115.0\n",
       "29       -60.0 -0.019262  3125.0  3120.0  3125.0\n",
       "30         5.0  0.001637  3115.0  3135.0  3135.0\n",
       "31        35.0  0.011438  3055.0  3115.0  3115.0\n",
       "32        50.0  0.016155  3060.0  3080.0  3105.0\n",
       "33       -15.0 -0.004769  3095.0  3060.0  3105.0\n",
       "34         0.0  0.000000  3145.0  3095.0  3145.0\n",
       "35       -20.0 -0.006390  3130.0  3130.0  3130.0\n",
       "36       -15.0 -0.004823  3130.0  3120.0  3160.0\n",
       "37        55.0  0.017771  3110.0  3130.0  3150.0\n",
       "38        15.0  0.004762  3095.0  3115.0  3135.0\n",
       "39        65.0  0.020537  3150.0  3145.0  3150.0\n",
       "40        10.0  0.003096  3165.0  3155.0  3170.0\n",
       "41        10.0  0.003086  3230.0  3170.0  3235.0\n",
       "42       -80.0 -0.024615  3240.0  3240.0  3250.0\n",
       "43        75.0  0.023659  3250.0  3250.0  3270.0\n",
       "44       -15.0 -0.004622  3170.0  3210.0  3230.0\n",
       "45        15.0  0.004644  3245.0  3160.0  3255.0\n",
       "46       -10.0 -0.003082  3230.0  3235.0  3250.0\n",
       "47       -20.0 -0.006182  3245.0  3230.0  3245.0\n",
       "48         5.0  0.001555  3235.0  3230.0  3245.0\n",
       "49         5.0  0.001553  3215.0  3235.0  3240.0\n",
       "50       -10.0 -0.003101  3220.0  3245.0  3245.0\n",
       "51       -10.0 -0.003110  3225.0  3220.0  3235.0\n",
       "52        -5.0 -0.001560  3215.0  3215.0  3225.0\n",
       "53        -5.0 -0.001563  3205.0  3200.0  3215.0\n",
       "54       -45.0 -0.014085  3200.0  3205.0  3215.0\n",
       "55       115.0  0.036508  3195.0  3195.0  3205.0\n",
       "56         NaN -0.004594  3150.0  3160.0  3185.0\n",
       "57         NaN -0.007692  3265.0  3180.0  3265.0"
      ]
     },
     "execution_count": 29,
     "metadata": {},
     "output_type": "execute_result"
    }
   ],
   "source": [
    "f = df.SecuritiesCode == 1301\n",
    "\n",
    "pd.DataFrame({'close_diff': list(df[f].Close.diff()) + [np.nan, np.nan], \n",
    "              'target': [np.nan, np.nan] + list(df[f].Target.values),\n",
    "              'Close': [np.nan, np.nan] + list(df[f].Close.values),\n",
    "              'Open': [np.nan, np.nan] + list(df[f].Open.values),\n",
    "              'High': [np.nan, np.nan] + list(df[f].High.values)})"
   ]
  },
  {
   "cell_type": "code",
   "execution_count": null,
   "metadata": {
    "pycharm": {
     "name": "#%%\n"
    }
   },
   "outputs": [],
   "source": []
  },
  {
   "cell_type": "markdown",
   "metadata": {
    "pycharm": {
     "name": "#%% md\n"
    }
   },
   "source": [
    "### rank stocks by target, disregarding volatility, and consider the higher the return the better"
   ]
  },
  {
   "cell_type": "code",
   "execution_count": 45,
   "metadata": {
    "execution": {
     "iopub.execute_input": "2022-05-09T07:40:41.741072Z",
     "iopub.status.busy": "2022-05-09T07:40:41.740777Z",
     "iopub.status.idle": "2022-05-09T07:40:41.784891Z",
     "shell.execute_reply": "2022-05-09T07:40:41.784225Z",
     "shell.execute_reply.started": "2022-05-09T07:40:41.741038Z"
    },
    "pycharm": {
     "name": "#%%\n"
    }
   },
   "outputs": [],
   "source": [
    "df['Rank'] = df.groupby(\"Date\")[\"Target\"].rank(ascending=False, method=\"first\") - 1"
   ]
  },
  {
   "cell_type": "code",
   "execution_count": 46,
   "metadata": {
    "execution": {
     "iopub.execute_input": "2022-05-09T07:40:48.143472Z",
     "iopub.status.busy": "2022-05-09T07:40:48.14304Z",
     "iopub.status.idle": "2022-05-09T07:40:48.148461Z",
     "shell.execute_reply": "2022-05-09T07:40:48.147565Z",
     "shell.execute_reply.started": "2022-05-09T07:40:48.14344Z"
    },
    "pycharm": {
     "name": "#%%\n"
    }
   },
   "outputs": [
    {
     "data": {
      "text/html": [
       "<div>\n",
       "<style scoped>\n",
       "    .dataframe tbody tr th:only-of-type {\n",
       "        vertical-align: middle;\n",
       "    }\n",
       "\n",
       "    .dataframe tbody tr th {\n",
       "        vertical-align: top;\n",
       "    }\n",
       "\n",
       "    .dataframe thead th {\n",
       "        text-align: right;\n",
       "    }\n",
       "</style>\n",
       "<table border=\"1\" class=\"dataframe\">\n",
       "  <thead>\n",
       "    <tr style=\"text-align: right;\">\n",
       "      <th></th>\n",
       "      <th>RowId</th>\n",
       "      <th>Date</th>\n",
       "      <th>SecuritiesCode</th>\n",
       "      <th>Open</th>\n",
       "      <th>High</th>\n",
       "      <th>Low</th>\n",
       "      <th>Close</th>\n",
       "      <th>Volume</th>\n",
       "      <th>AdjustmentFactor</th>\n",
       "      <th>ExpectedDividend</th>\n",
       "      <th>SupervisionFlag</th>\n",
       "      <th>Target</th>\n",
       "      <th>Rank</th>\n",
       "    </tr>\n",
       "  </thead>\n",
       "  <tbody>\n",
       "    <tr>\n",
       "      <th>0</th>\n",
       "      <td>20211206_1301</td>\n",
       "      <td>2021-12-06</td>\n",
       "      <td>1301</td>\n",
       "      <td>2982.0</td>\n",
       "      <td>2982.0</td>\n",
       "      <td>2965.0</td>\n",
       "      <td>2971.0</td>\n",
       "      <td>8900</td>\n",
       "      <td>1.0</td>\n",
       "      <td>NaN</td>\n",
       "      <td>False</td>\n",
       "      <td>-0.003263</td>\n",
       "      <td>1394</td>\n",
       "    </tr>\n",
       "    <tr>\n",
       "      <th>1</th>\n",
       "      <td>20211206_1332</td>\n",
       "      <td>2021-12-06</td>\n",
       "      <td>1332</td>\n",
       "      <td>592.0</td>\n",
       "      <td>599.0</td>\n",
       "      <td>588.0</td>\n",
       "      <td>589.0</td>\n",
       "      <td>1360800</td>\n",
       "      <td>1.0</td>\n",
       "      <td>NaN</td>\n",
       "      <td>False</td>\n",
       "      <td>-0.008993</td>\n",
       "      <td>1670</td>\n",
       "    </tr>\n",
       "    <tr>\n",
       "      <th>2</th>\n",
       "      <td>20211206_1333</td>\n",
       "      <td>2021-12-06</td>\n",
       "      <td>1333</td>\n",
       "      <td>2368.0</td>\n",
       "      <td>2388.0</td>\n",
       "      <td>2360.0</td>\n",
       "      <td>2377.0</td>\n",
       "      <td>125900</td>\n",
       "      <td>1.0</td>\n",
       "      <td>NaN</td>\n",
       "      <td>False</td>\n",
       "      <td>-0.009963</td>\n",
       "      <td>1712</td>\n",
       "    </tr>\n",
       "    <tr>\n",
       "      <th>3</th>\n",
       "      <td>20211206_1375</td>\n",
       "      <td>2021-12-06</td>\n",
       "      <td>1375</td>\n",
       "      <td>1230.0</td>\n",
       "      <td>1239.0</td>\n",
       "      <td>1224.0</td>\n",
       "      <td>1224.0</td>\n",
       "      <td>81100</td>\n",
       "      <td>1.0</td>\n",
       "      <td>NaN</td>\n",
       "      <td>False</td>\n",
       "      <td>-0.015032</td>\n",
       "      <td>1844</td>\n",
       "    </tr>\n",
       "    <tr>\n",
       "      <th>4</th>\n",
       "      <td>20211206_1376</td>\n",
       "      <td>2021-12-06</td>\n",
       "      <td>1376</td>\n",
       "      <td>1339.0</td>\n",
       "      <td>1372.0</td>\n",
       "      <td>1339.0</td>\n",
       "      <td>1351.0</td>\n",
       "      <td>6200</td>\n",
       "      <td>1.0</td>\n",
       "      <td>NaN</td>\n",
       "      <td>False</td>\n",
       "      <td>0.002867</td>\n",
       "      <td>978</td>\n",
       "    </tr>\n",
       "  </tbody>\n",
       "</table>\n",
       "</div>"
      ],
      "text/plain": [
       "           RowId       Date  SecuritiesCode    Open    High     Low   Close  \\\n",
       "0  20211206_1301 2021-12-06            1301  2982.0  2982.0  2965.0  2971.0   \n",
       "1  20211206_1332 2021-12-06            1332   592.0   599.0   588.0   589.0   \n",
       "2  20211206_1333 2021-12-06            1333  2368.0  2388.0  2360.0  2377.0   \n",
       "3  20211206_1375 2021-12-06            1375  1230.0  1239.0  1224.0  1224.0   \n",
       "4  20211206_1376 2021-12-06            1376  1339.0  1372.0  1339.0  1351.0   \n",
       "\n",
       "    Volume  AdjustmentFactor  ExpectedDividend  SupervisionFlag    Target  \\\n",
       "0     8900               1.0               NaN            False -0.003263   \n",
       "1  1360800               1.0               NaN            False -0.008993   \n",
       "2   125900               1.0               NaN            False -0.009963   \n",
       "3    81100               1.0               NaN            False -0.015032   \n",
       "4     6200               1.0               NaN            False  0.002867   \n",
       "\n",
       "   Rank  \n",
       "0  1394  \n",
       "1  1670  \n",
       "2  1712  \n",
       "3  1844  \n",
       "4   978  "
      ]
     },
     "execution_count": 46,
     "metadata": {},
     "output_type": "execute_result"
    }
   ],
   "source": [
    "df['Rank'] = df['Rank'].astype('int')\n",
    "df.head()"
   ]
  },
  {
   "cell_type": "markdown",
   "metadata": {
    "execution": {
     "iopub.execute_input": "2022-05-09T07:00:01.504415Z",
     "iopub.status.busy": "2022-05-09T07:00:01.503895Z",
     "iopub.status.idle": "2022-05-09T07:00:01.532841Z",
     "shell.execute_reply": "2022-05-09T07:00:01.531933Z",
     "shell.execute_reply.started": "2022-05-09T07:00:01.504382Z"
    },
    "pycharm": {
     "name": "#%% md\n"
    }
   },
   "source": [
    "**gives the column rank, which indicates the rank of each stock's target for each day among the 2000 stocks for that day.**"
   ]
  },
  {
   "cell_type": "markdown",
   "metadata": {
    "pycharm": {
     "name": "#%% md\n"
    }
   },
   "source": [
    "**But the submission is asking for the table to be sorted by date, and then within each date it is sorted by rank. From smallest to largest, from 0-1999**"
   ]
  },
  {
   "cell_type": "code",
   "execution_count": 47,
   "metadata": {
    "execution": {
     "iopub.execute_input": "2022-05-09T07:40:53.056103Z",
     "iopub.status.busy": "2022-05-09T07:40:53.055728Z",
     "iopub.status.idle": "2022-05-09T07:40:53.097586Z",
     "shell.execute_reply": "2022-05-09T07:40:53.096929Z",
     "shell.execute_reply.started": "2022-05-09T07:40:53.056055Z"
    },
    "pycharm": {
     "name": "#%%\n"
    }
   },
   "outputs": [
    {
     "data": {
      "text/html": [
       "<div>\n",
       "<style scoped>\n",
       "    .dataframe tbody tr th:only-of-type {\n",
       "        vertical-align: middle;\n",
       "    }\n",
       "\n",
       "    .dataframe tbody tr th {\n",
       "        vertical-align: top;\n",
       "    }\n",
       "\n",
       "    .dataframe thead th {\n",
       "        text-align: right;\n",
       "    }\n",
       "</style>\n",
       "<table border=\"1\" class=\"dataframe\">\n",
       "  <thead>\n",
       "    <tr style=\"text-align: right;\">\n",
       "      <th></th>\n",
       "      <th>RowId</th>\n",
       "      <th>Date</th>\n",
       "      <th>SecuritiesCode</th>\n",
       "      <th>Open</th>\n",
       "      <th>High</th>\n",
       "      <th>Low</th>\n",
       "      <th>Close</th>\n",
       "      <th>Volume</th>\n",
       "      <th>AdjustmentFactor</th>\n",
       "      <th>ExpectedDividend</th>\n",
       "      <th>SupervisionFlag</th>\n",
       "      <th>Target</th>\n",
       "      <th>Rank</th>\n",
       "    </tr>\n",
       "  </thead>\n",
       "  <tbody>\n",
       "    <tr>\n",
       "      <th>739</th>\n",
       "      <td>20211206_4699</td>\n",
       "      <td>2021-12-06</td>\n",
       "      <td>4699</td>\n",
       "      <td>2660.0</td>\n",
       "      <td>2660.0</td>\n",
       "      <td>2660.0</td>\n",
       "      <td>2660.0</td>\n",
       "      <td>2900</td>\n",
       "      <td>1.0</td>\n",
       "      <td>NaN</td>\n",
       "      <td>True</td>\n",
       "      <td>0.300633</td>\n",
       "      <td>0</td>\n",
       "    </tr>\n",
       "    <tr>\n",
       "      <th>1278</th>\n",
       "      <td>20211206_7036</td>\n",
       "      <td>2021-12-06</td>\n",
       "      <td>7036</td>\n",
       "      <td>3800.0</td>\n",
       "      <td>3860.0</td>\n",
       "      <td>3730.0</td>\n",
       "      <td>3765.0</td>\n",
       "      <td>1500</td>\n",
       "      <td>1.0</td>\n",
       "      <td>NaN</td>\n",
       "      <td>False</td>\n",
       "      <td>0.178344</td>\n",
       "      <td>1</td>\n",
       "    </tr>\n",
       "  </tbody>\n",
       "</table>\n",
       "</div>"
      ],
      "text/plain": [
       "              RowId       Date  SecuritiesCode    Open    High     Low  \\\n",
       "739   20211206_4699 2021-12-06            4699  2660.0  2660.0  2660.0   \n",
       "1278  20211206_7036 2021-12-06            7036  3800.0  3860.0  3730.0   \n",
       "\n",
       "       Close  Volume  AdjustmentFactor  ExpectedDividend  SupervisionFlag  \\\n",
       "739   2660.0    2900               1.0               NaN             True   \n",
       "1278  3765.0    1500               1.0               NaN            False   \n",
       "\n",
       "        Target  Rank  \n",
       "739   0.300633     0  \n",
       "1278  0.178344     1  "
      ]
     },
     "execution_count": 47,
     "metadata": {},
     "output_type": "execute_result"
    }
   ],
   "source": [
    "df_submission = df.sort_values([\"Date\", \"Rank\"],ascending=True)\n",
    "df_submission.head(2)"
   ]
  },
  {
   "cell_type": "code",
   "execution_count": 68,
   "metadata": {
    "pycharm": {
     "name": "#%%\n"
    }
   },
   "outputs": [
    {
     "data": {
      "text/plain": [
       "5.4347049198950685"
      ]
     },
     "execution_count": 68,
     "metadata": {},
     "output_type": "execute_result"
    }
   ],
   "source": [
    "portfolio_size = 200\n",
    "weights = np.linspace(start=2, stop=1, num=portfolio_size)\n",
    "\n",
    "res = df_submission.groupby('Date').Target.apply(lambda x: ((x[:portfolio_size] * weights).sum() / weights.mean()) - \n",
    "                                         ((x[2000 - portfolio_size:] * weights[::-1]).sum() / weights.mean()))\n",
    "res.mean() / (res.std())"
   ]
  },
  {
   "cell_type": "code",
   "execution_count": 70,
   "metadata": {
    "pycharm": {
     "name": "#%%\n"
    }
   },
   "outputs": [
    {
     "data": {
      "text/plain": [
       "(56,)"
      ]
     },
     "execution_count": 70,
     "metadata": {},
     "output_type": "execute_result"
    }
   ],
   "source": [
    "res"
   ]
  },
  {
   "cell_type": "code",
   "execution_count": 74,
   "metadata": {
    "pycharm": {
     "name": "#%%\n"
    }
   },
   "outputs": [
    {
     "data": {
      "text/plain": [
       "0.31225352651075783"
      ]
     },
     "execution_count": 74,
     "metadata": {},
     "output_type": "execute_result"
    }
   ],
   "source": [
    "sampl = np.random.uniform(low=5, high=6, size=(56,))\n",
    "sampl.std()"
   ]
  },
  {
   "cell_type": "code",
   "execution_count": 75,
   "metadata": {
    "pycharm": {
     "name": "#%%\n"
    }
   },
   "outputs": [
    {
     "data": {
      "text/plain": [
       "17.590473026639035"
      ]
     },
     "execution_count": 75,
     "metadata": {},
     "output_type": "execute_result"
    }
   ],
   "source": [
    "sampl.mean() / sampl.std()"
   ]
  },
  {
   "cell_type": "code",
   "execution_count": 60,
   "metadata": {
    "pycharm": {
     "name": "#%%\n"
    }
   },
   "outputs": [
    {
     "data": {
      "text/plain": [
       "2.789976615745488"
      ]
     },
     "execution_count": 60,
     "metadata": {},
     "output_type": "execute_result"
    }
   ],
   "source": [
    "res.std()"
   ]
  },
  {
   "cell_type": "code",
   "execution_count": 62,
   "metadata": {
    "pycharm": {
     "name": "#%%\n"
    }
   },
   "outputs": [
    {
     "data": {
      "text/plain": [
       "0.5"
      ]
     },
     "execution_count": 62,
     "metadata": {},
     "output_type": "execute_result"
    }
   ],
   "source": [
    "np.array([0, 1]).std()"
   ]
  },
  {
   "cell_type": "code",
   "execution_count": 63,
   "metadata": {
    "pycharm": {
     "name": "#%%\n"
    }
   },
   "outputs": [
    {
     "data": {
      "text/plain": [
       "15162.699639984197"
      ]
     },
     "execution_count": 63,
     "metadata": {},
     "output_type": "execute_result"
    }
   ],
   "source": [
    "res.mean() / 0.001"
   ]
  },
  {
   "cell_type": "markdown",
   "metadata": {
    "pycharm": {
     "name": "#%% md\n"
    }
   },
   "source": [
    "and then look at the submission file, you need to sunmission file rank column and our prediction on the correspondence, that is, through the SecuritiesCode column, and then find each day corresponding to the date, df_submisson in the SecuritiesCode corresponding to the rank is how much."
   ]
  },
  {
   "cell_type": "code",
   "execution_count": 58,
   "metadata": {
    "execution": {
     "iopub.execute_input": "2022-05-09T07:23:23.82973Z",
     "iopub.status.busy": "2022-05-09T07:23:23.828916Z",
     "iopub.status.idle": "2022-05-09T07:23:23.842553Z",
     "shell.execute_reply": "2022-05-09T07:23:23.841254Z",
     "shell.execute_reply.started": "2022-05-09T07:23:23.82966Z"
    },
    "pycharm": {
     "name": "#%%\n"
    }
   },
   "outputs": [
    {
     "data": {
      "text/html": [
       "<div>\n",
       "<style scoped>\n",
       "    .dataframe tbody tr th:only-of-type {\n",
       "        vertical-align: middle;\n",
       "    }\n",
       "\n",
       "    .dataframe tbody tr th {\n",
       "        vertical-align: top;\n",
       "    }\n",
       "\n",
       "    .dataframe thead th {\n",
       "        text-align: right;\n",
       "    }\n",
       "</style>\n",
       "<table border=\"1\" class=\"dataframe\">\n",
       "  <thead>\n",
       "    <tr style=\"text-align: right;\">\n",
       "      <th></th>\n",
       "      <th>Date</th>\n",
       "      <th>SecuritiesCode</th>\n",
       "      <th>Rank</th>\n",
       "    </tr>\n",
       "  </thead>\n",
       "  <tbody>\n",
       "    <tr>\n",
       "      <th>0</th>\n",
       "      <td>2021-12-06</td>\n",
       "      <td>1301</td>\n",
       "      <td>0</td>\n",
       "    </tr>\n",
       "    <tr>\n",
       "      <th>1</th>\n",
       "      <td>2021-12-06</td>\n",
       "      <td>1332</td>\n",
       "      <td>1</td>\n",
       "    </tr>\n",
       "    <tr>\n",
       "      <th>2</th>\n",
       "      <td>2021-12-06</td>\n",
       "      <td>1333</td>\n",
       "      <td>2</td>\n",
       "    </tr>\n",
       "    <tr>\n",
       "      <th>3</th>\n",
       "      <td>2021-12-06</td>\n",
       "      <td>1375</td>\n",
       "      <td>3</td>\n",
       "    </tr>\n",
       "    <tr>\n",
       "      <th>4</th>\n",
       "      <td>2021-12-06</td>\n",
       "      <td>1376</td>\n",
       "      <td>4</td>\n",
       "    </tr>\n",
       "    <tr>\n",
       "      <th>...</th>\n",
       "      <td>...</td>\n",
       "      <td>...</td>\n",
       "      <td>...</td>\n",
       "    </tr>\n",
       "    <tr>\n",
       "      <th>111995</th>\n",
       "      <td>2022-02-28</td>\n",
       "      <td>9990</td>\n",
       "      <td>1995</td>\n",
       "    </tr>\n",
       "    <tr>\n",
       "      <th>111996</th>\n",
       "      <td>2022-02-28</td>\n",
       "      <td>9991</td>\n",
       "      <td>1996</td>\n",
       "    </tr>\n",
       "    <tr>\n",
       "      <th>111997</th>\n",
       "      <td>2022-02-28</td>\n",
       "      <td>9993</td>\n",
       "      <td>1997</td>\n",
       "    </tr>\n",
       "    <tr>\n",
       "      <th>111998</th>\n",
       "      <td>2022-02-28</td>\n",
       "      <td>9994</td>\n",
       "      <td>1998</td>\n",
       "    </tr>\n",
       "    <tr>\n",
       "      <th>111999</th>\n",
       "      <td>2022-02-28</td>\n",
       "      <td>9997</td>\n",
       "      <td>1999</td>\n",
       "    </tr>\n",
       "  </tbody>\n",
       "</table>\n",
       "<p>112000 rows × 3 columns</p>\n",
       "</div>"
      ],
      "text/plain": [
       "              Date  SecuritiesCode  Rank\n",
       "0       2021-12-06            1301     0\n",
       "1       2021-12-06            1332     1\n",
       "2       2021-12-06            1333     2\n",
       "3       2021-12-06            1375     3\n",
       "4       2021-12-06            1376     4\n",
       "...            ...             ...   ...\n",
       "111995  2022-02-28            9990  1995\n",
       "111996  2022-02-28            9991  1996\n",
       "111997  2022-02-28            9993  1997\n",
       "111998  2022-02-28            9994  1998\n",
       "111999  2022-02-28            9997  1999\n",
       "\n",
       "[112000 rows x 3 columns]"
      ]
     },
     "execution_count": 58,
     "metadata": {},
     "output_type": "execute_result"
    }
   ],
   "source": [
    "submission"
   ]
  },
  {
   "cell_type": "markdown",
   "metadata": {
    "pycharm": {
     "name": "#%% md\n"
    }
   },
   "source": [
    "### Calculate the score yourself first, theoretically we don't need to calculate it, the background will calculate it after submitting the file"
   ]
  },
  {
   "cell_type": "code",
   "execution_count": 96,
   "metadata": {
    "pycharm": {
     "name": "#%%\n"
    }
   },
   "outputs": [
    {
     "data": {
      "text/plain": [
       "5.434704919895069"
      ]
     },
     "execution_count": 96,
     "metadata": {},
     "output_type": "execute_result"
    }
   ],
   "source": [
    "calc_spread_return_sharpe(df_submission)"
   ]
  },
  {
   "cell_type": "markdown",
   "metadata": {
    "pycharm": {
     "name": "#%% md\n"
    }
   },
   "source": [
    "### Submit to the system"
   ]
  },
  {
   "cell_type": "code",
   "execution_count": 69,
   "metadata": {
    "collapsed": true,
    "execution": {
     "iopub.execute_input": "2022-05-09T07:41:08.96692Z",
     "iopub.status.busy": "2022-05-09T07:41:08.966506Z",
     "iopub.status.idle": "2022-05-09T07:41:09.185049Z",
     "shell.execute_reply": "2022-05-09T07:41:09.184109Z",
     "shell.execute_reply.started": "2022-05-09T07:41:08.966888Z"
    },
    "pycharm": {
     "name": "#%%\n"
    }
   },
   "outputs": [
    {
     "ename": "ModuleNotFoundError",
     "evalue": "No module named 'jpx_tokyo_market_prediction'",
     "output_type": "error",
     "traceback": [
      "\u001B[1;31m---------------------------------------------------------------------------\u001B[0m",
      "\u001B[1;31mModuleNotFoundError\u001B[0m                       Traceback (most recent call last)",
      "Input \u001B[1;32mIn [69]\u001B[0m, in \u001B[0;36m<cell line: 1>\u001B[1;34m()\u001B[0m\n\u001B[1;32m----> 1\u001B[0m \u001B[38;5;28;01mimport\u001B[39;00m \u001B[38;5;21;01mjpx_tokyo_market_prediction\u001B[39;00m\n\u001B[0;32m      2\u001B[0m env \u001B[38;5;241m=\u001B[39m jpx_tokyo_market_prediction\u001B[38;5;241m.\u001B[39mmake_env()\n\u001B[0;32m      3\u001B[0m iter_test \u001B[38;5;241m=\u001B[39m env\u001B[38;5;241m.\u001B[39miter_test()\n",
      "\u001B[1;31mModuleNotFoundError\u001B[0m: No module named 'jpx_tokyo_market_prediction'"
     ]
    }
   ],
   "source": [
    "import jpx_tokyo_market_prediction\n",
    "env = jpx_tokyo_market_prediction.make_env()\n",
    "iter_test = env.iter_test()\n",
    "\n",
    "for prices, _, _, _, _, sample_prediction in iter_test:\n",
    "    day_df = df_submission[df_submission['Date'] == prices[\"Date\"].iloc[0]]\n",
    "    map_dict = day_df.set_index(\"SecuritiesCode\")[\"Rank\"]\n",
    "    sample_prediction[\"Rank\"] = sample_prediction.SecuritiesCode.map(map_dict)\n",
    "    env.predict(sample_prediction)"
   ]
  },
  {
   "cell_type": "code",
   "execution_count": null,
   "metadata": {
    "pycharm": {
     "name": "#%%\n"
    }
   },
   "outputs": [],
   "source": []
  }
 ],
 "metadata": {
  "kernelspec": {
   "display_name": "Python 3 (ipykernel)",
   "language": "python",
   "name": "python3"
  },
  "language_info": {
   "codemirror_mode": {
    "name": "ipython",
    "version": 3
   },
   "file_extension": ".py",
   "mimetype": "text/x-python",
   "name": "python",
   "nbconvert_exporter": "python",
   "pygments_lexer": "ipython3",
   "version": "3.8.12"
  }
 },
 "nbformat": 4,
 "nbformat_minor": 4
}