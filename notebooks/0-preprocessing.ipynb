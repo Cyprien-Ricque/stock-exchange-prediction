{
 "cells": [
  {
   "cell_type": "code",
   "execution_count": 16,
   "outputs": [],
   "source": [
    "import sys\n",
    "sys.path.append(\"/home/cyprien/Documents/github/pytorch-forecasting\")\n",
    "\n",
    "import hashlib\n",
    "\n",
    "import numpy as np\n",
    "from tqdm import tqdm\n",
    "\n",
    "from data_factory.preprocessing import *\n",
    "from utilities.config import load_config\n",
    "\n",
    "import matplotlib.pyplot as plt\n",
    "\n",
    "logging.basicConfig(level=DEBUG)\n",
    "logger = logging.getLogger(__name__)\n",
    "logger.setLevel(DEBUG)"
   ],
   "metadata": {
    "collapsed": false,
    "pycharm": {
     "name": "#%%\n"
    }
   }
  },
  {
   "cell_type": "code",
   "execution_count": 17,
   "outputs": [],
   "source": [
    "config_file = '../config/config.yml'\n",
    "use_previous_files = False\n",
    "export = False"
   ],
   "metadata": {
    "collapsed": false,
    "pycharm": {
     "name": "#%%\n"
    }
   }
  },
  {
   "cell_type": "code",
   "execution_count": 18,
   "outputs": [
    {
     "name": "stderr",
     "output_type": "stream",
     "text": [
      "DEBUG:__main__:Export file ../data/save//export_afebfaf4d51991e869bdb4e9c9e73e70.p\n",
      "DEBUG:__main__:Use config {'device': 'cpu', 'seed': False, 'model': 'temporal_fusion_transformer', 'data': {'save': '../data/save/', 'suppl': '../data/suppl/', 'train_path': '../data/jpx-tokyo-stock-exchange-prediction/train_files/', 'test_path': '../data/jpx-tokyo-stock-exchange-prediction/supplemental_files/', 'financials': 'financials.csv', 'stock_prices': 'stock_prices.csv', 'options': 'options.csv', 'secondary_stock_price': 'secondary_stock_prices.csv', 'trades': 'trades.csv', 'cosine': 'cosine_df.csv'}, 'rnn': {'sliding_window': {'max_prediction_length': 10, 'min_prediction_length': 10, 'max_encoder_length': 150, 'min_encoder_length': 150, 'batch_size': 64}, 'train_val_split': 1, 'related_stock': 2, 'manual_scale': True, 'hidden_size': 20, 'layers': 3, 'dropout': 0}, 'temporal_fusion_transformer': {'sliding_window': {'max_prediction_length': 5, 'min_prediction_length': 5, 'max_encoder_length': 150, 'min_encoder_length': 150, 'batch_size': 64}, 'train_val_split': 1, 'related_stock': 5, 'manual_scale': True, 'hidden_size': 16, 'lstm_layers': 2, 'dropout': 0.05, 'output_size': 7, 'attention_head_size': 4}, 'gmm': {'path': './cache/', 'n_clusters': 4}, 'optimizer': {'name': 'adam', 'epochs': 10, 'params': {'lr': 0.001, 'regularization': 0.0001}}}\n"
     ]
    }
   ],
   "source": [
    "\n",
    "\n",
    "config = load_config(config_file)\n",
    "\n",
    "model = config['model']\n",
    "model_config = config[model]\n",
    "\n",
    "# Create variables from config\n",
    "#  data loading\n",
    "save_folder = config['data']['save']\n",
    "train_file = config['data']['train_path'] + config['data']['stock_prices']\n",
    "test_file = config['data']['test_path'] + config['data']['stock_prices']\n",
    "#  TimeSeries settings\n",
    "max_prediction_length = model_config['sliding_window']['max_prediction_length']\n",
    "min_prediction_length = model_config['sliding_window']['min_prediction_length']\n",
    "max_encoder_length = model_config['sliding_window']['max_encoder_length']\n",
    "min_encoder_length = model_config['sliding_window']['min_encoder_length']\n",
    "batch_size = model_config['sliding_window']['batch_size']\n",
    "\n",
    "related_stocks = model_config['related_stock']\n",
    "train_val_split = model_config['train_val_split']\n",
    "scale = model_config['manual_scale']\n",
    "\n",
    "# define file name for saving StockPricesLoader with specific config\n",
    "hash_ = hashlib.md5(model_config.__str__().encode('utf-8')).hexdigest()\n",
    "export_file_name = f\"{save_folder}/export_{hash_}.p\"\n",
    "logger.debug(f'Export file {export_file_name}')\n",
    "\n",
    "logger.debug(f'Use config {config}')\n"
   ],
   "metadata": {
    "collapsed": false,
    "pycharm": {
     "name": "#%%\n"
    }
   }
  },
  {
   "cell_type": "markdown",
   "source": [
    "### Load"
   ],
   "metadata": {
    "collapsed": false,
    "pycharm": {
     "name": "#%% md\n"
    }
   }
  },
  {
   "cell_type": "code",
   "execution_count": 19,
   "outputs": [
    {
     "name": "stderr",
     "output_type": "stream",
     "text": [
      "INFO:__main__:../data/jpx-tokyo-stock-exchange-prediction/train_files/stock_prices.csv loaded. shape (2332531, 12)\n",
      "INFO:__main__:../data/jpx-tokyo-stock-exchange-prediction/supplemental_files/stock_prices.csv loaded. shape (112000, 12)\n"
     ]
    }
   ],
   "source": [
    "df_train_raw = pd.read_csv(train_file, parse_dates=['Date'])\n",
    "logger.info(f'{train_file} loaded. shape {df_train_raw.shape}')\n",
    "\n",
    "df_test_raw = pd.read_csv(test_file, parse_dates=['Date'])\n",
    "logger.info(f'{test_file} loaded. shape {df_test_raw.shape}')\n",
    "\n",
    "for df in [df_test_raw, df_train_raw]:\n",
    "    df['Timestamp'] = date_to_timestamp['1d'](df.Date.values.astype(np.int64)).astype(int)\n",
    "    df.SupervisionFlag = df.SupervisionFlag.astype('category')\n",
    "    df.SecuritiesCode = df.SecuritiesCode.astype(str)"
   ],
   "metadata": {
    "collapsed": false,
    "pycharm": {
     "name": "#%%\n"
    }
   }
  },
  {
   "cell_type": "markdown",
   "source": [
    "### Preprocess"
   ],
   "metadata": {
    "collapsed": false,
    "pycharm": {
     "name": "#%% md\n"
    }
   }
  },
  {
   "cell_type": "markdown",
   "source": [
    "#### Fill na & Sort"
   ],
   "metadata": {
    "collapsed": false,
    "pycharm": {
     "name": "#%% md\n"
    }
   }
  },
  {
   "cell_type": "code",
   "execution_count": 20,
   "outputs": [],
   "source": [
    "df_train_raw.sort_values(by=['SecuritiesCode', 'Timestamp'], inplace=True)\n",
    "df_train_raw.reset_index(drop=True, inplace=True)\n",
    "df_test_raw.sort_values(by=['SecuritiesCode', 'Timestamp'], inplace=True)\n",
    "df_test_raw.reset_index(drop=True, inplace=True)"
   ],
   "metadata": {
    "collapsed": false,
    "pycharm": {
     "name": "#%%\n"
    }
   }
  },
  {
   "cell_type": "code",
   "execution_count": 21,
   "outputs": [
    {
     "name": "stderr",
     "output_type": "stream",
     "text": [
      "INFO:__main__:ExpectedDividend filled with 0. other values filled with ffill\n"
     ]
    }
   ],
   "source": [
    "# Fill na\n",
    "\n",
    "df_train_raw.dropna(subset=['Target'], inplace=True)\n",
    "\n",
    "df_train_raw.ExpectedDividend.fillna(value=0, inplace=True)\n",
    "df_train_raw.loc[:, ['Open', 'High', 'Low', 'Close']] = df_train_raw.loc[:, ['Open', 'High', 'Low', 'Close']].fillna(method='ffill')\n",
    "\n",
    "df_test_raw.ExpectedDividend.fillna(value=0, inplace=True)\n",
    "df_test_raw.loc[:, ['Open', 'High', 'Low', 'Close']] = df_test_raw.loc[:, ['Open', 'High', 'Low', 'Close']].fillna(method='ffill')\n",
    "logger.info(f'ExpectedDividend filled with 0. other values filled with ffill')\n",
    "\n",
    "if df_train_raw.isna().sum(axis=0).any():\n",
    "    logger.warning('na values in train dataset')\n",
    "if df_test_raw.isna().sum(axis=0).any():\n",
    "    logger.warning('na values in test dataset')\n",
    "\n",
    "df_train, df_val = split_train_val_timeseries(df_train_raw, train_val_split=.95)\n",
    "df_test = df_test_raw.copy()\n",
    "\n"
   ],
   "metadata": {
    "collapsed": false,
    "pycharm": {
     "name": "#%%\n"
    }
   }
  },
  {
   "cell_type": "code",
   "execution_count": 22,
   "outputs": [],
   "source": [
    "df_train_ppc, df_val_ppc, df_test_ppc = df_train.copy(), df_val.copy(), df_test.copy()"
   ],
   "metadata": {
    "collapsed": false,
    "pycharm": {
     "name": "#%%\n"
    }
   }
  },
  {
   "cell_type": "markdown",
   "source": [
    "#### FIx adjusted price"
   ],
   "metadata": {
    "collapsed": false,
    "pycharm": {
     "name": "#%% md\n"
    }
   }
  },
  {
   "cell_type": "code",
   "execution_count": 23,
   "outputs": [
    {
     "name": "stderr",
     "output_type": "stream",
     "text": [
      "100%|██████████| 2000/2000 [00:03<00:00, 551.20it/s] \n",
      "100%|██████████| 2000/2000 [00:01<00:00, 1464.44it/s]\n",
      "100%|██████████| 2000/2000 [00:01<00:00, 1502.52it/s]\n"
     ]
    }
   ],
   "source": [
    "tqdm.pandas()\n",
    "\n",
    "cols_to_scale = ['Open', 'High', 'Low', 'Close']\n",
    "\n",
    "def fix_adjusted_price(x):\n",
    "    f = x[x.AdjustmentFactor != 1]\n",
    "    for ts, adj_f, in zip(f.Timestamp, f.AdjustmentFactor):\n",
    "        x.loc[(x.Timestamp <= ts), cols_to_scale] = x.loc[(x.Timestamp <= ts), cols_to_scale] * adj_f\n",
    "    return x\n",
    "\n",
    "df_train_ppc = df_train_ppc.groupby('SecuritiesCode').progress_apply(lambda x: fix_adjusted_price(x)).reset_index(drop=True)\n",
    "df_val_ppc = df_val_ppc.groupby('SecuritiesCode').progress_apply(lambda x: fix_adjusted_price(x)).reset_index(drop=True)\n",
    "df_test_ppc = df_test_ppc.groupby('SecuritiesCode').progress_apply(lambda x: fix_adjusted_price(x)).reset_index(drop=True)\n",
    "\n",
    "\n"
   ],
   "metadata": {
    "collapsed": false,
    "pycharm": {
     "name": "#%%\n"
    }
   }
  },
  {
   "cell_type": "code",
   "execution_count": 24,
   "outputs": [
    {
     "data": {
      "text/plain": "<Figure size 432x288 with 1 Axes>",
      "image/png": "[encoded data removed]"
     },
     "metadata": {
      "needs_background": "light"
     },
     "output_type": "display_data"
    },
    {
     "data": {
      "text/plain": "<Figure size 432x288 with 1 Axes>",
      "image/png": "[encoded data removed]"
     },
     "metadata": {
      "needs_background": "light"
     },
     "output_type": "display_data"
    }
   ],
   "source": [
    "import matplotlib.pyplot as plt\n",
    "\n",
    "f = df_train_ppc[df_train_ppc.AdjustmentFactor != 1]\n",
    "\n",
    "for sc in f.SecuritiesCode.unique()[2:4]:\n",
    "    plt.plot(df_train_raw[df_train_raw.SecuritiesCode == sc].Date, df_train_raw[df_train_raw.SecuritiesCode == sc].Close,\n",
    "             alpha=.5, label='not adjusted')\n",
    "    plt.plot(df_train_ppc[df_train_ppc.SecuritiesCode == sc].Date, df_train_ppc[df_train_ppc.SecuritiesCode == sc].Close,\n",
    "             label='adjusted')\n",
    "    plt.scatter(df_train_ppc[(df_train_ppc.SecuritiesCode == sc) & (df_train_ppc.AdjustmentFactor != 1)].Date,\n",
    "                df_train_ppc[(df_train_ppc.SecuritiesCode == sc) & (df_train_ppc.AdjustmentFactor != 1)].Close, s=20, c='r')\n",
    "    plt.legend()\n",
    "    plt.show()\n"
   ],
   "metadata": {
    "collapsed": false,
    "pycharm": {
     "name": "#%%\n"
    }
   }
  },
  {
   "cell_type": "markdown",
   "source": [
    "#### Scale"
   ],
   "metadata": {
    "collapsed": false,
    "pycharm": {
     "name": "#%% md\n"
    }
   }
  },
  {
   "cell_type": "code",
   "execution_count": 36,
   "outputs": [],
   "source": [
    "cols_to_scale = ['Open', 'High', 'Low', 'Close', 'Volume']\n",
    "scalers = {}\n",
    "\n",
    "def scale_col(col):\n",
    "    scalers[col] = train_scalers_on_timeseries(df_train, col=col)\n",
    "    scale_timeseries(df_train_ppc, scalers=scalers[col], col=col)\n",
    "    scale_timeseries(df_val_ppc, scalers=scalers[col], col=col)\n",
    "    scale_timeseries(df_test_ppc, scalers=scalers[col], col=col)\n",
    "\n",
    "for col in cols_to_scale:\n",
    "    scale_col(col)\n"
   ],
   "metadata": {
    "collapsed": false,
    "pycharm": {
     "name": "#%%\n"
    }
   }
  },
  {
   "cell_type": "markdown",
   "source": [
    "#### Fill missing dates\n",
    "Disabled since missing dates are not really missing. It most likely the stock market being closed."
   ],
   "metadata": {
    "collapsed": false,
    "pycharm": {
     "name": "#%% md\n"
    }
   }
  },
  {
   "cell_type": "code",
   "execution_count": 61,
   "outputs": [],
   "source": [
    "# FIll all dates\n",
    "\n",
    "# df_train_ppc = fill_missing_dates(\n",
    "#     df_train_ppc, date_col='Date', timestamp_col='Timestamp', grp_col='SecuritiesCode', freq='1d',\n",
    "#     fill_with_value={'ExpectedDividend': 0}\n",
    "# )\n",
    "#\n",
    "# df_val_ppc = fill_missing_dates(\n",
    "#     df_val_ppc, date_col='Date', timestamp_col='Timestamp', grp_col='SecuritiesCode', freq='1d',\n",
    "#     fill_with_value={'ExpectedDividend': 0}\n",
    "# )\n",
    "#\n",
    "# df_test_ppc = fill_missing_dates(\n",
    "#     df_test_ppc, date_col='Date', timestamp_col='Timestamp', grp_col='SecuritiesCode', freq='1d',\n",
    "#     fill_with_value={'ExpectedDividend': 0}\n",
    "# )"
   ],
   "metadata": {
    "collapsed": false,
    "pycharm": {
     "name": "#%%\n"
    }
   }
  },
  {
   "cell_type": "code",
   "execution_count": null,
   "outputs": [],
   "source": [
    "# Create timestamp for TimeSeriesDataset\n",
    "\n",
    "df_train_ppc['Timestamp_1'] = df_train_ppc.groupby('SecuritiesCode').Timestamp.apply(lambda x: pd.Series(range(1, len(x)+1))).reset_index(drop=True)\n",
    "df_val_ppc['Timestamp_1'] = df_val_ppc.groupby('SecuritiesCode').Timestamp.apply(lambda x: pd.Series(range(1, len(x)+1))).reset_index(drop=True)\n",
    "df_test_ppc['Timestamp_1'] = df_test_ppc.groupby('SecuritiesCode').Timestamp.apply(lambda x: pd.Series(range(1, len(x)+1))).reset_index(drop=True)"
   ],
   "metadata": {
    "collapsed": false,
    "pycharm": {
     "name": "#%%\n"
    }
   }
  },
  {
   "cell_type": "markdown",
   "source": [
    "#### Add previous timestamps to test set"
   ],
   "metadata": {
    "collapsed": false,
    "pycharm": {
     "name": "#%% md\n"
    }
   }
  },
  {
   "cell_type": "markdown",
   "source": [
    "#### Add previous timestamps to test set"
   ],
   "metadata": {
    "collapsed": false,
    "pycharm": {
     "name": "#%% md\n"
    }
   }
  },
  {
   "cell_type": "markdown",
   "source": [
    "##### Add history to val and test dataset so that they have material to work with when predicting"
   ],
   "metadata": {
    "collapsed": false,
    "pycharm": {
     "name": "#%% md\n"
    }
   }
  },
  {
   "cell_type": "code",
   "execution_count": 59,
   "outputs": [],
   "source": [
    "df_test_ppc['is_testing'] = True\n",
    "df_train_ppc['is_testing'] = False\n",
    "df_val_ppc['is_testing'] = False\n",
    "\n",
    "df_test_ppc['is_val'] = False\n",
    "df_train_ppc['is_val'] = False\n",
    "df_val_ppc['is_val'] = True\n",
    "\n",
    "\n",
    "#  Add previous dates to make use of them in the prediction\n",
    "df_val_ppc_ext = pd.concat([\n",
    "    df_train_ppc.groupby('SecuritiesCode').apply(lambda x: x.iloc[-max_encoder_length:]).reset_index(drop=True),\n",
    "    df_val_ppc\n",
    "]).sort_values(by=['SecuritiesCode', 'Timestamp']).reset_index(drop=True)\n",
    "\n",
    "\n",
    "#  Add previous dates to make use of them in the prediction\n",
    "df_test_ppc_ext = pd.concat([\n",
    "    df_val_ppc_ext.groupby('SecuritiesCode').apply(lambda x: x.iloc[-max_encoder_length:]).reset_index(drop=True),\n",
    "    df_test_ppc]\n",
    ").sort_values(by=['SecuritiesCode', 'Timestamp']).reset_index(drop=True)"
   ],
   "metadata": {
    "collapsed": false,
    "pycharm": {
     "name": "#%%\n"
    }
   }
  },
  {
   "cell_type": "code",
   "execution_count": 60,
   "outputs": [],
   "source": [
    "# #  Fill missing dates in test dataframe so that the behaviour of TimeSeriesDataSet is always the same.\n",
    "# df_test_ppc_ext = fill_missing_dates(\n",
    "#     df_test_ppc_ext, 'Date', 'Timestamp', 'SecuritiesCode', '1d',\n",
    "#     fill_with_value={'ExpectedDividend': 0, 'is_testing': False}\n",
    "# )\n",
    "#\n",
    "# #  Fill missing dates in val dataframe so that the behaviour of TimeSeriesDataSet is always the same.\n",
    "# df_val_ppc_ext = fill_missing_dates(\n",
    "#     df_val_ppc_ext, 'Date', 'Timestamp', 'SecuritiesCode', '1d',\n",
    "#     fill_with_value={'ExpectedDividend': 0, 'is_val': False}\n",
    "# )"
   ],
   "metadata": {
    "collapsed": false,
    "pycharm": {
     "name": "#%%\n"
    }
   }
  },
  {
   "cell_type": "markdown",
   "source": [
    "##### Extend days so that TimeSeriesDataSet iterate over the last actual item in test dataset."
   ],
   "metadata": {
    "collapsed": false,
    "pycharm": {
     "name": "#%% md\n"
    }
   }
  },
  {
   "cell_type": "code",
   "execution_count": 62,
   "outputs": [
    {
     "name": "stderr",
     "output_type": "stream",
     "text": [
      "WARNING:data_factory.preprocessing:This function is not ready to be used with something else than test set\n"
     ]
    }
   ],
   "source": [
    "df_test_ppc_ext = add_days(\n",
    "    df_test_ppc_ext,\n",
    "    days=max_prediction_length,\n",
    "    grp_col='SecuritiesCode',\n",
    "    timestamp_col='Timestamp',\n",
    "    date_col='Date'\n",
    ")"
   ],
   "metadata": {
    "collapsed": false,
    "pycharm": {
     "name": "#%%\n"
    }
   }
  },
  {
   "cell_type": "markdown",
   "source": [
    "### Export"
   ],
   "metadata": {
    "collapsed": false,
    "pycharm": {
     "name": "#%% md\n"
    }
   }
  },
  {
   "cell_type": "code",
   "execution_count": 64,
   "outputs": [],
   "source": [
    "from data_factory.prepared_data import PreparedData"
   ],
   "metadata": {
    "collapsed": false,
    "pycharm": {
     "name": "#%%\n"
    }
   }
  },
  {
   "cell_type": "code",
   "execution_count": 65,
   "outputs": [],
   "source": [
    "data = PreparedData(df_train_ppc, df_val_ppc_ext, df_test_ppc_ext, scalers)"
   ],
   "metadata": {
    "collapsed": false,
    "pycharm": {
     "name": "#%%\n"
    }
   }
  },
  {
   "cell_type": "code",
   "execution_count": 66,
   "outputs": [],
   "source": [
    "data.export('../data/save/preprocessed_data.pkl')"
   ],
   "metadata": {
    "collapsed": false,
    "pycharm": {
     "name": "#%%\n"
    }
   }
  },
  {
   "cell_type": "code",
   "execution_count": 32,
   "outputs": [],
   "source": [],
   "metadata": {
    "collapsed": false,
    "pycharm": {
     "name": "#%%\n"
    }
   }
  },
  {
   "cell_type": "code",
   "execution_count": 32,
   "outputs": [],
   "source": [],
   "metadata": {
    "collapsed": false,
    "pycharm": {
     "name": "#%%\n"
    }
   }
  },
  {
   "cell_type": "markdown",
   "source": [
    "#### Some checks"
   ],
   "metadata": {
    "collapsed": false,
    "pycharm": {
     "name": "#%% md\n"
    }
   }
  },
  {
   "cell_type": "code",
   "execution_count": 67,
   "outputs": [
    {
     "data": {
      "text/plain": "(422000, 422000)"
     },
     "execution_count": 67,
     "metadata": {},
     "output_type": "execute_result"
    }
   ],
   "source": [
    "df_test_ppc_ext.shape[0], df_test_ppc.shape[0] + (2000*max_encoder_length) + (2000*max_prediction_length)"
   ],
   "metadata": {
    "collapsed": false,
    "pycharm": {
     "name": "#%%\n"
    }
   }
  },
  {
   "cell_type": "code",
   "execution_count": 68,
   "outputs": [
    {
     "data": {
      "text/plain": "(416434, 416434)"
     },
     "execution_count": 68,
     "metadata": {},
     "output_type": "execute_result"
    }
   ],
   "source": [
    "df_val_ppc_ext.shape[0], df_val_ppc.shape[0] + (2000*max_encoder_length)"
   ],
   "metadata": {
    "collapsed": false,
    "pycharm": {
     "name": "#%%\n"
    }
   }
  }
 ],
 "metadata": {
  "kernelspec": {
   "display_name": "Python 3",
   "language": "python",
   "name": "python3"
  },
  "language_info": {
   "codemirror_mode": {
    "name": "ipython",
    "version": 2
   },
   "file_extension": ".py",
   "mimetype": "text/x-python",
   "name": "python",
   "nbconvert_exporter": "python",
   "pygments_lexer": "ipython2",
   "version": "2.7.6"
  }
 },
 "nbformat": 4,
 "nbformat_minor": 0
}